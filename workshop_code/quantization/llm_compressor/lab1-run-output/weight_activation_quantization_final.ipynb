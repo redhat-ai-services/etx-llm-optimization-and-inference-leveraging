{
 "cells": [
  {
   "cell_type": "markdown",
   "id": "7854d876-3cd1-4a18-bf9c-4c947166fd88",
   "metadata": {},
   "source": [
    "# Quantization of `granite-3.3-2b-instruct` model"
   ]
  },
  {
   "cell_type": "markdown",
   "id": "c1b258eb-3223-4594-860e-daae9d3a5c1d",
   "metadata": {},
   "source": [
    "Recall that our overall solution uses the quantized version of the model `granite-3.3-2b-instruct`. In this lab, we will be taking in the base model `granite-3.3-2b-instruct` and quantizing it to `W4A16` - which is fixed-point integer (INT) quantization scheme for weights and floating‑point for activations - to provide both memory savings (weight - INT4) and inference acceleration (activations - BF16) with `vLLM`"
   ]
  },
  {
   "cell_type": "markdown",
   "id": "7800f926-dc4c-42a1-84a7-03be28d7463f",
   "metadata": {},
   "source": [
    "**Note**: `W4A16` computation is supported on Nvidia GPUs with compute capability > 7.5 (Turing, Ampere, Ada Lovelace, Hopper).\n",
    "\n",
    "**Note**: The steps here will take around 20-30 minutes, depending on the connectivity. The most time consuming steps are the installation of llmcompressor (up to 5 mins) and the quantization step (which can take more anywhere between 10-15 mins)"
   ]
  },
  {
   "cell_type": "markdown",
   "id": "eef99081-3a8b-486c-9882-deb387c83850",
   "metadata": {},
   "source": [
    "## Setting up llm-compressor"
   ]
  },
  {
   "cell_type": "markdown",
   "id": "53691745",
   "metadata": {},
   "source": [
    "Installing `llmcompressor` may take a minute, depending on the bandwith available. Do note the versions of `transformer` library we would be using. There is a known issue (*torch.fx.proxy.TraceError: symbolically traced variables cannot be used as inputs to control flow*) with the usage of the latest transformer library (version `4.53.2` as of July 17, 2025) in combination with the latest version of llmcompressor (version `0.6.0`)."
   ]
  },
  {
   "cell_type": "code",
   "execution_count": 3,
   "id": "5037b244-10f5-4aac-981a-3a07864e0e42",
   "metadata": {},
   "outputs": [
    {
     "name": "stdout",
     "output_type": "stream",
     "text": [
      "\u001b[31mERROR: pip's dependency resolver does not currently take into account all the packages that are installed. This behaviour is the source of the following dependency conflicts.\n",
      "codeflare-sdk 0.27.0 requires pydantic<2, but you have pydantic 2.11.7 which is incompatible.\u001b[0m\u001b[31m\n",
      "\u001b[0m\n",
      "\u001b[1m[\u001b[0m\u001b[34;49mnotice\u001b[0m\u001b[1;39;49m]\u001b[0m\u001b[39;49m A new release of pip is available: \u001b[0m\u001b[31;49m24.2\u001b[0m\u001b[39;49m -> \u001b[0m\u001b[32;49m25.1.1\u001b[0m\n",
      "\u001b[1m[\u001b[0m\u001b[34;49mnotice\u001b[0m\u001b[1;39;49m]\u001b[0m\u001b[39;49m To update, run: \u001b[0m\u001b[32;49mpip install --upgrade pip\u001b[0m\n"
     ]
    }
   ],
   "source": [
    "!pip install -q llmcompressor==0.6.0 transformers==4.52.2"
   ]
  },
  {
   "cell_type": "markdown",
   "id": "1c484403-9fd6-489d-9912-8e7153c97749",
   "metadata": {},
   "source": [
    "Let's make sure we have installed the right versions installed"
   ]
  },
  {
   "cell_type": "code",
   "execution_count": 6,
   "id": "c2e9e9b1-1e04-4c1c-be37-617c489b2678",
   "metadata": {},
   "outputs": [
    {
     "name": "stdout",
     "output_type": "stream",
     "text": [
      "llmcompressor             0.6.0\n"
     ]
    }
   ],
   "source": [
    "!pip list | grep llmcompressor"
   ]
  },
  {
   "cell_type": "code",
   "execution_count": 7,
   "id": "e405cb5c-843d-4f12-8fbc-fa1e8db4f7bd",
   "metadata": {},
   "outputs": [
    {
     "name": "stdout",
     "output_type": "stream",
     "text": [
      "transformers              4.52.2\n"
     ]
    }
   ],
   "source": [
    "!pip list | grep transformer"
   ]
  },
  {
   "cell_type": "markdown",
   "id": "cd24bf14-c77b-4f07-851d-d70cc61646eb",
   "metadata": {},
   "source": [
    "## Let' start with the quantization of the model"
   ]
  },
  {
   "cell_type": "markdown",
   "id": "55327b5b-b309-4c23-a245-70d78d0955fc",
   "metadata": {},
   "source": [
    "There are 6 steps:\n",
    "1. Loading the model\n",
    "2. Choosing the quantization scheme and method\n",
    "3. Preparing the calibration data\n",
    "4. Applying quantization\n",
    "5. Saving the model\n",
    "6. Evaluation of accuracy in vLLM"
   ]
  },
  {
   "cell_type": "markdown",
   "id": "9aad553f-1f6f-4583-b280-6205930debe8",
   "metadata": {},
   "source": [
    "### Loading the model"
   ]
  },
  {
   "cell_type": "markdown",
   "id": "99299f19",
   "metadata": {},
   "source": [
    "Load the model using AutoModelForCausalLM for handling quantized saving and loading. The model can be loaded from HuggingFace directly as follows:"
   ]
  },
  {
   "cell_type": "code",
   "execution_count": 8,
   "id": "13ad8b7b-bb67-4d02-8cce-f80de7462f55",
   "metadata": {},
   "outputs": [
    {
     "data": {
      "application/vnd.jupyter.widget-view+json": {
       "model_id": "86fb7e2a274d459481c547f1979ee0db",
       "version_major": 2,
       "version_minor": 0
      },
      "text/plain": [
       "Loading checkpoint shards:   0%|          | 0/2 [00:00<?, ?it/s]"
      ]
     },
     "metadata": {},
     "output_type": "display_data"
    }
   ],
   "source": [
    "from transformers import AutoTokenizer, AutoModelForCausalLM\n",
    "\n",
    "MODEL_ID = \"ibm-granite/granite-3.2-2b-instruct\"\n",
    "model = AutoModelForCausalLM.from_pretrained(\n",
    "    MODEL_ID, device_map=\"auto\", torch_dtype=\"auto\",\n",
    ")\n",
    "tokenizer = AutoTokenizer.from_pretrained(MODEL_ID)"
   ]
  },
  {
   "cell_type": "markdown",
   "id": "9742346d-f226-4462-871a-bf4008a04091",
   "metadata": {},
   "source": [
    "### Prepare calibration data"
   ]
  },
  {
   "cell_type": "markdown",
   "id": "83bdaadd-11b8-4627-be3d-3a1ffa4c9f88",
   "metadata": {},
   "source": [
    "Prepare the calibration data. When quantizing weigths of a model to int4 using GPTQ, we need some sample data to run the GPTQ algorithms. As a result, it is very important to use calibration data that closely matches the type of data used in our deployment. If you have fine-tuned a model, using a sample of your training data is a good idea.\n",
    "\n",
    "In our case, we are quantizing an Instruction tuned generic model, so we will use the ultrachat dataset. Some best practices include:\n",
    "- 512 samples is a good place to start (increase if accuracy drops). We are going to use 256 to speed up the process.\n",
    "- 2048 sequence length is a good place to start\n",
    "- Use the chat template or instrucion template that the model is trained with\n"
   ]
  },
  {
   "cell_type": "code",
   "execution_count": 10,
   "id": "c9c3b1c6-f408-4ec5-81a0-3e8ae8019070",
   "metadata": {},
   "outputs": [],
   "source": [
    "from datasets import load_dataset\n",
    "\n",
    "NUM_CALIBRATION_SAMPLES = 512  # 1024\n",
    "DATASET_ID = \"neuralmagic/LLM_compression_calibration\"\n",
    "DATASET_SPLIT = \"train\"\n",
    "\n",
    "# Load dataset.\n",
    "ds = load_dataset(DATASET_ID, split=DATASET_SPLIT)\n",
    "ds = ds.shuffle(seed=42).select(range(NUM_CALIBRATION_SAMPLES))\n",
    "\n",
    "# Preprocess the data into the format the model is trained with.\n",
    "def preprocess(example):\n",
    "    return {\"text\": example[\"text\"]}\n",
    "ds = ds.map(preprocess)\n",
    "\n",
    "# Tokenize the data\n",
    "def tokenize(sample):\n",
    "    return tokenizer(\n",
    "        sample[\"text\"],\n",
    "        padding=False,\n",
    "        truncation=False,\n",
    "        add_special_tokens=True,\n",
    "    )\n",
    "ds = ds.map(tokenize, remove_columns=ds.column_names)"
   ]
  },
  {
   "cell_type": "markdown",
   "id": "7f2c889b-b827-4f8d-be34-2cc05bba48f1",
   "metadata": {},
   "source": [
    "With the dataset ready, we will now apply quantization.\n",
    "\n",
    "We first select the quantization algorithm. For W4A16, we want to:\n",
    "- Run SmoothQuant to make the activations easier to quantize\n",
    "- Quantize the weights to 4 bits with channelwise scales using GPTQ\n",
    "- Quantize the activations with dynamic per token strategy"
   ]
  },
  {
   "cell_type": "markdown",
   "id": "b1732929",
   "metadata": {},
   "source": [
    "**Note**: The quantization step takes a long time to complete due to the callibration requirements -- around 10 - 15 mins, depending on the GPU."
   ]
  },
  {
   "cell_type": "markdown",
   "id": "9593615d-db1d-4b80-bd94-93868a45cd01",
   "metadata": {},
   "source": [
    "### Imports and definitions"
   ]
  },
  {
   "cell_type": "markdown",
   "id": "4da32a22-49bd-4480-b0e0-b0e052190ce0",
   "metadata": {},
   "source": [
    "**GPTQModifier**: Applies Gentle Quantization (GPTQ) for weight-only quantization.\n",
    "\n",
    "**SmoothQuantModifier**: Prepares model activations for smoother quantization by scaling internal activations and weights.\n",
    "\n",
    "**oneshot**: High-level API that applies your quantization recipe in one go."
   ]
  },
  {
   "cell_type": "code",
   "execution_count": 11,
   "id": "94c06b7f-aedb-4e06-98cd-16aed3abd046",
   "metadata": {},
   "outputs": [],
   "source": [
    "from llmcompressor.modifiers.quantization import GPTQModifier\n",
    "from llmcompressor.transformers import oneshot\n",
    "from llmcompressor.modifiers.smoothquant import SmoothQuantModifier"
   ]
  },
  {
   "cell_type": "markdown",
   "id": "556fec70-e27b-4bab-8e6b-f6268636c5d9",
   "metadata": {},
   "source": [
    "### Hyperparameters"
   ]
  },
  {
   "cell_type": "markdown",
   "id": "12866bd2-e08a-419c-98c7-ced3e5853baa",
   "metadata": {},
   "source": [
    "Rationale\n",
    "- **DAMPENING_FRAC=0.1** gently prevents large Hessian-derived updates during quantization.\n",
    "- **OBSERVER=\"mse\"** measures quantization error by squared deviations, yielding well-rounded scales.\n",
    "- **GROUP_SIZE=128** determines group size for per-channel quantization; typical default usage."
   ]
  },
  {
   "cell_type": "code",
   "execution_count": 12,
   "id": "a35cf573-dc89-4b5d-9414-aad06992c2a4",
   "metadata": {},
   "outputs": [],
   "source": [
    "DAMPENING_FRAC = 0.1  # tapering adjustment to prevent extreme weight updates\n",
    "OBSERVER = \"mse\"  # denotes minmax - quantization layout based on mean‐squared‐error\n",
    "GROUP_SIZE = 128  # # per-channel grouping width for quantization"
   ]
  },
  {
   "cell_type": "markdown",
   "id": "f9cb39b8-9fe3-4a7e-adba-9a03ec033344",
   "metadata": {},
   "source": [
    "### Layer Mappings & Ignoring Heads"
   ]
  },
  {
   "cell_type": "markdown",
   "id": "422d76f3-61a5-474f-8b83-3005199b7122",
   "metadata": {},
   "source": [
    "Logic\n",
    "\n",
    "- **ignore=[\"lm_head\"]** skips quantization on the output layer to preserve final logits and maintain accuracy.\n",
    "- mappings link groups of linear projections (q, k, v, gating, up/down projections) with layernorm blocks—SmoothQuant uses these to shift and normalize activations across paired layers for better quant distribution."
   ]
  },
  {
   "cell_type": "code",
   "execution_count": 13,
   "id": "2f4604b8-b311-428f-838e-a50bfc041b7d",
   "metadata": {},
   "outputs": [],
   "source": [
    "ignore=[\"lm_head\"]\n",
    "mappings=[\n",
    "    [[\"re:.*q_proj\", \"re:.*k_proj\", \"re:.*v_proj\"], \"re:.*input_layernorm\"],\n",
    "    [[\"re:.*gate_proj\", \"re:.*up_proj\"], \"re:.*post_attention_layernorm\"],\n",
    "    [[\"re:.*down_proj\"], \"re:.*up_proj\"]\n",
    "]"
   ]
  },
  {
   "cell_type": "markdown",
   "id": "e8918c2e-d6f1-4e31-aa56-57b5a7c3f1df",
   "metadata": {},
   "source": [
    "### Recipe Definition"
   ]
  },
  {
   "cell_type": "markdown",
   "id": "b291ad00-d881-4efb-bba5-2b20d3b28a3d",
   "metadata": {},
   "source": [
    "**Workflow**\n",
    "\n",
    "- **SmoothQuantModifier**: Re-scales activations across paired layers before quantization to reduce outliers (smoothing_strength=0.7, high smoothing but not extreme).\n",
    "- **GPTQModifier**: Performs Weight-Only quantization (4-bit weights, 16-bit activations) on all Linear layers except those ignored, applying your dampening and observer settings. Scheme \"W4A16\" reduces model size while maintaining decent accuracy. "
   ]
  },
  {
   "cell_type": "code",
   "execution_count": 14,
   "id": "1abec4d4-a2a8-4e98-a813-b24e0aa8dc59",
   "metadata": {},
   "outputs": [],
   "source": [
    "recipe = [\n",
    "    SmoothQuantModifier(smoothing_strength=0.7, ignore=ignore, mappings=mappings),\n",
    "    GPTQModifier(\n",
    "        targets=[\"Linear\"],\n",
    "        ignore=ignore,\n",
    "        scheme=\"W4A16\",\n",
    "        dampening_frac=DAMPENING_FRAC,\n",
    "        observer=OBSERVER,\n",
    "    )\n",
    "]"
   ]
  },
  {
   "cell_type": "markdown",
   "id": "2c8d0ba1-ca11-406b-b232-2d6edc17fcc7",
   "metadata": {},
   "source": [
    "### Quantize in One Shot"
   ]
  },
  {
   "cell_type": "markdown",
   "id": "96817063-9eb7-4d4b-8ed9-19673f74967b",
   "metadata": {},
   "source": [
    "**How It Works**\n",
    "\n",
    "- Feeds dataset (calibration set) into your model to gather activation statistics.\n",
    "- Applies SmoothQuant rescaling followed by GPTQ quantization in a sequential per-layer manner.\n",
    "- **max_seq_length=8196** ensures large context coverage for calibration."
   ]
  },
  {
   "cell_type": "code",
   "execution_count": 15,
   "id": "62bf36ae-0774-4cee-8f99-c367c24303d4",
   "metadata": {},
   "outputs": [
    {
     "name": "stderr",
     "output_type": "stream",
     "text": [
      "/tmp/ipykernel_48/180673739.py:1: DeprecationWarning: `from llmcompressor.transformers import oneshot` is deprecated, please use `from llmcompressor import oneshot`.\n",
      "  oneshot(\n"
     ]
    },
    {
     "name": "stdout",
     "output_type": "stream",
     "text": [
      "2025-07-17T09:10:48.228683+0000 | reset | INFO - Compression lifecycle reset\n",
      "2025-07-17T09:10:48.231650+0000 | from_modifiers | INFO - Creating recipe from modifiers\n",
      "2025-07-17T09:10:49.561648+0000 | initialize | INFO - Compression lifecycle initialized for 1 modifiers\n",
      "2025-07-17T09:10:49.562336+0000 | IndependentPipeline | INFO - Inferred `SequentialPipeline` for `SmoothQuantModifier`\n"
     ]
    },
    {
     "name": "stderr",
     "output_type": "stream",
     "text": [
      "Preparing cache: 100%|██████████| 512/512 [00:00<00:00, 2115.70it/s]\n",
      "(1/41): Calibrating: 100%|██████████| 512/512 [00:01<00:00, 343.40it/s]"
     ]
    },
    {
     "name": "stdout",
     "output_type": "stream",
     "text": [
      "2025-07-17T09:10:53.857901+0000 | _apply_smoothing | INFO - Smoothing with model.layers.0.input_layernorm\n",
      "2025-07-17T09:10:53.875479+0000 | _apply_smoothing | INFO - Smoothing with model.layers.0.post_attention_layernorm\n",
      "2025-07-17T09:10:53.877259+0000 | _apply_smoothing | INFO - Smoothing with model.layers.0.mlp.up_proj\n"
     ]
    },
    {
     "name": "stderr",
     "output_type": "stream",
     "text": [
      "\n",
      "(1/41): Propagating: 100%|██████████| 512/512 [00:01<00:00, 300.24it/s]\n",
      "(2/41): Calibrating: 100%|██████████| 512/512 [00:01<00:00, 437.34it/s]"
     ]
    },
    {
     "name": "stdout",
     "output_type": "stream",
     "text": [
      "2025-07-17T09:10:56.953348+0000 | _apply_smoothing | INFO - Smoothing with model.layers.1.input_layernorm\n",
      "2025-07-17T09:10:56.954853+0000 | _apply_smoothing | INFO - Smoothing with model.layers.1.post_attention_layernorm\n",
      "2025-07-17T09:10:56.956287+0000 | _apply_smoothing | INFO - Smoothing with model.layers.1.mlp.up_proj\n"
     ]
    },
    {
     "name": "stderr",
     "output_type": "stream",
     "text": [
      "\n",
      "(2/41): Propagating: 100%|██████████| 512/512 [00:01<00:00, 466.31it/s]\n",
      "(3/41): Calibrating: 100%|██████████| 512/512 [00:01<00:00, 441.41it/s]"
     ]
    },
    {
     "name": "stdout",
     "output_type": "stream",
     "text": [
      "2025-07-17T09:10:59.248953+0000 | _apply_smoothing | INFO - Smoothing with model.layers.2.input_layernorm\n",
      "2025-07-17T09:10:59.250376+0000 | _apply_smoothing | INFO - Smoothing with model.layers.2.post_attention_layernorm\n",
      "2025-07-17T09:10:59.251826+0000 | _apply_smoothing | INFO - Smoothing with model.layers.2.mlp.up_proj\n"
     ]
    },
    {
     "name": "stderr",
     "output_type": "stream",
     "text": [
      "\n",
      "(3/41): Propagating: 100%|██████████| 512/512 [00:01<00:00, 475.07it/s]\n",
      "(4/41): Calibrating: 100%|██████████| 512/512 [00:01<00:00, 442.41it/s]"
     ]
    },
    {
     "name": "stdout",
     "output_type": "stream",
     "text": [
      "2025-07-17T09:11:01.538848+0000 | _apply_smoothing | INFO - Smoothing with model.layers.3.input_layernorm\n",
      "2025-07-17T09:11:01.540379+0000 | _apply_smoothing | INFO - Smoothing with model.layers.3.post_attention_layernorm\n",
      "2025-07-17T09:11:01.541775+0000 | _apply_smoothing | INFO - Smoothing with model.layers.3.mlp.up_proj\n"
     ]
    },
    {
     "name": "stderr",
     "output_type": "stream",
     "text": [
      "\n",
      "(4/41): Propagating: 100%|██████████| 512/512 [00:01<00:00, 472.91it/s]\n",
      "(5/41): Calibrating: 100%|██████████| 512/512 [00:01<00:00, 451.59it/s]"
     ]
    },
    {
     "name": "stdout",
     "output_type": "stream",
     "text": [
      "2025-07-17T09:11:03.820924+0000 | _apply_smoothing | INFO - Smoothing with model.layers.4.input_layernorm\n",
      "2025-07-17T09:11:03.822178+0000 | _apply_smoothing | INFO - Smoothing with model.layers.4.post_attention_layernorm\n",
      "2025-07-17T09:11:03.823551+0000 | _apply_smoothing | INFO - Smoothing with model.layers.4.mlp.up_proj\n"
     ]
    },
    {
     "name": "stderr",
     "output_type": "stream",
     "text": [
      "\n",
      "(5/41): Propagating: 100%|██████████| 512/512 [00:01<00:00, 472.12it/s]\n",
      "(6/41): Calibrating: 100%|██████████| 512/512 [00:01<00:00, 441.27it/s]"
     ]
    },
    {
     "name": "stdout",
     "output_type": "stream",
     "text": [
      "2025-07-17T09:11:06.117085+0000 | _apply_smoothing | INFO - Smoothing with model.layers.5.input_layernorm\n",
      "2025-07-17T09:11:06.118349+0000 | _apply_smoothing | INFO - Smoothing with model.layers.5.post_attention_layernorm\n",
      "2025-07-17T09:11:06.119738+0000 | _apply_smoothing | INFO - Smoothing with model.layers.5.mlp.up_proj\n"
     ]
    },
    {
     "name": "stderr",
     "output_type": "stream",
     "text": [
      "\n",
      "(6/41): Propagating: 100%|██████████| 512/512 [00:01<00:00, 472.82it/s]\n",
      "(7/41): Calibrating: 100%|██████████| 512/512 [00:01<00:00, 440.38it/s]"
     ]
    },
    {
     "name": "stdout",
     "output_type": "stream",
     "text": [
      "2025-07-17T09:11:08.408562+0000 | _apply_smoothing | INFO - Smoothing with model.layers.6.input_layernorm\n",
      "2025-07-17T09:11:08.409992+0000 | _apply_smoothing | INFO - Smoothing with model.layers.6.post_attention_layernorm\n",
      "2025-07-17T09:11:08.411390+0000 | _apply_smoothing | INFO - Smoothing with model.layers.6.mlp.up_proj\n"
     ]
    },
    {
     "name": "stderr",
     "output_type": "stream",
     "text": [
      "\n",
      "(7/41): Propagating: 100%|██████████| 512/512 [00:01<00:00, 468.20it/s]\n",
      "(8/41): Calibrating: 100%|██████████| 512/512 [00:01<00:00, 466.48it/s]"
     ]
    },
    {
     "name": "stdout",
     "output_type": "stream",
     "text": [
      "2025-07-17T09:11:10.643711+0000 | _apply_smoothing | INFO - Smoothing with model.layers.7.input_layernorm\n",
      "2025-07-17T09:11:10.645082+0000 | _apply_smoothing | INFO - Smoothing with model.layers.7.post_attention_layernorm\n",
      "2025-07-17T09:11:10.646389+0000 | _apply_smoothing | INFO - Smoothing with model.layers.7.mlp.up_proj\n"
     ]
    },
    {
     "name": "stderr",
     "output_type": "stream",
     "text": [
      "\n",
      "(8/41): Propagating: 100%|██████████| 512/512 [00:01<00:00, 470.75it/s]\n",
      "(9/41): Calibrating: 100%|██████████| 512/512 [00:01<00:00, 465.95it/s]"
     ]
    },
    {
     "name": "stdout",
     "output_type": "stream",
     "text": [
      "2025-07-17T09:11:12.897019+0000 | _apply_smoothing | INFO - Smoothing with model.layers.8.input_layernorm\n",
      "2025-07-17T09:11:12.898520+0000 | _apply_smoothing | INFO - Smoothing with model.layers.8.post_attention_layernorm\n",
      "2025-07-17T09:11:12.899852+0000 | _apply_smoothing | INFO - Smoothing with model.layers.8.mlp.up_proj\n"
     ]
    },
    {
     "name": "stderr",
     "output_type": "stream",
     "text": [
      "\n",
      "(9/41): Propagating: 100%|██████████| 512/512 [00:01<00:00, 470.78it/s]\n",
      "(10/41): Calibrating: 100%|██████████| 512/512 [00:01<00:00, 467.68it/s]"
     ]
    },
    {
     "name": "stdout",
     "output_type": "stream",
     "text": [
      "2025-07-17T09:11:15.143099+0000 | _apply_smoothing | INFO - Smoothing with model.layers.9.input_layernorm\n",
      "2025-07-17T09:11:15.144331+0000 | _apply_smoothing | INFO - Smoothing with model.layers.9.post_attention_layernorm\n",
      "2025-07-17T09:11:15.145665+0000 | _apply_smoothing | INFO - Smoothing with model.layers.9.mlp.up_proj\n"
     ]
    },
    {
     "name": "stderr",
     "output_type": "stream",
     "text": [
      "\n",
      "(10/41): Propagating: 100%|██████████| 512/512 [00:01<00:00, 470.43it/s]\n",
      "(11/41): Calibrating: 100%|██████████| 512/512 [00:01<00:00, 464.67it/s]"
     ]
    },
    {
     "name": "stdout",
     "output_type": "stream",
     "text": [
      "2025-07-17T09:11:17.391588+0000 | _apply_smoothing | INFO - Smoothing with model.layers.10.input_layernorm\n",
      "2025-07-17T09:11:17.392926+0000 | _apply_smoothing | INFO - Smoothing with model.layers.10.post_attention_layernorm\n",
      "2025-07-17T09:11:17.394324+0000 | _apply_smoothing | INFO - Smoothing with model.layers.10.mlp.up_proj\n"
     ]
    },
    {
     "name": "stderr",
     "output_type": "stream",
     "text": [
      "\n",
      "(11/41): Propagating: 100%|██████████| 512/512 [00:01<00:00, 471.82it/s]\n",
      "(12/41): Calibrating: 100%|██████████| 512/512 [00:01<00:00, 465.94it/s]"
     ]
    },
    {
     "name": "stdout",
     "output_type": "stream",
     "text": [
      "2025-07-17T09:11:19.612820+0000 | _apply_smoothing | INFO - Smoothing with model.layers.11.input_layernorm\n",
      "2025-07-17T09:11:19.614339+0000 | _apply_smoothing | INFO - Smoothing with model.layers.11.post_attention_layernorm\n",
      "2025-07-17T09:11:19.615680+0000 | _apply_smoothing | INFO - Smoothing with model.layers.11.mlp.up_proj\n"
     ]
    },
    {
     "name": "stderr",
     "output_type": "stream",
     "text": [
      "\n",
      "(12/41): Propagating: 100%|██████████| 512/512 [00:01<00:00, 470.80it/s]\n",
      "(13/41): Calibrating: 100%|██████████| 512/512 [00:01<00:00, 466.42it/s]"
     ]
    },
    {
     "name": "stdout",
     "output_type": "stream",
     "text": [
      "2025-07-17T09:11:21.834771+0000 | _apply_smoothing | INFO - Smoothing with model.layers.12.input_layernorm\n",
      "2025-07-17T09:11:21.836081+0000 | _apply_smoothing | INFO - Smoothing with model.layers.12.post_attention_layernorm\n",
      "2025-07-17T09:11:21.837403+0000 | _apply_smoothing | INFO - Smoothing with model.layers.12.mlp.up_proj\n"
     ]
    },
    {
     "name": "stderr",
     "output_type": "stream",
     "text": [
      "\n",
      "(13/41): Propagating: 100%|██████████| 512/512 [00:01<00:00, 470.42it/s]\n",
      "(14/41): Calibrating: 100%|██████████| 512/512 [00:01<00:00, 465.34it/s]"
     ]
    },
    {
     "name": "stdout",
     "output_type": "stream",
     "text": [
      "2025-07-17T09:11:24.085712+0000 | _apply_smoothing | INFO - Smoothing with model.layers.13.input_layernorm\n",
      "2025-07-17T09:11:24.087061+0000 | _apply_smoothing | INFO - Smoothing with model.layers.13.post_attention_layernorm\n",
      "2025-07-17T09:11:24.088498+0000 | _apply_smoothing | INFO - Smoothing with model.layers.13.mlp.up_proj\n"
     ]
    },
    {
     "name": "stderr",
     "output_type": "stream",
     "text": [
      "\n",
      "(14/41): Propagating: 100%|██████████| 512/512 [00:01<00:00, 470.53it/s]\n",
      "(15/41): Calibrating: 100%|██████████| 512/512 [00:01<00:00, 468.32it/s]"
     ]
    },
    {
     "name": "stdout",
     "output_type": "stream",
     "text": [
      "2025-07-17T09:11:26.308589+0000 | _apply_smoothing | INFO - Smoothing with model.layers.14.input_layernorm\n",
      "2025-07-17T09:11:26.310011+0000 | _apply_smoothing | INFO - Smoothing with model.layers.14.post_attention_layernorm\n",
      "2025-07-17T09:11:26.311375+0000 | _apply_smoothing | INFO - Smoothing with model.layers.14.mlp.up_proj\n"
     ]
    },
    {
     "name": "stderr",
     "output_type": "stream",
     "text": [
      "\n",
      "(15/41): Propagating: 100%|██████████| 512/512 [00:01<00:00, 475.07it/s]\n",
      "(16/41): Calibrating: 100%|██████████| 512/512 [00:01<00:00, 470.34it/s]"
     ]
    },
    {
     "name": "stdout",
     "output_type": "stream",
     "text": [
      "2025-07-17T09:11:28.584965+0000 | _apply_smoothing | INFO - Smoothing with model.layers.15.input_layernorm\n",
      "2025-07-17T09:11:28.586377+0000 | _apply_smoothing | INFO - Smoothing with model.layers.15.post_attention_layernorm\n",
      "2025-07-17T09:11:28.587720+0000 | _apply_smoothing | INFO - Smoothing with model.layers.15.mlp.up_proj\n"
     ]
    },
    {
     "name": "stderr",
     "output_type": "stream",
     "text": [
      "\n",
      "(16/41): Propagating: 100%|██████████| 512/512 [00:01<00:00, 474.16it/s]\n",
      "(17/41): Calibrating: 100%|██████████| 512/512 [00:01<00:00, 472.09it/s]"
     ]
    },
    {
     "name": "stdout",
     "output_type": "stream",
     "text": [
      "2025-07-17T09:11:30.812575+0000 | _apply_smoothing | INFO - Smoothing with model.layers.16.input_layernorm\n",
      "2025-07-17T09:11:30.814084+0000 | _apply_smoothing | INFO - Smoothing with model.layers.16.post_attention_layernorm\n",
      "2025-07-17T09:11:30.815313+0000 | _apply_smoothing | INFO - Smoothing with model.layers.16.mlp.up_proj\n"
     ]
    },
    {
     "name": "stderr",
     "output_type": "stream",
     "text": [
      "\n",
      "(17/41): Propagating: 100%|██████████| 512/512 [00:01<00:00, 475.54it/s]\n",
      "(18/41): Calibrating: 100%|██████████| 512/512 [00:01<00:00, 470.03it/s]"
     ]
    },
    {
     "name": "stdout",
     "output_type": "stream",
     "text": [
      "2025-07-17T09:11:33.041094+0000 | _apply_smoothing | INFO - Smoothing with model.layers.17.input_layernorm\n",
      "2025-07-17T09:11:33.042497+0000 | _apply_smoothing | INFO - Smoothing with model.layers.17.post_attention_layernorm\n",
      "2025-07-17T09:11:33.043710+0000 | _apply_smoothing | INFO - Smoothing with model.layers.17.mlp.up_proj\n"
     ]
    },
    {
     "name": "stderr",
     "output_type": "stream",
     "text": [
      "\n",
      "(18/41): Propagating: 100%|██████████| 512/512 [00:01<00:00, 472.77it/s]\n",
      "(19/41): Calibrating: 100%|██████████| 512/512 [00:01<00:00, 469.41it/s]"
     ]
    },
    {
     "name": "stdout",
     "output_type": "stream",
     "text": [
      "2025-07-17T09:11:35.250779+0000 | _apply_smoothing | INFO - Smoothing with model.layers.18.input_layernorm\n",
      "2025-07-17T09:11:35.252048+0000 | _apply_smoothing | INFO - Smoothing with model.layers.18.post_attention_layernorm\n",
      "2025-07-17T09:11:35.253381+0000 | _apply_smoothing | INFO - Smoothing with model.layers.18.mlp.up_proj\n"
     ]
    },
    {
     "name": "stderr",
     "output_type": "stream",
     "text": [
      "\n",
      "(19/41): Propagating: 100%|██████████| 512/512 [00:01<00:00, 472.16it/s]\n",
      "(20/41): Calibrating: 100%|██████████| 512/512 [00:01<00:00, 469.47it/s]"
     ]
    },
    {
     "name": "stdout",
     "output_type": "stream",
     "text": [
      "2025-07-17T09:11:37.488693+0000 | _apply_smoothing | INFO - Smoothing with model.layers.19.input_layernorm\n",
      "2025-07-17T09:11:37.490197+0000 | _apply_smoothing | INFO - Smoothing with model.layers.19.post_attention_layernorm\n",
      "2025-07-17T09:11:37.491564+0000 | _apply_smoothing | INFO - Smoothing with model.layers.19.mlp.up_proj\n"
     ]
    },
    {
     "name": "stderr",
     "output_type": "stream",
     "text": [
      "\n",
      "(20/41): Propagating: 100%|██████████| 512/512 [00:01<00:00, 473.76it/s]\n",
      "(21/41): Calibrating: 100%|██████████| 512/512 [00:01<00:00, 469.85it/s]"
     ]
    },
    {
     "name": "stdout",
     "output_type": "stream",
     "text": [
      "2025-07-17T09:11:39.729003+0000 | _apply_smoothing | INFO - Smoothing with model.layers.20.input_layernorm\n",
      "2025-07-17T09:11:39.730592+0000 | _apply_smoothing | INFO - Smoothing with model.layers.20.post_attention_layernorm\n",
      "2025-07-17T09:11:39.732024+0000 | _apply_smoothing | INFO - Smoothing with model.layers.20.mlp.up_proj\n"
     ]
    },
    {
     "name": "stderr",
     "output_type": "stream",
     "text": [
      "\n",
      "(21/41): Propagating: 100%|██████████| 512/512 [00:01<00:00, 442.98it/s]\n",
      "(22/41): Calibrating: 100%|██████████| 512/512 [00:01<00:00, 442.35it/s]"
     ]
    },
    {
     "name": "stdout",
     "output_type": "stream",
     "text": [
      "2025-07-17T09:11:42.094612+0000 | _apply_smoothing | INFO - Smoothing with model.layers.21.input_layernorm\n",
      "2025-07-17T09:11:42.096243+0000 | _apply_smoothing | INFO - Smoothing with model.layers.21.post_attention_layernorm\n",
      "2025-07-17T09:11:42.097643+0000 | _apply_smoothing | INFO - Smoothing with model.layers.21.mlp.up_proj\n"
     ]
    },
    {
     "name": "stderr",
     "output_type": "stream",
     "text": [
      "\n",
      "(22/41): Propagating: 100%|██████████| 512/512 [00:01<00:00, 472.34it/s]\n",
      "(23/41): Calibrating: 100%|██████████| 512/512 [00:01<00:00, 443.15it/s]"
     ]
    },
    {
     "name": "stdout",
     "output_type": "stream",
     "text": [
      "2025-07-17T09:11:44.384259+0000 | _apply_smoothing | INFO - Smoothing with model.layers.22.input_layernorm\n",
      "2025-07-17T09:11:44.385576+0000 | _apply_smoothing | INFO - Smoothing with model.layers.22.post_attention_layernorm\n"
     ]
    },
    {
     "name": "stderr",
     "output_type": "stream",
     "text": [
      "\n"
     ]
    },
    {
     "name": "stdout",
     "output_type": "stream",
     "text": [
      "2025-07-17T09:11:44.386859+0000 | _apply_smoothing | INFO - Smoothing with model.layers.22.mlp.up_proj\n"
     ]
    },
    {
     "name": "stderr",
     "output_type": "stream",
     "text": [
      "(23/41): Propagating: 100%|██████████| 512/512 [00:01<00:00, 474.54it/s]\n",
      "(24/41): Calibrating: 100%|██████████| 512/512 [00:01<00:00, 442.73it/s]"
     ]
    },
    {
     "name": "stdout",
     "output_type": "stream",
     "text": [
      "2025-07-17T09:11:46.673256+0000 | _apply_smoothing | INFO - Smoothing with model.layers.23.input_layernorm\n"
     ]
    },
    {
     "name": "stderr",
     "output_type": "stream",
     "text": [
      "\n"
     ]
    },
    {
     "name": "stdout",
     "output_type": "stream",
     "text": [
      "2025-07-17T09:11:46.674869+0000 | _apply_smoothing | INFO - Smoothing with model.layers.23.post_attention_layernorm\n",
      "2025-07-17T09:11:46.676078+0000 | _apply_smoothing | INFO - Smoothing with model.layers.23.mlp.up_proj\n"
     ]
    },
    {
     "name": "stderr",
     "output_type": "stream",
     "text": [
      "(24/41): Propagating: 100%|██████████| 512/512 [00:01<00:00, 473.57it/s]\n",
      "(25/41): Calibrating: 100%|██████████| 512/512 [00:01<00:00, 441.64it/s]"
     ]
    },
    {
     "name": "stdout",
     "output_type": "stream",
     "text": [
      "2025-07-17T09:11:48.975029+0000 | _apply_smoothing | INFO - Smoothing with model.layers.24.input_layernorm\n",
      "2025-07-17T09:11:48.976383+0000 | _apply_smoothing | INFO - Smoothing with model.layers.24.post_attention_layernorm\n",
      "2025-07-17T09:11:48.977710+0000 | _apply_smoothing | INFO - Smoothing with model.layers.24.mlp.up_proj\n"
     ]
    },
    {
     "name": "stderr",
     "output_type": "stream",
     "text": [
      "\n",
      "(25/41): Propagating: 100%|██████████| 512/512 [00:01<00:00, 472.72it/s]\n",
      "(26/41): Calibrating: 100%|██████████| 512/512 [00:01<00:00, 444.21it/s]"
     ]
    },
    {
     "name": "stdout",
     "output_type": "stream",
     "text": [
      "2025-07-17T09:11:51.266723+0000 | _apply_smoothing | INFO - Smoothing with model.layers.25.input_layernorm\n",
      "2025-07-17T09:11:51.268072+0000 | _apply_smoothing | INFO - Smoothing with model.layers.25.post_attention_layernorm\n",
      "2025-07-17T09:11:51.269437+0000 | _apply_smoothing | INFO - Smoothing with model.layers.25.mlp.up_proj\n"
     ]
    },
    {
     "name": "stderr",
     "output_type": "stream",
     "text": [
      "\n",
      "(26/41): Propagating: 100%|██████████| 512/512 [00:01<00:00, 472.21it/s]\n",
      "(27/41): Calibrating: 100%|██████████| 512/512 [00:01<00:00, 441.50it/s]"
     ]
    },
    {
     "name": "stdout",
     "output_type": "stream",
     "text": [
      "2025-07-17T09:11:53.576883+0000 | _apply_smoothing | INFO - Smoothing with model.layers.26.input_layernorm\n",
      "2025-07-17T09:11:53.578364+0000 | _apply_smoothing | INFO - Smoothing with model.layers.26.post_attention_layernorm\n",
      "2025-07-17T09:11:53.579759+0000 | _apply_smoothing | INFO - Smoothing with model.layers.26.mlp.up_proj\n"
     ]
    },
    {
     "name": "stderr",
     "output_type": "stream",
     "text": [
      "\n",
      "(27/41): Propagating: 100%|██████████| 512/512 [00:01<00:00, 472.31it/s]\n",
      "(28/41): Calibrating: 100%|██████████| 512/512 [00:01<00:00, 443.21it/s]"
     ]
    },
    {
     "name": "stdout",
     "output_type": "stream",
     "text": [
      "2025-07-17T09:11:55.867887+0000 | _apply_smoothing | INFO - Smoothing with model.layers.27.input_layernorm\n",
      "2025-07-17T09:11:55.869267+0000 | _apply_smoothing | INFO - Smoothing with model.layers.27.post_attention_layernorm\n",
      "2025-07-17T09:11:55.870516+0000 | _apply_smoothing | INFO - Smoothing with model.layers.27.mlp.up_proj\n"
     ]
    },
    {
     "name": "stderr",
     "output_type": "stream",
     "text": [
      "\n",
      "(28/41): Propagating: 100%|██████████| 512/512 [00:01<00:00, 466.81it/s]\n",
      "(29/41): Calibrating: 100%|██████████| 512/512 [00:01<00:00, 436.31it/s]"
     ]
    },
    {
     "name": "stdout",
     "output_type": "stream",
     "text": [
      "2025-07-17T09:11:58.193478+0000 | _apply_smoothing | INFO - Smoothing with model.layers.28.input_layernorm\n",
      "2025-07-17T09:11:58.194736+0000 | _apply_smoothing | INFO - Smoothing with model.layers.28.post_attention_layernorm\n",
      "2025-07-17T09:11:58.196060+0000 | _apply_smoothing | INFO - Smoothing with model.layers.28.mlp.up_proj\n"
     ]
    },
    {
     "name": "stderr",
     "output_type": "stream",
     "text": [
      "\n",
      "(29/41): Propagating: 100%|██████████| 512/512 [00:01<00:00, 468.42it/s]\n",
      "(30/41): Calibrating: 100%|██████████| 512/512 [00:01<00:00, 442.32it/s]"
     ]
    },
    {
     "name": "stdout",
     "output_type": "stream",
     "text": [
      "2025-07-17T09:12:00.493838+0000 | _apply_smoothing | INFO - Smoothing with model.layers.29.input_layernorm\n",
      "2025-07-17T09:12:00.495190+0000 | _apply_smoothing | INFO - Smoothing with model.layers.29.post_attention_layernorm\n",
      "2025-07-17T09:12:00.496546+0000 | _apply_smoothing | INFO - Smoothing with model.layers.29.mlp.up_proj\n"
     ]
    },
    {
     "name": "stderr",
     "output_type": "stream",
     "text": [
      "\n",
      "(30/41): Propagating: 100%|██████████| 512/512 [00:01<00:00, 468.10it/s]\n",
      "(31/41): Calibrating: 100%|██████████| 512/512 [00:01<00:00, 439.11it/s]"
     ]
    },
    {
     "name": "stdout",
     "output_type": "stream",
     "text": [
      "2025-07-17T09:12:02.810139+0000 | _apply_smoothing | INFO - Smoothing with model.layers.30.input_layernorm\n",
      "2025-07-17T09:12:02.811540+0000 | _apply_smoothing | INFO - Smoothing with model.layers.30.post_attention_layernorm\n",
      "2025-07-17T09:12:02.812758+0000 | _apply_smoothing | INFO - Smoothing with model.layers.30.mlp.up_proj\n"
     ]
    },
    {
     "name": "stderr",
     "output_type": "stream",
     "text": [
      "\n",
      "(31/41): Propagating: 100%|██████████| 512/512 [00:01<00:00, 468.49it/s]\n",
      "(32/41): Calibrating: 100%|██████████| 512/512 [00:01<00:00, 440.76it/s]"
     ]
    },
    {
     "name": "stdout",
     "output_type": "stream",
     "text": [
      "2025-07-17T09:12:05.120826+0000 | _apply_smoothing | INFO - Smoothing with model.layers.31.input_layernorm\n",
      "2025-07-17T09:12:05.122231+0000 | _apply_smoothing | INFO - Smoothing with model.layers.31.post_attention_layernorm\n",
      "2025-07-17T09:12:05.123496+0000 | _apply_smoothing | INFO - Smoothing with model.layers.31.mlp.up_proj\n"
     ]
    },
    {
     "name": "stderr",
     "output_type": "stream",
     "text": [
      "\n",
      "(32/41): Propagating: 100%|██████████| 512/512 [00:01<00:00, 467.29it/s]\n",
      "(33/41): Calibrating: 100%|██████████| 512/512 [00:01<00:00, 438.05it/s]"
     ]
    },
    {
     "name": "stdout",
     "output_type": "stream",
     "text": [
      "2025-07-17T09:12:07.443336+0000 | _apply_smoothing | INFO - Smoothing with model.layers.32.input_layernorm\n",
      "2025-07-17T09:12:07.444688+0000 | _apply_smoothing | INFO - Smoothing with model.layers.32.post_attention_layernorm\n",
      "2025-07-17T09:12:07.446032+0000 | _apply_smoothing | INFO - Smoothing with model.layers.32.mlp.up_proj\n"
     ]
    },
    {
     "name": "stderr",
     "output_type": "stream",
     "text": [
      "\n",
      "(33/41): Propagating: 100%|██████████| 512/512 [00:01<00:00, 470.18it/s]\n",
      "(34/41): Calibrating: 100%|██████████| 512/512 [00:01<00:00, 438.62it/s]"
     ]
    },
    {
     "name": "stdout",
     "output_type": "stream",
     "text": [
      "2025-07-17T09:12:09.763132+0000 | _apply_smoothing | INFO - Smoothing with model.layers.33.input_layernorm\n",
      "2025-07-17T09:12:09.764647+0000 | _apply_smoothing | INFO - Smoothing with model.layers.33.post_attention_layernorm\n",
      "2025-07-17T09:12:09.765842+0000 | _apply_smoothing | INFO - Smoothing with model.layers.33.mlp.up_proj\n"
     ]
    },
    {
     "name": "stderr",
     "output_type": "stream",
     "text": [
      "\n",
      "(34/41): Propagating: 100%|██████████| 512/512 [00:01<00:00, 467.56it/s]\n",
      "(35/41): Calibrating: 100%|██████████| 512/512 [00:01<00:00, 413.98it/s]"
     ]
    },
    {
     "name": "stdout",
     "output_type": "stream",
     "text": [
      "2025-07-17T09:12:12.158309+0000 | _apply_smoothing | INFO - Smoothing with model.layers.34.input_layernorm\n",
      "2025-07-17T09:12:12.159854+0000 | _apply_smoothing | INFO - Smoothing with model.layers.34.post_attention_layernorm\n",
      "2025-07-17T09:12:12.161081+0000 | _apply_smoothing | INFO - Smoothing with model.layers.34.mlp.up_proj\n"
     ]
    },
    {
     "name": "stderr",
     "output_type": "stream",
     "text": [
      "\n",
      "(35/41): Propagating: 100%|██████████| 512/512 [00:01<00:00, 468.87it/s]\n",
      "(36/41): Calibrating: 100%|██████████| 512/512 [00:01<00:00, 465.23it/s]"
     ]
    },
    {
     "name": "stdout",
     "output_type": "stream",
     "text": [
      "2025-07-17T09:12:14.419904+0000 | _apply_smoothing | INFO - Smoothing with model.layers.35.input_layernorm\n",
      "2025-07-17T09:12:14.421593+0000 | _apply_smoothing | INFO - Smoothing with model.layers.35.post_attention_layernorm\n",
      "2025-07-17T09:12:14.422906+0000 | _apply_smoothing | INFO - Smoothing with model.layers.35.mlp.up_proj\n"
     ]
    },
    {
     "name": "stderr",
     "output_type": "stream",
     "text": [
      "\n",
      "(36/41): Propagating: 100%|██████████| 512/512 [00:01<00:00, 473.88it/s]\n",
      "(37/41): Calibrating: 100%|██████████| 512/512 [00:01<00:00, 463.60it/s]"
     ]
    },
    {
     "name": "stdout",
     "output_type": "stream",
     "text": [
      "2025-07-17T09:12:16.671714+0000 | _apply_smoothing | INFO - Smoothing with model.layers.36.input_layernorm\n",
      "2025-07-17T09:12:16.673249+0000 | _apply_smoothing | INFO - Smoothing with model.layers.36.post_attention_layernorm\n",
      "2025-07-17T09:12:16.674507+0000 | _apply_smoothing | INFO - Smoothing with model.layers.36.mlp.up_proj\n"
     ]
    },
    {
     "name": "stderr",
     "output_type": "stream",
     "text": [
      "\n",
      "(37/41): Propagating: 100%|██████████| 512/512 [00:01<00:00, 467.36it/s]\n",
      "(38/41): Calibrating: 100%|██████████| 512/512 [00:01<00:00, 462.57it/s]"
     ]
    },
    {
     "name": "stdout",
     "output_type": "stream",
     "text": [
      "2025-07-17T09:12:18.943263+0000 | _apply_smoothing | INFO - Smoothing with model.layers.37.input_layernorm\n",
      "2025-07-17T09:12:18.944795+0000 | _apply_smoothing | INFO - Smoothing with model.layers.37.post_attention_layernorm\n",
      "2025-07-17T09:12:18.946137+0000 | _apply_smoothing | INFO - Smoothing with model.layers.37.mlp.up_proj\n"
     ]
    },
    {
     "name": "stderr",
     "output_type": "stream",
     "text": [
      "\n",
      "(38/41): Propagating: 100%|██████████| 512/512 [00:01<00:00, 468.46it/s]\n",
      "(39/41): Calibrating: 100%|██████████| 512/512 [00:01<00:00, 463.90it/s]"
     ]
    },
    {
     "name": "stdout",
     "output_type": "stream",
     "text": [
      "2025-07-17T09:12:21.208639+0000 | _apply_smoothing | INFO - Smoothing with model.layers.38.input_layernorm\n",
      "2025-07-17T09:12:21.210082+0000 | _apply_smoothing | INFO - Smoothing with model.layers.38.post_attention_layernorm\n",
      "2025-07-17T09:12:21.211463+0000 | _apply_smoothing | INFO - Smoothing with model.layers.38.mlp.up_proj\n"
     ]
    },
    {
     "name": "stderr",
     "output_type": "stream",
     "text": [
      "\n",
      "(39/41): Propagating: 100%|██████████| 512/512 [00:01<00:00, 471.91it/s]\n",
      "(40/41): Calibrating: 100%|██████████| 512/512 [00:01<00:00, 465.37it/s]"
     ]
    },
    {
     "name": "stdout",
     "output_type": "stream",
     "text": [
      "2025-07-17T09:12:23.460818+0000 | _apply_smoothing | INFO - Smoothing with model.layers.39.input_layernorm\n",
      "2025-07-17T09:12:23.462240+0000 | _apply_smoothing | INFO - Smoothing with model.layers.39.post_attention_layernorm\n",
      "2025-07-17T09:12:23.463593+0000 | _apply_smoothing | INFO - Smoothing with model.layers.39.mlp.up_proj\n"
     ]
    },
    {
     "name": "stderr",
     "output_type": "stream",
     "text": [
      "\n",
      "(40/41): Propagating: 100%|██████████| 512/512 [00:01<00:00, 469.22it/s]\n",
      "(41/41): Calibrating: 100%|██████████| 512/512 [00:01<00:00, 304.07it/s]\n",
      "(41/41): Propagating: 100%|██████████| 512/512 [00:01<00:00, 304.19it/s]\n"
     ]
    },
    {
     "name": "stdout",
     "output_type": "stream",
     "text": [
      "2025-07-17T09:12:28.093779+0000 | IndependentPipeline | INFO - Inferred `SequentialPipeline` for `GPTQModifier`\n"
     ]
    },
    {
     "name": "stderr",
     "output_type": "stream",
     "text": [
      "Preparing cache: 100%|██████████| 512/512 [00:00<00:00, 2169.90it/s]\n",
      "(1/41): Calibrating: 100%|██████████| 512/512 [00:07<00:00, 67.17it/s]"
     ]
    },
    {
     "name": "stdout",
     "output_type": "stream",
     "text": [
      "2025-07-17T09:12:38.183255+0000 | compress_modules | INFO - Quantizing model.layers.0.self_attn.q_proj using 512 samples\n"
     ]
    },
    {
     "name": "stderr",
     "output_type": "stream",
     "text": [
      "\n"
     ]
    },
    {
     "name": "stdout",
     "output_type": "stream",
     "text": [
      "2025-07-17T09:12:39.040645+0000 | compress | METRIC - time 0.86s\n",
      "2025-07-17T09:12:39.041504+0000 | compress | METRIC - error 25369.22\n",
      "2025-07-17T09:12:39.042480+0000 | compress | METRIC - GPU 0 | usage: 25.90% | total memory: 24 GB\n",
      "2025-07-17T09:12:39.043142+0000 | compress | METRIC - Compressed module size: 8.486912 MB\n",
      "2025-07-17T09:12:39.043840+0000 | compress_modules | INFO - Quantizing model.layers.0.self_attn.k_proj using 512 samples\n",
      "2025-07-17T09:12:39.851400+0000 | compress | METRIC - time 0.81s\n",
      "2025-07-17T09:12:39.852115+0000 | compress | METRIC - error 8632.69\n",
      "2025-07-17T09:12:39.852901+0000 | compress | METRIC - GPU 0 | usage: 25.90% | total memory: 24 GB\n",
      "2025-07-17T09:12:39.853438+0000 | compress | METRIC - Compressed module size: 2.121728 MB\n",
      "2025-07-17T09:12:39.854161+0000 | compress_modules | INFO - Quantizing model.layers.0.self_attn.v_proj using 512 samples\n",
      "2025-07-17T09:12:40.657667+0000 | compress | METRIC - time 0.80s\n",
      "2025-07-17T09:12:40.658578+0000 | compress | METRIC - error 2851.58\n",
      "2025-07-17T09:12:40.659340+0000 | compress | METRIC - GPU 0 | usage: 25.90% | total memory: 24 GB\n",
      "2025-07-17T09:12:40.659821+0000 | compress | METRIC - Compressed module size: 2.121728 MB\n",
      "2025-07-17T09:12:40.660620+0000 | compress_modules | INFO - Quantizing model.layers.0.self_attn.o_proj using 512 samples\n",
      "2025-07-17T09:12:41.471804+0000 | compress | METRIC - time 0.81s\n",
      "2025-07-17T09:12:41.472729+0000 | compress | METRIC - error 1017.33\n",
      "2025-07-17T09:12:41.473462+0000 | compress | METRIC - GPU 0 | usage: 25.90% | total memory: 24 GB\n",
      "2025-07-17T09:12:41.473874+0000 | compress | METRIC - Compressed module size: 8.486912 MB\n",
      "2025-07-17T09:12:41.474593+0000 | compress_modules | INFO - Quantizing model.layers.0.mlp.gate_proj using 512 samples\n",
      "2025-07-17T09:12:42.327342+0000 | compress | METRIC - time 0.85s\n",
      "2025-07-17T09:12:42.328259+0000 | compress | METRIC - error 11320.79\n",
      "2025-07-17T09:12:42.328993+0000 | compress | METRIC - GPU 0 | usage: 25.90% | total memory: 24 GB\n",
      "2025-07-17T09:12:42.329354+0000 | compress | METRIC - Compressed module size: 33.947648 MB\n",
      "2025-07-17T09:12:42.330098+0000 | compress_modules | INFO - Quantizing model.layers.0.mlp.up_proj using 512 samples\n",
      "2025-07-17T09:12:43.171503+0000 | compress | METRIC - time 0.84s\n",
      "2025-07-17T09:12:43.172390+0000 | compress | METRIC - error 203.40\n",
      "2025-07-17T09:12:43.173101+0000 | compress | METRIC - GPU 0 | usage: 25.90% | total memory: 24 GB\n",
      "2025-07-17T09:12:43.173643+0000 | compress | METRIC - Compressed module size: 33.947648 MB\n",
      "2025-07-17T09:12:43.174224+0000 | compress_modules | INFO - Quantizing model.layers.0.mlp.down_proj using 512 samples\n",
      "2025-07-17T09:12:46.644124+0000 | compress | METRIC - time 3.47s\n",
      "2025-07-17T09:12:46.645763+0000 | compress | METRIC - error 1613.23\n",
      "2025-07-17T09:12:46.646581+0000 | compress | METRIC - GPU 0 | usage: 25.90% | total memory: 24 GB\n",
      "2025-07-17T09:12:46.646973+0000 | compress | METRIC - Compressed module size: 33.947648 MB\n"
     ]
    },
    {
     "name": "stderr",
     "output_type": "stream",
     "text": [
      "(1/41): Propagating: 100%|██████████| 512/512 [00:01<00:00, 393.04it/s]\n",
      "(2/41): Calibrating: 100%|██████████| 512/512 [00:07<00:00, 67.88it/s]"
     ]
    },
    {
     "name": "stdout",
     "output_type": "stream",
     "text": [
      "2025-07-17T09:12:55.554970+0000 | compress_modules | INFO - Quantizing model.layers.1.self_attn.q_proj using 512 samples\n"
     ]
    },
    {
     "name": "stderr",
     "output_type": "stream",
     "text": [
      "\n"
     ]
    },
    {
     "name": "stdout",
     "output_type": "stream",
     "text": [
      "2025-07-17T09:12:56.369038+0000 | compress | METRIC - time 0.81s\n",
      "2025-07-17T09:12:56.369967+0000 | compress | METRIC - error 15232.86\n",
      "2025-07-17T09:12:56.370539+0000 | compress | METRIC - GPU 0 | usage: 25.07% | total memory: 24 GB\n",
      "2025-07-17T09:12:56.371152+0000 | compress | METRIC - Compressed module size: 8.486912 MB\n",
      "2025-07-17T09:12:56.371798+0000 | compress_modules | INFO - Quantizing model.layers.1.self_attn.k_proj using 512 samples\n",
      "2025-07-17T09:12:57.171643+0000 | compress | METRIC - time 0.80s\n",
      "2025-07-17T09:12:57.172587+0000 | compress | METRIC - error 17377.51\n",
      "2025-07-17T09:12:57.173394+0000 | compress | METRIC - GPU 0 | usage: 25.07% | total memory: 24 GB\n",
      "2025-07-17T09:12:57.173864+0000 | compress | METRIC - Compressed module size: 2.121728 MB\n",
      "2025-07-17T09:12:57.174701+0000 | compress_modules | INFO - Quantizing model.layers.1.self_attn.v_proj using 512 samples\n",
      "2025-07-17T09:12:57.993096+0000 | compress | METRIC - time 0.82s\n",
      "2025-07-17T09:12:57.993966+0000 | compress | METRIC - error 1644.35\n",
      "2025-07-17T09:12:57.994790+0000 | compress | METRIC - GPU 0 | usage: 25.07% | total memory: 24 GB\n",
      "2025-07-17T09:12:57.995244+0000 | compress | METRIC - Compressed module size: 2.121728 MB\n",
      "2025-07-17T09:12:57.996061+0000 | compress_modules | INFO - Quantizing model.layers.1.self_attn.o_proj using 512 samples\n",
      "2025-07-17T09:12:58.798299+0000 | compress | METRIC - time 0.80s\n",
      "2025-07-17T09:12:58.799204+0000 | compress | METRIC - error 423.86\n",
      "2025-07-17T09:12:58.800025+0000 | compress | METRIC - GPU 0 | usage: 25.07% | total memory: 24 GB\n",
      "2025-07-17T09:12:58.800491+0000 | compress | METRIC - Compressed module size: 8.486912 MB\n",
      "2025-07-17T09:12:58.801293+0000 | compress_modules | INFO - Quantizing model.layers.1.mlp.gate_proj using 512 samples\n",
      "2025-07-17T09:12:59.638113+0000 | compress | METRIC - time 0.84s\n",
      "2025-07-17T09:12:59.638941+0000 | compress | METRIC - error 13075.92\n",
      "2025-07-17T09:12:59.639765+0000 | compress | METRIC - GPU 0 | usage: 25.07% | total memory: 24 GB\n",
      "2025-07-17T09:12:59.640209+0000 | compress | METRIC - Compressed module size: 33.947648 MB\n",
      "2025-07-17T09:12:59.641066+0000 | compress_modules | INFO - Quantizing model.layers.1.mlp.up_proj using 512 samples\n",
      "2025-07-17T09:13:00.473523+0000 | compress | METRIC - time 0.83s\n",
      "2025-07-17T09:13:00.474374+0000 | compress | METRIC - error 209.57\n",
      "2025-07-17T09:13:00.475193+0000 | compress | METRIC - GPU 0 | usage: 25.07% | total memory: 24 GB\n",
      "2025-07-17T09:13:00.475660+0000 | compress | METRIC - Compressed module size: 33.947648 MB\n",
      "2025-07-17T09:13:00.476493+0000 | compress_modules | INFO - Quantizing model.layers.1.mlp.down_proj using 512 samples\n",
      "2025-07-17T09:13:03.938152+0000 | compress | METRIC - time 3.46s\n",
      "2025-07-17T09:13:03.939939+0000 | compress | METRIC - error 800.66\n",
      "2025-07-17T09:13:03.940639+0000 | compress | METRIC - GPU 0 | usage: 25.07% | total memory: 24 GB\n",
      "2025-07-17T09:13:03.941097+0000 | compress | METRIC - Compressed module size: 33.947648 MB\n"
     ]
    },
    {
     "name": "stderr",
     "output_type": "stream",
     "text": [
      "(2/41): Propagating: 100%|██████████| 512/512 [00:01<00:00, 470.10it/s]\n",
      "(3/41): Calibrating: 100%|██████████| 512/512 [00:07<00:00, 68.35it/s]"
     ]
    },
    {
     "name": "stdout",
     "output_type": "stream",
     "text": [
      "2025-07-17T09:13:12.538205+0000 | compress_modules | INFO - Quantizing model.layers.2.self_attn.q_proj using 512 samples\n"
     ]
    },
    {
     "name": "stderr",
     "output_type": "stream",
     "text": [
      "\n"
     ]
    },
    {
     "name": "stdout",
     "output_type": "stream",
     "text": [
      "2025-07-17T09:13:13.346470+0000 | compress | METRIC - time 0.81s\n",
      "2025-07-17T09:13:13.347439+0000 | compress | METRIC - error 16670.19\n",
      "2025-07-17T09:13:13.348243+0000 | compress | METRIC - GPU 0 | usage: 25.07% | total memory: 24 GB\n",
      "2025-07-17T09:13:13.348725+0000 | compress | METRIC - Compressed module size: 8.486912 MB\n",
      "2025-07-17T09:13:13.349555+0000 | compress_modules | INFO - Quantizing model.layers.2.self_attn.k_proj using 512 samples\n",
      "2025-07-17T09:13:14.136070+0000 | compress | METRIC - time 0.79s\n",
      "2025-07-17T09:13:14.137312+0000 | compress | METRIC - error 8583.50\n",
      "2025-07-17T09:13:14.138087+0000 | compress | METRIC - GPU 0 | usage: 25.07% | total memory: 24 GB\n",
      "2025-07-17T09:13:14.138585+0000 | compress | METRIC - Compressed module size: 2.121728 MB\n",
      "2025-07-17T09:13:14.139453+0000 | compress_modules | INFO - Quantizing model.layers.2.self_attn.v_proj using 512 samples\n",
      "2025-07-17T09:13:14.923982+0000 | compress | METRIC - time 0.78s\n",
      "2025-07-17T09:13:14.924881+0000 | compress | METRIC - error 1387.76\n",
      "2025-07-17T09:13:14.925756+0000 | compress | METRIC - GPU 0 | usage: 25.07% | total memory: 24 GB\n",
      "2025-07-17T09:13:14.926196+0000 | compress | METRIC - Compressed module size: 2.121728 MB\n",
      "2025-07-17T09:13:14.927056+0000 | compress_modules | INFO - Quantizing model.layers.2.self_attn.o_proj using 512 samples\n",
      "2025-07-17T09:13:15.725455+0000 | compress | METRIC - time 0.80s\n",
      "2025-07-17T09:13:15.726347+0000 | compress | METRIC - error 259.30\n",
      "2025-07-17T09:13:15.727216+0000 | compress | METRIC - GPU 0 | usage: 25.07% | total memory: 24 GB\n",
      "2025-07-17T09:13:15.727706+0000 | compress | METRIC - Compressed module size: 8.486912 MB\n",
      "2025-07-17T09:13:15.728519+0000 | compress_modules | INFO - Quantizing model.layers.2.mlp.gate_proj using 512 samples\n",
      "2025-07-17T09:13:16.561472+0000 | compress | METRIC - time 0.83s\n",
      "2025-07-17T09:13:16.562429+0000 | compress | METRIC - error 15098.88\n",
      "2025-07-17T09:13:16.563278+0000 | compress | METRIC - GPU 0 | usage: 25.07% | total memory: 24 GB\n",
      "2025-07-17T09:13:16.563752+0000 | compress | METRIC - Compressed module size: 33.947648 MB\n",
      "2025-07-17T09:13:16.564607+0000 | compress_modules | INFO - Quantizing model.layers.2.mlp.up_proj using 512 samples\n",
      "2025-07-17T09:13:17.391542+0000 | compress | METRIC - time 0.83s\n",
      "2025-07-17T09:13:17.392507+0000 | compress | METRIC - error 214.64\n",
      "2025-07-17T09:13:17.393298+0000 | compress | METRIC - GPU 0 | usage: 25.07% | total memory: 24 GB\n",
      "2025-07-17T09:13:17.393761+0000 | compress | METRIC - Compressed module size: 33.947648 MB\n",
      "2025-07-17T09:13:17.394603+0000 | compress_modules | INFO - Quantizing model.layers.2.mlp.down_proj using 512 samples\n",
      "2025-07-17T09:13:20.814462+0000 | compress | METRIC - time 3.42s\n",
      "2025-07-17T09:13:20.816328+0000 | compress | METRIC - error 729.94\n",
      "2025-07-17T09:13:20.817170+0000 | compress | METRIC - GPU 0 | usage: 25.07% | total memory: 24 GB\n",
      "2025-07-17T09:13:20.817623+0000 | compress | METRIC - Compressed module size: 33.947648 MB\n"
     ]
    },
    {
     "name": "stderr",
     "output_type": "stream",
     "text": [
      "(3/41): Propagating: 100%|██████████| 512/512 [00:01<00:00, 473.18it/s]\n",
      "(4/41): Calibrating: 100%|██████████| 512/512 [00:07<00:00, 68.48it/s]"
     ]
    },
    {
     "name": "stdout",
     "output_type": "stream",
     "text": [
      "2025-07-17T09:13:29.398301+0000 | compress_modules | INFO - Quantizing model.layers.3.self_attn.q_proj using 512 samples\n"
     ]
    },
    {
     "name": "stderr",
     "output_type": "stream",
     "text": [
      "\n"
     ]
    },
    {
     "name": "stdout",
     "output_type": "stream",
     "text": [
      "2025-07-17T09:13:30.208726+0000 | compress | METRIC - time 0.81s\n",
      "2025-07-17T09:13:30.209743+0000 | compress | METRIC - error 21516.20\n",
      "2025-07-17T09:13:30.210608+0000 | compress | METRIC - GPU 0 | usage: 25.07% | total memory: 24 GB\n",
      "2025-07-17T09:13:30.211085+0000 | compress | METRIC - Compressed module size: 8.486912 MB\n",
      "2025-07-17T09:13:30.211881+0000 | compress_modules | INFO - Quantizing model.layers.3.self_attn.k_proj using 512 samples\n",
      "2025-07-17T09:13:31.001804+0000 | compress | METRIC - time 0.79s\n",
      "2025-07-17T09:13:31.002756+0000 | compress | METRIC - error 9601.42\n",
      "2025-07-17T09:13:31.003687+0000 | compress | METRIC - GPU 0 | usage: 25.07% | total memory: 24 GB\n",
      "2025-07-17T09:13:31.004150+0000 | compress | METRIC - Compressed module size: 2.121728 MB\n",
      "2025-07-17T09:13:31.005044+0000 | compress_modules | INFO - Quantizing model.layers.3.self_attn.v_proj using 512 samples\n",
      "2025-07-17T09:13:31.814985+0000 | compress | METRIC - time 0.81s\n",
      "2025-07-17T09:13:31.815972+0000 | compress | METRIC - error 1361.14\n",
      "2025-07-17T09:13:31.816914+0000 | compress | METRIC - GPU 0 | usage: 25.07% | total memory: 24 GB\n",
      "2025-07-17T09:13:31.817583+0000 | compress | METRIC - Compressed module size: 2.121728 MB\n",
      "2025-07-17T09:13:31.818188+0000 | compress_modules | INFO - Quantizing model.layers.3.self_attn.o_proj using 512 samples\n",
      "2025-07-17T09:13:32.629389+0000 | compress | METRIC - time 0.81s\n",
      "2025-07-17T09:13:32.630367+0000 | compress | METRIC - error 223.24\n",
      "2025-07-17T09:13:32.631114+0000 | compress | METRIC - GPU 0 | usage: 25.07% | total memory: 24 GB\n",
      "2025-07-17T09:13:32.631520+0000 | compress | METRIC - Compressed module size: 8.486912 MB\n",
      "2025-07-17T09:13:32.632240+0000 | compress_modules | INFO - Quantizing model.layers.3.mlp.gate_proj using 512 samples\n",
      "2025-07-17T09:13:33.481110+0000 | compress | METRIC - time 0.85s\n",
      "2025-07-17T09:13:33.482053+0000 | compress | METRIC - error 13720.57\n",
      "2025-07-17T09:13:33.482884+0000 | compress | METRIC - GPU 0 | usage: 25.07% | total memory: 24 GB\n",
      "2025-07-17T09:13:33.483261+0000 | compress | METRIC - Compressed module size: 33.947648 MB\n",
      "2025-07-17T09:13:33.484028+0000 | compress_modules | INFO - Quantizing model.layers.3.mlp.up_proj using 512 samples\n",
      "2025-07-17T09:13:34.340201+0000 | compress | METRIC - time 0.86s\n",
      "2025-07-17T09:13:34.341238+0000 | compress | METRIC - error 205.66\n",
      "2025-07-17T09:13:34.341974+0000 | compress | METRIC - GPU 0 | usage: 25.07% | total memory: 24 GB\n",
      "2025-07-17T09:13:34.342354+0000 | compress | METRIC - Compressed module size: 33.947648 MB\n",
      "2025-07-17T09:13:34.343139+0000 | compress_modules | INFO - Quantizing model.layers.3.mlp.down_proj using 512 samples\n",
      "2025-07-17T09:13:37.868201+0000 | compress | METRIC - time 3.52s\n",
      "2025-07-17T09:13:37.870070+0000 | compress | METRIC - error 1851.90\n",
      "2025-07-17T09:13:37.870874+0000 | compress | METRIC - GPU 0 | usage: 25.07% | total memory: 24 GB\n",
      "2025-07-17T09:13:37.871267+0000 | compress | METRIC - Compressed module size: 33.947648 MB\n"
     ]
    },
    {
     "name": "stderr",
     "output_type": "stream",
     "text": [
      "(4/41): Propagating: 100%|██████████| 512/512 [00:01<00:00, 471.23it/s]\n",
      "(5/41): Calibrating: 100%|██████████| 512/512 [00:07<00:00, 68.76it/s]"
     ]
    },
    {
     "name": "stdout",
     "output_type": "stream",
     "text": [
      "2025-07-17T09:13:46.430781+0000 | compress_modules | INFO - Quantizing model.layers.4.self_attn.q_proj using 512 samples\n"
     ]
    },
    {
     "name": "stderr",
     "output_type": "stream",
     "text": [
      "\n"
     ]
    },
    {
     "name": "stdout",
     "output_type": "stream",
     "text": [
      "2025-07-17T09:13:47.253459+0000 | compress | METRIC - time 0.82s\n",
      "2025-07-17T09:13:47.254425+0000 | compress | METRIC - error 27894.97\n",
      "2025-07-17T09:13:47.255150+0000 | compress | METRIC - GPU 0 | usage: 25.07% | total memory: 24 GB\n",
      "2025-07-17T09:13:47.255760+0000 | compress | METRIC - Compressed module size: 8.486912 MB\n",
      "2025-07-17T09:13:47.256388+0000 | compress_modules | INFO - Quantizing model.layers.4.self_attn.k_proj using 512 samples\n",
      "2025-07-17T09:13:48.059260+0000 | compress | METRIC - time 0.80s\n",
      "2025-07-17T09:13:48.060490+0000 | compress | METRIC - error 12959.94\n",
      "2025-07-17T09:13:48.061073+0000 | compress | METRIC - GPU 0 | usage: 25.07% | total memory: 24 GB\n",
      "2025-07-17T09:13:48.061570+0000 | compress | METRIC - Compressed module size: 2.121728 MB\n",
      "2025-07-17T09:13:48.062334+0000 | compress_modules | INFO - Quantizing model.layers.4.self_attn.v_proj using 512 samples\n",
      "2025-07-17T09:13:48.867227+0000 | compress | METRIC - time 0.80s\n",
      "2025-07-17T09:13:48.868186+0000 | compress | METRIC - error 1773.73\n",
      "2025-07-17T09:13:48.868881+0000 | compress | METRIC - GPU 0 | usage: 25.07% | total memory: 24 GB\n",
      "2025-07-17T09:13:48.869342+0000 | compress | METRIC - Compressed module size: 2.121728 MB\n",
      "2025-07-17T09:13:48.870204+0000 | compress_modules | INFO - Quantizing model.layers.4.self_attn.o_proj using 512 samples\n",
      "2025-07-17T09:13:49.684374+0000 | compress | METRIC - time 0.81s\n",
      "2025-07-17T09:13:49.685307+0000 | compress | METRIC - error 195.14\n",
      "2025-07-17T09:13:49.685878+0000 | compress | METRIC - GPU 0 | usage: 25.07% | total memory: 24 GB\n",
      "2025-07-17T09:13:49.686315+0000 | compress | METRIC - Compressed module size: 8.486912 MB\n",
      "2025-07-17T09:13:49.687203+0000 | compress_modules | INFO - Quantizing model.layers.4.mlp.gate_proj using 512 samples\n",
      "2025-07-17T09:13:50.553448+0000 | compress | METRIC - time 0.87s\n",
      "2025-07-17T09:13:50.554602+0000 | compress | METRIC - error 13290.51\n",
      "2025-07-17T09:13:50.555279+0000 | compress | METRIC - GPU 0 | usage: 25.07% | total memory: 24 GB\n",
      "2025-07-17T09:13:50.555773+0000 | compress | METRIC - Compressed module size: 33.947648 MB\n",
      "2025-07-17T09:13:50.556543+0000 | compress_modules | INFO - Quantizing model.layers.4.mlp.up_proj using 512 samples\n",
      "2025-07-17T09:13:51.394947+0000 | compress | METRIC - time 0.84s\n",
      "2025-07-17T09:13:51.395952+0000 | compress | METRIC - error 203.22\n",
      "2025-07-17T09:13:51.396791+0000 | compress | METRIC - GPU 0 | usage: 25.07% | total memory: 24 GB\n",
      "2025-07-17T09:13:51.397396+0000 | compress | METRIC - Compressed module size: 33.947648 MB\n",
      "2025-07-17T09:13:51.398090+0000 | compress_modules | INFO - Quantizing model.layers.4.mlp.down_proj using 512 samples\n",
      "2025-07-17T09:13:54.833347+0000 | compress | METRIC - time 3.43s\n",
      "2025-07-17T09:13:54.835315+0000 | compress | METRIC - error 470.36\n",
      "2025-07-17T09:13:54.836016+0000 | compress | METRIC - GPU 0 | usage: 25.08% | total memory: 24 GB\n",
      "2025-07-17T09:13:54.836408+0000 | compress | METRIC - Compressed module size: 33.947648 MB\n"
     ]
    },
    {
     "name": "stderr",
     "output_type": "stream",
     "text": [
      "(5/41): Propagating: 100%|██████████| 512/512 [00:01<00:00, 474.45it/s]\n",
      "(6/41): Calibrating: 100%|██████████| 512/512 [00:07<00:00, 68.74it/s]"
     ]
    },
    {
     "name": "stdout",
     "output_type": "stream",
     "text": [
      "2025-07-17T09:14:03.404273+0000 | compress_modules | INFO - Quantizing model.layers.5.self_attn.q_proj using 512 samples\n"
     ]
    },
    {
     "name": "stderr",
     "output_type": "stream",
     "text": [
      "\n"
     ]
    },
    {
     "name": "stdout",
     "output_type": "stream",
     "text": [
      "2025-07-17T09:14:04.233150+0000 | compress | METRIC - time 0.83s\n",
      "2025-07-17T09:14:04.234195+0000 | compress | METRIC - error 28034.49\n",
      "2025-07-17T09:14:04.234970+0000 | compress | METRIC - GPU 0 | usage: 25.07% | total memory: 24 GB\n",
      "2025-07-17T09:14:04.235584+0000 | compress | METRIC - Compressed module size: 8.486912 MB\n",
      "2025-07-17T09:14:04.236206+0000 | compress_modules | INFO - Quantizing model.layers.5.self_attn.k_proj using 512 samples\n",
      "2025-07-17T09:14:05.039455+0000 | compress | METRIC - time 0.80s\n",
      "2025-07-17T09:14:05.040525+0000 | compress | METRIC - error 10033.96\n",
      "2025-07-17T09:14:05.041220+0000 | compress | METRIC - GPU 0 | usage: 25.07% | total memory: 24 GB\n",
      "2025-07-17T09:14:05.041612+0000 | compress | METRIC - Compressed module size: 2.121728 MB\n",
      "2025-07-17T09:14:05.042282+0000 | compress_modules | INFO - Quantizing model.layers.5.self_attn.v_proj using 512 samples\n",
      "2025-07-17T09:14:05.849610+0000 | compress | METRIC - time 0.81s\n",
      "2025-07-17T09:14:05.850622+0000 | compress | METRIC - error 1938.65\n",
      "2025-07-17T09:14:05.851316+0000 | compress | METRIC - GPU 0 | usage: 25.07% | total memory: 24 GB\n",
      "2025-07-17T09:14:05.851847+0000 | compress | METRIC - Compressed module size: 2.121728 MB\n",
      "2025-07-17T09:14:05.852548+0000 | compress_modules | INFO - Quantizing model.layers.5.self_attn.o_proj using 512 samples\n",
      "2025-07-17T09:14:06.665466+0000 | compress | METRIC - time 0.81s\n",
      "2025-07-17T09:14:06.666452+0000 | compress | METRIC - error 172.07\n",
      "2025-07-17T09:14:06.667133+0000 | compress | METRIC - GPU 0 | usage: 25.07% | total memory: 24 GB\n",
      "2025-07-17T09:14:06.667522+0000 | compress | METRIC - Compressed module size: 8.486912 MB\n",
      "2025-07-17T09:14:06.668380+0000 | compress_modules | INFO - Quantizing model.layers.5.mlp.gate_proj using 512 samples\n",
      "2025-07-17T09:14:07.534019+0000 | compress | METRIC - time 0.87s\n",
      "2025-07-17T09:14:07.534962+0000 | compress | METRIC - error 12739.31\n",
      "2025-07-17T09:14:07.535778+0000 | compress | METRIC - GPU 0 | usage: 25.07% | total memory: 24 GB\n",
      "2025-07-17T09:14:07.536210+0000 | compress | METRIC - Compressed module size: 33.947648 MB\n",
      "2025-07-17T09:14:07.537177+0000 | compress_modules | INFO - Quantizing model.layers.5.mlp.up_proj using 512 samples\n",
      "2025-07-17T09:14:08.401209+0000 | compress | METRIC - time 0.86s\n",
      "2025-07-17T09:14:08.402185+0000 | compress | METRIC - error 205.20\n",
      "2025-07-17T09:14:08.402952+0000 | compress | METRIC - GPU 0 | usage: 25.07% | total memory: 24 GB\n",
      "2025-07-17T09:14:08.403325+0000 | compress | METRIC - Compressed module size: 33.947648 MB\n",
      "2025-07-17T09:14:08.404116+0000 | compress_modules | INFO - Quantizing model.layers.5.mlp.down_proj using 512 samples\n",
      "2025-07-17T09:14:11.935298+0000 | compress | METRIC - time 3.53s\n",
      "2025-07-17T09:14:11.937227+0000 | compress | METRIC - error 490.10\n",
      "2025-07-17T09:14:11.938046+0000 | compress | METRIC - GPU 0 | usage: 25.07% | total memory: 24 GB\n",
      "2025-07-17T09:14:11.938552+0000 | compress | METRIC - Compressed module size: 33.947648 MB\n"
     ]
    },
    {
     "name": "stderr",
     "output_type": "stream",
     "text": [
      "(6/41): Propagating: 100%|██████████| 512/512 [00:01<00:00, 470.77it/s]\n",
      "(7/41): Calibrating: 100%|██████████| 512/512 [00:07<00:00, 68.73it/s]"
     ]
    },
    {
     "name": "stdout",
     "output_type": "stream",
     "text": [
      "2025-07-17T09:14:20.494887+0000 | compress_modules | INFO - Quantizing model.layers.6.self_attn.q_proj using 512 samples\n"
     ]
    },
    {
     "name": "stderr",
     "output_type": "stream",
     "text": [
      "\n"
     ]
    },
    {
     "name": "stdout",
     "output_type": "stream",
     "text": [
      "2025-07-17T09:14:21.318709+0000 | compress | METRIC - time 0.82s\n",
      "2025-07-17T09:14:21.319709+0000 | compress | METRIC - error 31429.44\n",
      "2025-07-17T09:14:21.320539+0000 | compress | METRIC - GPU 0 | usage: 25.07% | total memory: 24 GB\n",
      "2025-07-17T09:14:21.321116+0000 | compress | METRIC - Compressed module size: 8.486912 MB\n",
      "2025-07-17T09:14:21.321767+0000 | compress_modules | INFO - Quantizing model.layers.6.self_attn.k_proj using 512 samples\n",
      "2025-07-17T09:14:22.119177+0000 | compress | METRIC - time 0.80s\n",
      "2025-07-17T09:14:22.120159+0000 | compress | METRIC - error 10746.79\n",
      "2025-07-17T09:14:22.120931+0000 | compress | METRIC - GPU 0 | usage: 25.07% | total memory: 24 GB\n",
      "2025-07-17T09:14:22.121379+0000 | compress | METRIC - Compressed module size: 2.121728 MB\n",
      "2025-07-17T09:14:22.122147+0000 | compress_modules | INFO - Quantizing model.layers.6.self_attn.v_proj using 512 samples\n",
      "2025-07-17T09:14:22.919274+0000 | compress | METRIC - time 0.80s\n",
      "2025-07-17T09:14:22.920267+0000 | compress | METRIC - error 2443.41\n",
      "2025-07-17T09:14:22.921016+0000 | compress | METRIC - GPU 0 | usage: 25.07% | total memory: 24 GB\n",
      "2025-07-17T09:14:22.921603+0000 | compress | METRIC - Compressed module size: 2.121728 MB\n",
      "2025-07-17T09:14:22.922256+0000 | compress_modules | INFO - Quantizing model.layers.6.self_attn.o_proj using 512 samples\n",
      "2025-07-17T09:14:23.729661+0000 | compress | METRIC - time 0.81s\n",
      "2025-07-17T09:14:23.730651+0000 | compress | METRIC - error 147.43\n",
      "2025-07-17T09:14:23.731365+0000 | compress | METRIC - GPU 0 | usage: 25.07% | total memory: 24 GB\n",
      "2025-07-17T09:14:23.731793+0000 | compress | METRIC - Compressed module size: 8.486912 MB\n",
      "2025-07-17T09:14:23.732622+0000 | compress_modules | INFO - Quantizing model.layers.6.mlp.gate_proj using 512 samples\n",
      "2025-07-17T09:14:24.685160+0000 | compress | METRIC - time 0.95s\n",
      "2025-07-17T09:14:24.686117+0000 | compress | METRIC - error 12527.38\n",
      "2025-07-17T09:14:24.686844+0000 | compress | METRIC - GPU 0 | usage: 25.07% | total memory: 24 GB\n",
      "2025-07-17T09:14:24.687259+0000 | compress | METRIC - Compressed module size: 33.947648 MB\n",
      "2025-07-17T09:14:24.688047+0000 | compress_modules | INFO - Quantizing model.layers.6.mlp.up_proj using 512 samples\n",
      "2025-07-17T09:14:25.537574+0000 | compress | METRIC - time 0.85s\n",
      "2025-07-17T09:14:25.538634+0000 | compress | METRIC - error 216.59\n",
      "2025-07-17T09:14:25.539850+0000 | compress | METRIC - GPU 0 | usage: 25.07% | total memory: 24 GB\n",
      "2025-07-17T09:14:25.540403+0000 | compress | METRIC - Compressed module size: 33.947648 MB\n",
      "2025-07-17T09:14:25.541083+0000 | compress_modules | INFO - Quantizing model.layers.6.mlp.down_proj using 512 samples\n",
      "2025-07-17T09:14:29.047594+0000 | compress | METRIC - time 3.51s\n",
      "2025-07-17T09:14:29.049596+0000 | compress | METRIC - error 492.88\n",
      "2025-07-17T09:14:29.050346+0000 | compress | METRIC - GPU 0 | usage: 25.07% | total memory: 24 GB\n",
      "2025-07-17T09:14:29.050828+0000 | compress | METRIC - Compressed module size: 33.947648 MB\n"
     ]
    },
    {
     "name": "stderr",
     "output_type": "stream",
     "text": [
      "(7/41): Propagating: 100%|██████████| 512/512 [00:01<00:00, 470.92it/s]\n",
      "(8/41): Calibrating: 100%|██████████| 512/512 [00:07<00:00, 68.60it/s]"
     ]
    },
    {
     "name": "stdout",
     "output_type": "stream",
     "text": [
      "2025-07-17T09:14:37.622722+0000 | compress_modules | INFO - Quantizing model.layers.7.self_attn.q_proj using 512 samples\n"
     ]
    },
    {
     "name": "stderr",
     "output_type": "stream",
     "text": [
      "\n"
     ]
    },
    {
     "name": "stdout",
     "output_type": "stream",
     "text": [
      "2025-07-17T09:14:38.447828+0000 | compress | METRIC - time 0.82s\n",
      "2025-07-17T09:14:38.448815+0000 | compress | METRIC - error 32248.95\n",
      "2025-07-17T09:14:38.449802+0000 | compress | METRIC - GPU 0 | usage: 25.07% | total memory: 24 GB\n",
      "2025-07-17T09:14:38.450322+0000 | compress | METRIC - Compressed module size: 8.486912 MB\n",
      "2025-07-17T09:14:38.451203+0000 | compress_modules | INFO - Quantizing model.layers.7.self_attn.k_proj using 512 samples\n",
      "2025-07-17T09:14:39.254256+0000 | compress | METRIC - time 0.80s\n",
      "2025-07-17T09:14:39.255239+0000 | compress | METRIC - error 10452.95\n",
      "2025-07-17T09:14:39.256094+0000 | compress | METRIC - GPU 0 | usage: 25.07% | total memory: 24 GB\n",
      "2025-07-17T09:14:39.256542+0000 | compress | METRIC - Compressed module size: 2.121728 MB\n",
      "2025-07-17T09:14:39.257500+0000 | compress_modules | INFO - Quantizing model.layers.7.self_attn.v_proj using 512 samples\n",
      "2025-07-17T09:14:40.060874+0000 | compress | METRIC - time 0.80s\n",
      "2025-07-17T09:14:40.061915+0000 | compress | METRIC - error 1791.47\n",
      "2025-07-17T09:14:40.135695+0000 | compress | METRIC - GPU 0 | usage: 25.07% | total memory: 24 GB\n",
      "2025-07-17T09:14:40.136210+0000 | compress | METRIC - Compressed module size: 2.121728 MB\n",
      "2025-07-17T09:14:40.137171+0000 | compress_modules | INFO - Quantizing model.layers.7.self_attn.o_proj using 512 samples\n",
      "2025-07-17T09:14:40.951205+0000 | compress | METRIC - time 0.81s\n",
      "2025-07-17T09:14:40.952186+0000 | compress | METRIC - error 133.26\n",
      "2025-07-17T09:14:40.952938+0000 | compress | METRIC - GPU 0 | usage: 25.07% | total memory: 24 GB\n",
      "2025-07-17T09:14:40.953376+0000 | compress | METRIC - Compressed module size: 8.486912 MB\n",
      "2025-07-17T09:14:40.954147+0000 | compress_modules | INFO - Quantizing model.layers.7.mlp.gate_proj using 512 samples\n",
      "2025-07-17T09:14:41.810245+0000 | compress | METRIC - time 0.86s\n",
      "2025-07-17T09:14:41.811242+0000 | compress | METRIC - error 11786.04\n",
      "2025-07-17T09:14:41.811958+0000 | compress | METRIC - GPU 0 | usage: 25.07% | total memory: 24 GB\n",
      "2025-07-17T09:14:41.812408+0000 | compress | METRIC - Compressed module size: 33.947648 MB\n",
      "2025-07-17T09:14:41.813172+0000 | compress_modules | INFO - Quantizing model.layers.7.mlp.up_proj using 512 samples\n",
      "2025-07-17T09:14:42.669425+0000 | compress | METRIC - time 0.86s\n",
      "2025-07-17T09:14:42.670374+0000 | compress | METRIC - error 223.80\n",
      "2025-07-17T09:14:42.671535+0000 | compress | METRIC - GPU 0 | usage: 25.07% | total memory: 24 GB\n",
      "2025-07-17T09:14:42.672110+0000 | compress | METRIC - Compressed module size: 33.947648 MB\n",
      "2025-07-17T09:14:42.672732+0000 | compress_modules | INFO - Quantizing model.layers.7.mlp.down_proj using 512 samples\n",
      "2025-07-17T09:14:46.202796+0000 | compress | METRIC - time 3.53s\n",
      "2025-07-17T09:14:46.204831+0000 | compress | METRIC - error 598.01\n",
      "2025-07-17T09:14:46.205827+0000 | compress | METRIC - GPU 0 | usage: 25.07% | total memory: 24 GB\n",
      "2025-07-17T09:14:46.206324+0000 | compress | METRIC - Compressed module size: 33.947648 MB\n"
     ]
    },
    {
     "name": "stderr",
     "output_type": "stream",
     "text": [
      "(8/41): Propagating: 100%|██████████| 512/512 [00:01<00:00, 470.27it/s]\n",
      "(9/41): Calibrating: 100%|██████████| 512/512 [00:07<00:00, 68.54it/s]"
     ]
    },
    {
     "name": "stdout",
     "output_type": "stream",
     "text": [
      "2025-07-17T09:14:54.791891+0000 | compress_modules | INFO - Quantizing model.layers.8.self_attn.q_proj using 512 samples\n"
     ]
    },
    {
     "name": "stderr",
     "output_type": "stream",
     "text": [
      "\n"
     ]
    },
    {
     "name": "stdout",
     "output_type": "stream",
     "text": [
      "2025-07-17T09:14:55.614717+0000 | compress | METRIC - time 0.82s\n",
      "2025-07-17T09:14:55.615793+0000 | compress | METRIC - error 26889.49\n",
      "2025-07-17T09:14:55.616710+0000 | compress | METRIC - GPU 0 | usage: 25.07% | total memory: 24 GB\n",
      "2025-07-17T09:14:55.617191+0000 | compress | METRIC - Compressed module size: 8.486912 MB\n",
      "2025-07-17T09:14:55.617995+0000 | compress_modules | INFO - Quantizing model.layers.8.self_attn.k_proj using 512 samples\n",
      "2025-07-17T09:14:56.428056+0000 | compress | METRIC - time 0.81s\n",
      "2025-07-17T09:14:56.429103+0000 | compress | METRIC - error 10940.04\n",
      "2025-07-17T09:14:56.430394+0000 | compress | METRIC - GPU 0 | usage: 25.07% | total memory: 24 GB\n",
      "2025-07-17T09:14:56.430817+0000 | compress | METRIC - Compressed module size: 2.121728 MB\n",
      "2025-07-17T09:14:56.431550+0000 | compress_modules | INFO - Quantizing model.layers.8.self_attn.v_proj using 512 samples\n",
      "2025-07-17T09:14:57.234893+0000 | compress | METRIC - time 0.80s\n",
      "2025-07-17T09:14:57.235880+0000 | compress | METRIC - error 2401.90\n",
      "2025-07-17T09:14:57.236607+0000 | compress | METRIC - GPU 0 | usage: 25.07% | total memory: 24 GB\n",
      "2025-07-17T09:14:57.237133+0000 | compress | METRIC - Compressed module size: 2.121728 MB\n",
      "2025-07-17T09:14:57.237850+0000 | compress_modules | INFO - Quantizing model.layers.8.self_attn.o_proj using 512 samples\n",
      "2025-07-17T09:14:58.059166+0000 | compress | METRIC - time 0.82s\n",
      "2025-07-17T09:14:58.060157+0000 | compress | METRIC - error 247.55\n",
      "2025-07-17T09:14:58.061114+0000 | compress | METRIC - GPU 0 | usage: 25.07% | total memory: 24 GB\n",
      "2025-07-17T09:14:58.061605+0000 | compress | METRIC - Compressed module size: 8.486912 MB\n",
      "2025-07-17T09:14:58.062598+0000 | compress_modules | INFO - Quantizing model.layers.8.mlp.gate_proj using 512 samples\n",
      "2025-07-17T09:14:58.911483+0000 | compress | METRIC - time 0.85s\n",
      "2025-07-17T09:14:58.912570+0000 | compress | METRIC - error 15914.64\n",
      "2025-07-17T09:14:58.913528+0000 | compress | METRIC - GPU 0 | usage: 25.07% | total memory: 24 GB\n",
      "2025-07-17T09:14:58.913988+0000 | compress | METRIC - Compressed module size: 33.947648 MB\n",
      "2025-07-17T09:14:58.914920+0000 | compress_modules | INFO - Quantizing model.layers.8.mlp.up_proj using 512 samples\n",
      "2025-07-17T09:14:59.752740+0000 | compress | METRIC - time 0.84s\n",
      "2025-07-17T09:14:59.753747+0000 | compress | METRIC - error 233.98\n",
      "2025-07-17T09:14:59.754634+0000 | compress | METRIC - GPU 0 | usage: 25.07% | total memory: 24 GB\n",
      "2025-07-17T09:14:59.755092+0000 | compress | METRIC - Compressed module size: 33.947648 MB\n",
      "2025-07-17T09:14:59.756093+0000 | compress_modules | INFO - Quantizing model.layers.8.mlp.down_proj using 512 samples\n",
      "2025-07-17T09:15:03.188794+0000 | compress | METRIC - time 3.43s\n",
      "2025-07-17T09:15:03.190820+0000 | compress | METRIC - error 2920562.50\n",
      "2025-07-17T09:15:03.191799+0000 | compress | METRIC - GPU 0 | usage: 25.07% | total memory: 24 GB\n",
      "2025-07-17T09:15:03.192333+0000 | compress | METRIC - Compressed module size: 33.947648 MB\n"
     ]
    },
    {
     "name": "stderr",
     "output_type": "stream",
     "text": [
      "(9/41): Propagating: 100%|██████████| 512/512 [00:01<00:00, 469.18it/s]\n",
      "(10/41): Calibrating: 100%|██████████| 512/512 [00:07<00:00, 68.16it/s]"
     ]
    },
    {
     "name": "stdout",
     "output_type": "stream",
     "text": [
      "2025-07-17T09:15:11.821833+0000 | compress_modules | INFO - Quantizing model.layers.9.self_attn.q_proj using 512 samples\n"
     ]
    },
    {
     "name": "stderr",
     "output_type": "stream",
     "text": [
      "\n"
     ]
    },
    {
     "name": "stdout",
     "output_type": "stream",
     "text": [
      "2025-07-17T09:15:12.651138+0000 | compress | METRIC - time 0.83s\n",
      "2025-07-17T09:15:12.652165+0000 | compress | METRIC - error 36968.02\n",
      "2025-07-17T09:15:12.653021+0000 | compress | METRIC - GPU 0 | usage: 25.07% | total memory: 24 GB\n",
      "2025-07-17T09:15:12.653499+0000 | compress | METRIC - Compressed module size: 8.486912 MB\n",
      "2025-07-17T09:15:12.654263+0000 | compress_modules | INFO - Quantizing model.layers.9.self_attn.k_proj using 512 samples\n",
      "2025-07-17T09:15:13.456170+0000 | compress | METRIC - time 0.80s\n",
      "2025-07-17T09:15:13.457325+0000 | compress | METRIC - error 13299.96\n",
      "2025-07-17T09:15:13.458196+0000 | compress | METRIC - GPU 0 | usage: 25.07% | total memory: 24 GB\n",
      "2025-07-17T09:15:13.458694+0000 | compress | METRIC - Compressed module size: 2.121728 MB\n",
      "2025-07-17T09:15:13.459679+0000 | compress_modules | INFO - Quantizing model.layers.9.self_attn.v_proj using 512 samples\n",
      "2025-07-17T09:15:14.258400+0000 | compress | METRIC - time 0.80s\n",
      "2025-07-17T09:15:14.259475+0000 | compress | METRIC - error 1524.38\n",
      "2025-07-17T09:15:14.260357+0000 | compress | METRIC - GPU 0 | usage: 25.07% | total memory: 24 GB\n",
      "2025-07-17T09:15:14.261057+0000 | compress | METRIC - Compressed module size: 2.121728 MB\n",
      "2025-07-17T09:15:14.261809+0000 | compress_modules | INFO - Quantizing model.layers.9.self_attn.o_proj using 512 samples\n",
      "2025-07-17T09:15:15.071087+0000 | compress | METRIC - time 0.81s\n",
      "2025-07-17T09:15:15.072034+0000 | compress | METRIC - error 194.48\n",
      "2025-07-17T09:15:15.072803+0000 | compress | METRIC - GPU 0 | usage: 25.07% | total memory: 24 GB\n",
      "2025-07-17T09:15:15.073319+0000 | compress | METRIC - Compressed module size: 8.486912 MB\n",
      "2025-07-17T09:15:15.073957+0000 | compress_modules | INFO - Quantizing model.layers.9.mlp.gate_proj using 512 samples\n",
      "2025-07-17T09:15:15.915830+0000 | compress | METRIC - time 0.84s\n",
      "2025-07-17T09:15:15.916771+0000 | compress | METRIC - error 10532.50\n",
      "2025-07-17T09:15:15.917628+0000 | compress | METRIC - GPU 0 | usage: 25.07% | total memory: 24 GB\n",
      "2025-07-17T09:15:15.918152+0000 | compress | METRIC - Compressed module size: 33.947648 MB\n",
      "2025-07-17T09:15:15.919075+0000 | compress_modules | INFO - Quantizing model.layers.9.mlp.up_proj using 512 samples\n",
      "2025-07-17T09:15:16.764373+0000 | compress | METRIC - time 0.84s\n",
      "2025-07-17T09:15:16.765403+0000 | compress | METRIC - error 213.23\n",
      "2025-07-17T09:15:16.766259+0000 | compress | METRIC - GPU 0 | usage: 25.07% | total memory: 24 GB\n",
      "2025-07-17T09:15:16.766752+0000 | compress | METRIC - Compressed module size: 33.947648 MB\n",
      "2025-07-17T09:15:16.767676+0000 | compress_modules | INFO - Quantizing model.layers.9.mlp.down_proj using 512 samples\n",
      "2025-07-17T09:15:20.305982+0000 | compress | METRIC - time 3.54s\n",
      "2025-07-17T09:15:20.308015+0000 | compress | METRIC - error 562.87\n",
      "2025-07-17T09:15:20.308990+0000 | compress | METRIC - GPU 0 | usage: 25.07% | total memory: 24 GB\n",
      "2025-07-17T09:15:20.309530+0000 | compress | METRIC - Compressed module size: 33.947648 MB\n"
     ]
    },
    {
     "name": "stderr",
     "output_type": "stream",
     "text": [
      "(10/41): Propagating: 100%|██████████| 512/512 [00:01<00:00, 467.15it/s]\n",
      "(11/41): Calibrating: 100%|██████████| 512/512 [00:07<00:00, 67.95it/s]"
     ]
    },
    {
     "name": "stdout",
     "output_type": "stream",
     "text": [
      "2025-07-17T09:15:28.968847+0000 | compress_modules | INFO - Quantizing model.layers.10.self_attn.q_proj using 512 samples\n"
     ]
    },
    {
     "name": "stderr",
     "output_type": "stream",
     "text": [
      "\n"
     ]
    },
    {
     "name": "stdout",
     "output_type": "stream",
     "text": [
      "2025-07-17T09:15:29.806764+0000 | compress | METRIC - time 0.84s\n",
      "2025-07-17T09:15:29.807751+0000 | compress | METRIC - error 32465.08\n",
      "2025-07-17T09:15:29.808508+0000 | compress | METRIC - GPU 0 | usage: 25.07% | total memory: 24 GB\n",
      "2025-07-17T09:15:29.808942+0000 | compress | METRIC - Compressed module size: 8.486912 MB\n",
      "2025-07-17T09:15:29.809719+0000 | compress_modules | INFO - Quantizing model.layers.10.self_attn.k_proj using 512 samples\n",
      "2025-07-17T09:15:30.623535+0000 | compress | METRIC - time 0.81s\n",
      "2025-07-17T09:15:30.624564+0000 | compress | METRIC - error 11748.45\n",
      "2025-07-17T09:15:30.625258+0000 | compress | METRIC - GPU 0 | usage: 25.07% | total memory: 24 GB\n",
      "2025-07-17T09:15:30.625710+0000 | compress | METRIC - Compressed module size: 2.121728 MB\n",
      "2025-07-17T09:15:30.626501+0000 | compress_modules | INFO - Quantizing model.layers.10.self_attn.v_proj using 512 samples\n",
      "2025-07-17T09:15:31.437996+0000 | compress | METRIC - time 0.81s\n",
      "2025-07-17T09:15:31.438953+0000 | compress | METRIC - error 2180.01\n",
      "2025-07-17T09:15:31.439697+0000 | compress | METRIC - GPU 0 | usage: 25.07% | total memory: 24 GB\n",
      "2025-07-17T09:15:31.440242+0000 | compress | METRIC - Compressed module size: 2.121728 MB\n",
      "2025-07-17T09:15:31.440953+0000 | compress_modules | INFO - Quantizing model.layers.10.self_attn.o_proj using 512 samples\n",
      "2025-07-17T09:15:32.255133+0000 | compress | METRIC - time 0.81s\n",
      "2025-07-17T09:15:32.256115+0000 | compress | METRIC - error 207.83\n",
      "2025-07-17T09:15:32.256784+0000 | compress | METRIC - GPU 0 | usage: 25.07% | total memory: 24 GB\n",
      "2025-07-17T09:15:32.257272+0000 | compress | METRIC - Compressed module size: 8.486912 MB\n",
      "2025-07-17T09:15:32.257880+0000 | compress_modules | INFO - Quantizing model.layers.10.mlp.gate_proj using 512 samples\n",
      "2025-07-17T09:15:33.096102+0000 | compress | METRIC - time 0.84s\n",
      "2025-07-17T09:15:33.097110+0000 | compress | METRIC - error 11633.22\n",
      "2025-07-17T09:15:33.097766+0000 | compress | METRIC - GPU 0 | usage: 25.07% | total memory: 24 GB\n",
      "2025-07-17T09:15:33.098133+0000 | compress | METRIC - Compressed module size: 33.947648 MB\n",
      "2025-07-17T09:15:33.098927+0000 | compress_modules | INFO - Quantizing model.layers.10.mlp.up_proj using 512 samples\n",
      "2025-07-17T09:15:33.930311+0000 | compress | METRIC - time 0.83s\n",
      "2025-07-17T09:15:33.931449+0000 | compress | METRIC - error 233.80\n",
      "2025-07-17T09:15:33.932005+0000 | compress | METRIC - GPU 0 | usage: 25.07% | total memory: 24 GB\n",
      "2025-07-17T09:15:33.932377+0000 | compress | METRIC - Compressed module size: 33.947648 MB\n",
      "2025-07-17T09:15:33.933231+0000 | compress_modules | INFO - Quantizing model.layers.10.mlp.down_proj using 512 samples\n",
      "2025-07-17T09:15:37.381542+0000 | compress | METRIC - time 3.45s\n",
      "2025-07-17T09:15:37.383594+0000 | compress | METRIC - error 644.44\n",
      "2025-07-17T09:15:37.384335+0000 | compress | METRIC - GPU 0 | usage: 25.07% | total memory: 24 GB\n",
      "2025-07-17T09:15:37.384745+0000 | compress | METRIC - Compressed module size: 33.947648 MB\n"
     ]
    },
    {
     "name": "stderr",
     "output_type": "stream",
     "text": [
      "(11/41): Propagating: 100%|██████████| 512/512 [00:01<00:00, 471.66it/s]\n",
      "(12/41): Calibrating: 100%|██████████| 512/512 [00:07<00:00, 67.70it/s]"
     ]
    },
    {
     "name": "stdout",
     "output_type": "stream",
     "text": [
      "2025-07-17T09:15:46.059122+0000 | compress_modules | INFO - Quantizing model.layers.11.self_attn.q_proj using 512 samples\n"
     ]
    },
    {
     "name": "stderr",
     "output_type": "stream",
     "text": [
      "\n"
     ]
    },
    {
     "name": "stdout",
     "output_type": "stream",
     "text": [
      "2025-07-17T09:15:46.871560+0000 | compress | METRIC - time 0.81s\n",
      "2025-07-17T09:15:46.872605+0000 | compress | METRIC - error 31204.64\n",
      "2025-07-17T09:15:46.873103+0000 | compress | METRIC - GPU 0 | usage: 25.07% | total memory: 24 GB\n",
      "2025-07-17T09:15:46.873483+0000 | compress | METRIC - Compressed module size: 8.486912 MB\n",
      "2025-07-17T09:15:46.874396+0000 | compress_modules | INFO - Quantizing model.layers.11.self_attn.k_proj using 512 samples\n",
      "2025-07-17T09:15:47.660329+0000 | compress | METRIC - time 0.79s\n",
      "2025-07-17T09:15:47.661304+0000 | compress | METRIC - error 12479.69\n",
      "2025-07-17T09:15:47.662052+0000 | compress | METRIC - GPU 0 | usage: 25.07% | total memory: 24 GB\n",
      "2025-07-17T09:15:47.662461+0000 | compress | METRIC - Compressed module size: 2.121728 MB\n",
      "2025-07-17T09:15:47.663157+0000 | compress_modules | INFO - Quantizing model.layers.11.self_attn.v_proj using 512 samples\n",
      "2025-07-17T09:15:48.448815+0000 | compress | METRIC - time 0.79s\n",
      "2025-07-17T09:15:48.449781+0000 | compress | METRIC - error 1750.06\n",
      "2025-07-17T09:15:48.450458+0000 | compress | METRIC - GPU 0 | usage: 25.07% | total memory: 24 GB\n",
      "2025-07-17T09:15:48.450811+0000 | compress | METRIC - Compressed module size: 2.121728 MB\n",
      "2025-07-17T09:15:48.451601+0000 | compress_modules | INFO - Quantizing model.layers.11.self_attn.o_proj using 512 samples\n",
      "2025-07-17T09:15:49.254765+0000 | compress | METRIC - time 0.80s\n",
      "2025-07-17T09:15:49.255808+0000 | compress | METRIC - error 307.59\n",
      "2025-07-17T09:15:49.256495+0000 | compress | METRIC - GPU 0 | usage: 25.07% | total memory: 24 GB\n",
      "2025-07-17T09:15:49.256997+0000 | compress | METRIC - Compressed module size: 8.486912 MB\n",
      "2025-07-17T09:15:49.257647+0000 | compress_modules | INFO - Quantizing model.layers.11.mlp.gate_proj using 512 samples\n",
      "2025-07-17T09:15:50.082296+0000 | compress | METRIC - time 0.82s\n",
      "2025-07-17T09:15:50.083226+0000 | compress | METRIC - error 9404.11\n",
      "2025-07-17T09:15:50.083948+0000 | compress | METRIC - GPU 0 | usage: 25.07% | total memory: 24 GB\n",
      "2025-07-17T09:15:50.084322+0000 | compress | METRIC - Compressed module size: 33.947648 MB\n",
      "2025-07-17T09:15:50.085101+0000 | compress_modules | INFO - Quantizing model.layers.11.mlp.up_proj using 512 samples\n",
      "2025-07-17T09:15:50.915215+0000 | compress | METRIC - time 0.83s\n",
      "2025-07-17T09:15:50.916265+0000 | compress | METRIC - error 224.40\n",
      "2025-07-17T09:15:50.917001+0000 | compress | METRIC - GPU 0 | usage: 25.07% | total memory: 24 GB\n",
      "2025-07-17T09:15:50.917396+0000 | compress | METRIC - Compressed module size: 33.947648 MB\n",
      "2025-07-17T09:15:50.918182+0000 | compress_modules | INFO - Quantizing model.layers.11.mlp.down_proj using 512 samples\n",
      "2025-07-17T09:15:54.361447+0000 | compress | METRIC - time 3.44s\n",
      "2025-07-17T09:15:54.363464+0000 | compress | METRIC - error 710.25\n",
      "2025-07-17T09:15:54.364259+0000 | compress | METRIC - GPU 0 | usage: 25.07% | total memory: 24 GB\n",
      "2025-07-17T09:15:54.364684+0000 | compress | METRIC - Compressed module size: 33.947648 MB\n"
     ]
    },
    {
     "name": "stderr",
     "output_type": "stream",
     "text": [
      "(12/41): Propagating: 100%|██████████| 512/512 [00:01<00:00, 469.42it/s]\n",
      "(13/41): Calibrating: 100%|██████████| 512/512 [00:07<00:00, 67.20it/s]"
     ]
    },
    {
     "name": "stdout",
     "output_type": "stream",
     "text": [
      "2025-07-17T09:16:03.100483+0000 | compress_modules | INFO - Quantizing model.layers.12.self_attn.q_proj using 512 samples\n"
     ]
    },
    {
     "name": "stderr",
     "output_type": "stream",
     "text": [
      "\n"
     ]
    },
    {
     "name": "stdout",
     "output_type": "stream",
     "text": [
      "2025-07-17T09:16:03.927443+0000 | compress | METRIC - time 0.83s\n",
      "2025-07-17T09:16:03.928554+0000 | compress | METRIC - error 46924.11\n",
      "2025-07-17T09:16:03.929377+0000 | compress | METRIC - GPU 0 | usage: 25.08% | total memory: 24 GB\n",
      "2025-07-17T09:16:03.929866+0000 | compress | METRIC - Compressed module size: 8.486912 MB\n",
      "2025-07-17T09:16:03.930753+0000 | compress_modules | INFO - Quantizing model.layers.12.self_attn.k_proj using 512 samples\n",
      "2025-07-17T09:16:04.741484+0000 | compress | METRIC - time 0.81s\n",
      "2025-07-17T09:16:04.742562+0000 | compress | METRIC - error 23056.03\n",
      "2025-07-17T09:16:04.743182+0000 | compress | METRIC - GPU 0 | usage: 25.08% | total memory: 24 GB\n",
      "2025-07-17T09:16:04.743827+0000 | compress | METRIC - Compressed module size: 2.121728 MB\n",
      "2025-07-17T09:16:04.744565+0000 | compress_modules | INFO - Quantizing model.layers.12.self_attn.v_proj using 512 samples\n",
      "2025-07-17T09:16:05.553726+0000 | compress | METRIC - time 0.81s\n",
      "2025-07-17T09:16:05.554752+0000 | compress | METRIC - error 1882.63\n",
      "2025-07-17T09:16:05.555348+0000 | compress | METRIC - GPU 0 | usage: 25.08% | total memory: 24 GB\n",
      "2025-07-17T09:16:05.556074+0000 | compress | METRIC - Compressed module size: 2.121728 MB\n",
      "2025-07-17T09:16:05.556785+0000 | compress_modules | INFO - Quantizing model.layers.12.self_attn.o_proj using 512 samples\n",
      "2025-07-17T09:16:06.352511+0000 | compress | METRIC - time 0.80s\n",
      "2025-07-17T09:16:06.353424+0000 | compress | METRIC - error 288.20\n",
      "2025-07-17T09:16:06.354081+0000 | compress | METRIC - GPU 0 | usage: 25.08% | total memory: 24 GB\n",
      "2025-07-17T09:16:06.354467+0000 | compress | METRIC - Compressed module size: 8.486912 MB\n",
      "2025-07-17T09:16:06.355302+0000 | compress_modules | INFO - Quantizing model.layers.12.mlp.gate_proj using 512 samples\n",
      "2025-07-17T09:16:07.202186+0000 | compress | METRIC - time 0.85s\n",
      "2025-07-17T09:16:07.203157+0000 | compress | METRIC - error 10225.48\n",
      "2025-07-17T09:16:07.203985+0000 | compress | METRIC - GPU 0 | usage: 25.08% | total memory: 24 GB\n",
      "2025-07-17T09:16:07.204453+0000 | compress | METRIC - Compressed module size: 33.947648 MB\n",
      "2025-07-17T09:16:07.205294+0000 | compress_modules | INFO - Quantizing model.layers.12.mlp.up_proj using 512 samples\n",
      "2025-07-17T09:16:08.048042+0000 | compress | METRIC - time 0.84s\n",
      "2025-07-17T09:16:08.049008+0000 | compress | METRIC - error 237.74\n",
      "2025-07-17T09:16:08.049830+0000 | compress | METRIC - GPU 0 | usage: 25.08% | total memory: 24 GB\n",
      "2025-07-17T09:16:08.050239+0000 | compress | METRIC - Compressed module size: 33.947648 MB\n",
      "2025-07-17T09:16:08.051200+0000 | compress_modules | INFO - Quantizing model.layers.12.mlp.down_proj using 512 samples\n",
      "2025-07-17T09:16:11.567046+0000 | compress | METRIC - time 3.52s\n",
      "2025-07-17T09:16:11.569235+0000 | compress | METRIC - error 735.67\n",
      "2025-07-17T09:16:11.569956+0000 | compress | METRIC - GPU 0 | usage: 25.08% | total memory: 24 GB\n",
      "2025-07-17T09:16:11.570448+0000 | compress | METRIC - Compressed module size: 33.947648 MB\n"
     ]
    },
    {
     "name": "stderr",
     "output_type": "stream",
     "text": [
      "(13/41): Propagating: 100%|██████████| 512/512 [00:01<00:00, 465.63it/s]\n",
      "(14/41): Calibrating: 100%|██████████| 512/512 [00:07<00:00, 67.25it/s]"
     ]
    },
    {
     "name": "stdout",
     "output_type": "stream",
     "text": [
      "2025-07-17T09:16:20.309969+0000 | compress_modules | INFO - Quantizing model.layers.13.self_attn.q_proj using 512 samples\n"
     ]
    },
    {
     "name": "stderr",
     "output_type": "stream",
     "text": [
      "\n"
     ]
    },
    {
     "name": "stdout",
     "output_type": "stream",
     "text": [
      "2025-07-17T09:16:21.139125+0000 | compress | METRIC - time 0.83s\n",
      "2025-07-17T09:16:21.140127+0000 | compress | METRIC - error 46197.75\n",
      "2025-07-17T09:16:21.140867+0000 | compress | METRIC - GPU 0 | usage: 25.08% | total memory: 24 GB\n",
      "2025-07-17T09:16:21.141324+0000 | compress | METRIC - Compressed module size: 8.486912 MB\n",
      "2025-07-17T09:16:21.142104+0000 | compress_modules | INFO - Quantizing model.layers.13.self_attn.k_proj using 512 samples\n",
      "2025-07-17T09:16:21.946739+0000 | compress | METRIC - time 0.80s\n",
      "2025-07-17T09:16:21.947703+0000 | compress | METRIC - error 22849.33\n",
      "2025-07-17T09:16:21.948589+0000 | compress | METRIC - GPU 0 | usage: 25.08% | total memory: 24 GB\n",
      "2025-07-17T09:16:21.949041+0000 | compress | METRIC - Compressed module size: 2.121728 MB\n",
      "2025-07-17T09:16:21.949851+0000 | compress_modules | INFO - Quantizing model.layers.13.self_attn.v_proj using 512 samples\n",
      "2025-07-17T09:16:22.760330+0000 | compress | METRIC - time 0.81s\n",
      "2025-07-17T09:16:22.761328+0000 | compress | METRIC - error 2386.14\n",
      "2025-07-17T09:16:22.762061+0000 | compress | METRIC - GPU 0 | usage: 25.08% | total memory: 24 GB\n",
      "2025-07-17T09:16:22.762456+0000 | compress | METRIC - Compressed module size: 2.121728 MB\n",
      "2025-07-17T09:16:22.763240+0000 | compress_modules | INFO - Quantizing model.layers.13.self_attn.o_proj using 512 samples\n",
      "2025-07-17T09:16:23.575021+0000 | compress | METRIC - time 0.81s\n",
      "2025-07-17T09:16:23.576027+0000 | compress | METRIC - error 299.24\n",
      "2025-07-17T09:16:23.576657+0000 | compress | METRIC - GPU 0 | usage: 25.08% | total memory: 24 GB\n",
      "2025-07-17T09:16:23.577186+0000 | compress | METRIC - Compressed module size: 8.486912 MB\n",
      "2025-07-17T09:16:23.577946+0000 | compress_modules | INFO - Quantizing model.layers.13.mlp.gate_proj using 512 samples\n",
      "2025-07-17T09:16:24.422739+0000 | compress | METRIC - time 0.84s\n",
      "2025-07-17T09:16:24.423740+0000 | compress | METRIC - error 9740.52\n",
      "2025-07-17T09:16:24.424517+0000 | compress | METRIC - GPU 0 | usage: 25.08% | total memory: 24 GB\n",
      "2025-07-17T09:16:24.425086+0000 | compress | METRIC - Compressed module size: 33.947648 MB\n",
      "2025-07-17T09:16:24.425853+0000 | compress_modules | INFO - Quantizing model.layers.13.mlp.up_proj using 512 samples\n",
      "2025-07-17T09:16:25.269316+0000 | compress | METRIC - time 0.84s\n",
      "2025-07-17T09:16:25.270269+0000 | compress | METRIC - error 243.72\n",
      "2025-07-17T09:16:25.271017+0000 | compress | METRIC - GPU 0 | usage: 25.08% | total memory: 24 GB\n",
      "2025-07-17T09:16:25.271445+0000 | compress | METRIC - Compressed module size: 33.947648 MB\n",
      "2025-07-17T09:16:25.272234+0000 | compress_modules | INFO - Quantizing model.layers.13.mlp.down_proj using 512 samples\n",
      "2025-07-17T09:16:28.809779+0000 | compress | METRIC - time 3.54s\n",
      "2025-07-17T09:16:28.811872+0000 | compress | METRIC - error 835.91\n",
      "2025-07-17T09:16:28.812605+0000 | compress | METRIC - GPU 0 | usage: 25.08% | total memory: 24 GB\n",
      "2025-07-17T09:16:28.813151+0000 | compress | METRIC - Compressed module size: 33.947648 MB\n"
     ]
    },
    {
     "name": "stderr",
     "output_type": "stream",
     "text": [
      "(14/41): Propagating: 100%|██████████| 512/512 [00:01<00:00, 468.69it/s]\n",
      "(15/41): Calibrating: 100%|██████████| 512/512 [00:07<00:00, 67.32it/s]"
     ]
    },
    {
     "name": "stdout",
     "output_type": "stream",
     "text": [
      "2025-07-17T09:16:37.537280+0000 | compress_modules | INFO - Quantizing model.layers.14.self_attn.q_proj using 512 samples\n"
     ]
    },
    {
     "name": "stderr",
     "output_type": "stream",
     "text": [
      "\n"
     ]
    },
    {
     "name": "stdout",
     "output_type": "stream",
     "text": [
      "2025-07-17T09:16:38.364287+0000 | compress | METRIC - time 0.83s\n",
      "2025-07-17T09:16:38.365407+0000 | compress | METRIC - error 47951.80\n",
      "2025-07-17T09:16:38.366091+0000 | compress | METRIC - GPU 0 | usage: 25.08% | total memory: 24 GB\n",
      "2025-07-17T09:16:38.366700+0000 | compress | METRIC - Compressed module size: 8.486912 MB\n",
      "2025-07-17T09:16:38.367389+0000 | compress_modules | INFO - Quantizing model.layers.14.self_attn.k_proj using 512 samples\n",
      "2025-07-17T09:16:39.171378+0000 | compress | METRIC - time 0.80s\n",
      "2025-07-17T09:16:39.172599+0000 | compress | METRIC - error 24082.19\n",
      "2025-07-17T09:16:39.173266+0000 | compress | METRIC - GPU 0 | usage: 25.08% | total memory: 24 GB\n",
      "2025-07-17T09:16:39.173747+0000 | compress | METRIC - Compressed module size: 2.121728 MB\n",
      "2025-07-17T09:16:39.174638+0000 | compress_modules | INFO - Quantizing model.layers.14.self_attn.v_proj using 512 samples\n",
      "2025-07-17T09:16:39.978109+0000 | compress | METRIC - time 0.80s\n",
      "2025-07-17T09:16:39.979050+0000 | compress | METRIC - error 2676.27\n",
      "2025-07-17T09:16:39.979894+0000 | compress | METRIC - GPU 0 | usage: 25.08% | total memory: 24 GB\n",
      "2025-07-17T09:16:39.980351+0000 | compress | METRIC - Compressed module size: 2.121728 MB\n",
      "2025-07-17T09:16:39.981227+0000 | compress_modules | INFO - Quantizing model.layers.14.self_attn.o_proj using 512 samples\n",
      "2025-07-17T09:16:40.794198+0000 | compress | METRIC - time 0.81s\n",
      "2025-07-17T09:16:40.795375+0000 | compress | METRIC - error 314.54\n",
      "2025-07-17T09:16:40.796132+0000 | compress | METRIC - GPU 0 | usage: 25.08% | total memory: 24 GB\n",
      "2025-07-17T09:16:40.796689+0000 | compress | METRIC - Compressed module size: 8.486912 MB\n",
      "2025-07-17T09:16:40.797581+0000 | compress_modules | INFO - Quantizing model.layers.14.mlp.gate_proj using 512 samples\n",
      "2025-07-17T09:16:41.635727+0000 | compress | METRIC - time 0.84s\n",
      "2025-07-17T09:16:41.636763+0000 | compress | METRIC - error 10308.23\n",
      "2025-07-17T09:16:41.637567+0000 | compress | METRIC - GPU 0 | usage: 25.08% | total memory: 24 GB\n",
      "2025-07-17T09:16:41.638096+0000 | compress | METRIC - Compressed module size: 33.947648 MB\n",
      "2025-07-17T09:16:41.639036+0000 | compress_modules | INFO - Quantizing model.layers.14.mlp.up_proj using 512 samples\n",
      "2025-07-17T09:16:42.484084+0000 | compress | METRIC - time 0.84s\n",
      "2025-07-17T09:16:42.485241+0000 | compress | METRIC - error 251.08\n",
      "2025-07-17T09:16:42.485938+0000 | compress | METRIC - GPU 0 | usage: 25.08% | total memory: 24 GB\n",
      "2025-07-17T09:16:42.486431+0000 | compress | METRIC - Compressed module size: 33.947648 MB\n",
      "2025-07-17T09:16:42.487265+0000 | compress_modules | INFO - Quantizing model.layers.14.mlp.down_proj using 512 samples\n",
      "2025-07-17T09:16:46.021158+0000 | compress | METRIC - time 3.53s\n",
      "2025-07-17T09:16:46.023367+0000 | compress | METRIC - error 931.13\n",
      "2025-07-17T09:16:46.024102+0000 | compress | METRIC - GPU 0 | usage: 25.08% | total memory: 24 GB\n",
      "2025-07-17T09:16:46.024610+0000 | compress | METRIC - Compressed module size: 33.947648 MB\n"
     ]
    },
    {
     "name": "stderr",
     "output_type": "stream",
     "text": [
      "(15/41): Propagating: 100%|██████████| 512/512 [00:01<00:00, 469.93it/s]\n",
      "(16/41): Calibrating: 100%|██████████| 512/512 [00:07<00:00, 67.34it/s]"
     ]
    },
    {
     "name": "stdout",
     "output_type": "stream",
     "text": [
      "2025-07-17T09:16:54.745500+0000 | compress_modules | INFO - Quantizing model.layers.15.self_attn.q_proj using 512 samples\n"
     ]
    },
    {
     "name": "stderr",
     "output_type": "stream",
     "text": [
      "\n"
     ]
    },
    {
     "name": "stdout",
     "output_type": "stream",
     "text": [
      "2025-07-17T09:16:55.570058+0000 | compress | METRIC - time 0.82s\n",
      "2025-07-17T09:16:55.571065+0000 | compress | METRIC - error 46071.93\n",
      "2025-07-17T09:16:55.571705+0000 | compress | METRIC - GPU 0 | usage: 25.07% | total memory: 24 GB\n",
      "2025-07-17T09:16:55.572145+0000 | compress | METRIC - Compressed module size: 8.486912 MB\n",
      "2025-07-17T09:16:55.573264+0000 | compress_modules | INFO - Quantizing model.layers.15.self_attn.k_proj using 512 samples\n",
      "2025-07-17T09:16:56.384586+0000 | compress | METRIC - time 0.81s\n",
      "2025-07-17T09:16:56.385595+0000 | compress | METRIC - error 19065.91\n",
      "2025-07-17T09:16:56.386399+0000 | compress | METRIC - GPU 0 | usage: 25.07% | total memory: 24 GB\n",
      "2025-07-17T09:16:56.386914+0000 | compress | METRIC - Compressed module size: 2.121728 MB\n",
      "2025-07-17T09:16:56.387742+0000 | compress_modules | INFO - Quantizing model.layers.15.self_attn.v_proj using 512 samples\n",
      "2025-07-17T09:16:57.199033+0000 | compress | METRIC - time 0.81s\n",
      "2025-07-17T09:16:57.200077+0000 | compress | METRIC - error 2800.77\n",
      "2025-07-17T09:16:57.200930+0000 | compress | METRIC - GPU 0 | usage: 25.07% | total memory: 24 GB\n",
      "2025-07-17T09:16:57.201453+0000 | compress | METRIC - Compressed module size: 2.121728 MB\n",
      "2025-07-17T09:16:57.202324+0000 | compress_modules | INFO - Quantizing model.layers.15.self_attn.o_proj using 512 samples\n",
      "2025-07-17T09:16:58.027507+0000 | compress | METRIC - time 0.82s\n",
      "2025-07-17T09:16:58.028468+0000 | compress | METRIC - error 384.46\n",
      "2025-07-17T09:16:58.029325+0000 | compress | METRIC - GPU 0 | usage: 25.07% | total memory: 24 GB\n",
      "2025-07-17T09:16:58.029839+0000 | compress | METRIC - Compressed module size: 8.486912 MB\n",
      "2025-07-17T09:16:58.030820+0000 | compress_modules | INFO - Quantizing model.layers.15.mlp.gate_proj using 512 samples\n",
      "2025-07-17T09:16:58.881104+0000 | compress | METRIC - time 0.85s\n",
      "2025-07-17T09:16:58.882089+0000 | compress | METRIC - error 10300.50\n",
      "2025-07-17T09:16:58.882869+0000 | compress | METRIC - GPU 0 | usage: 25.07% | total memory: 24 GB\n",
      "2025-07-17T09:16:58.883292+0000 | compress | METRIC - Compressed module size: 33.947648 MB\n",
      "2025-07-17T09:16:58.884217+0000 | compress_modules | INFO - Quantizing model.layers.15.mlp.up_proj using 512 samples\n",
      "2025-07-17T09:16:59.733353+0000 | compress | METRIC - time 0.85s\n",
      "2025-07-17T09:16:59.734306+0000 | compress | METRIC - error 245.29\n",
      "2025-07-17T09:16:59.734992+0000 | compress | METRIC - GPU 0 | usage: 25.07% | total memory: 24 GB\n",
      "2025-07-17T09:16:59.735364+0000 | compress | METRIC - Compressed module size: 33.947648 MB\n",
      "2025-07-17T09:16:59.736110+0000 | compress_modules | INFO - Quantizing model.layers.15.mlp.down_proj using 512 samples\n",
      "2025-07-17T09:17:03.242785+0000 | compress | METRIC - time 3.51s\n",
      "2025-07-17T09:17:03.245108+0000 | compress | METRIC - error 1412.87\n",
      "2025-07-17T09:17:03.246065+0000 | compress | METRIC - GPU 0 | usage: 25.07% | total memory: 24 GB\n",
      "2025-07-17T09:17:03.246597+0000 | compress | METRIC - Compressed module size: 33.947648 MB\n"
     ]
    },
    {
     "name": "stderr",
     "output_type": "stream",
     "text": [
      "(16/41): Propagating: 100%|██████████| 512/512 [00:01<00:00, 467.78it/s]\n",
      "(17/41): Calibrating: 100%|██████████| 512/512 [00:07<00:00, 67.14it/s]"
     ]
    },
    {
     "name": "stdout",
     "output_type": "stream",
     "text": [
      "2025-07-17T09:17:11.994019+0000 | compress_modules | INFO - Quantizing model.layers.16.self_attn.q_proj using 512 samples\n"
     ]
    },
    {
     "name": "stderr",
     "output_type": "stream",
     "text": [
      "\n"
     ]
    },
    {
     "name": "stdout",
     "output_type": "stream",
     "text": [
      "2025-07-17T09:17:12.813570+0000 | compress | METRIC - time 0.82s\n",
      "2025-07-17T09:17:12.814779+0000 | compress | METRIC - error 51090.16\n",
      "2025-07-17T09:17:12.815368+0000 | compress | METRIC - GPU 0 | usage: 25.07% | total memory: 24 GB\n",
      "2025-07-17T09:17:12.815810+0000 | compress | METRIC - Compressed module size: 8.486912 MB\n",
      "2025-07-17T09:17:12.816552+0000 | compress_modules | INFO - Quantizing model.layers.16.self_attn.k_proj using 512 samples\n",
      "2025-07-17T09:17:13.623112+0000 | compress | METRIC - time 0.81s\n",
      "2025-07-17T09:17:13.624180+0000 | compress | METRIC - error 17951.00\n",
      "2025-07-17T09:17:13.625047+0000 | compress | METRIC - GPU 0 | usage: 25.07% | total memory: 24 GB\n",
      "2025-07-17T09:17:13.625559+0000 | compress | METRIC - Compressed module size: 2.121728 MB\n",
      "2025-07-17T09:17:13.626372+0000 | compress_modules | INFO - Quantizing model.layers.16.self_attn.v_proj using 512 samples\n",
      "2025-07-17T09:17:14.434505+0000 | compress | METRIC - time 0.81s\n",
      "2025-07-17T09:17:14.435175+0000 | compress | METRIC - error 4458.98\n",
      "2025-07-17T09:17:14.436019+0000 | compress | METRIC - GPU 0 | usage: 25.07% | total memory: 24 GB\n",
      "2025-07-17T09:17:14.436469+0000 | compress | METRIC - Compressed module size: 2.121728 MB\n",
      "2025-07-17T09:17:14.437301+0000 | compress_modules | INFO - Quantizing model.layers.16.self_attn.o_proj using 512 samples\n",
      "2025-07-17T09:17:15.245085+0000 | compress | METRIC - time 0.81s\n",
      "2025-07-17T09:17:15.246028+0000 | compress | METRIC - error 438.38\n",
      "2025-07-17T09:17:15.246856+0000 | compress | METRIC - GPU 0 | usage: 25.07% | total memory: 24 GB\n",
      "2025-07-17T09:17:15.247342+0000 | compress | METRIC - Compressed module size: 8.486912 MB\n",
      "2025-07-17T09:17:15.248246+0000 | compress_modules | INFO - Quantizing model.layers.16.mlp.gate_proj using 512 samples\n",
      "2025-07-17T09:17:16.094505+0000 | compress | METRIC - time 0.85s\n",
      "2025-07-17T09:17:16.095540+0000 | compress | METRIC - error 10620.14\n",
      "2025-07-17T09:17:16.096340+0000 | compress | METRIC - GPU 0 | usage: 25.07% | total memory: 24 GB\n",
      "2025-07-17T09:17:16.096883+0000 | compress | METRIC - Compressed module size: 33.947648 MB\n",
      "2025-07-17T09:17:16.097700+0000 | compress_modules | INFO - Quantizing model.layers.16.mlp.up_proj using 512 samples\n",
      "2025-07-17T09:17:16.939516+0000 | compress | METRIC - time 0.84s\n",
      "2025-07-17T09:17:16.940531+0000 | compress | METRIC - error 256.46\n",
      "2025-07-17T09:17:16.941229+0000 | compress | METRIC - GPU 0 | usage: 25.07% | total memory: 24 GB\n",
      "2025-07-17T09:17:16.941673+0000 | compress | METRIC - Compressed module size: 33.947648 MB\n",
      "2025-07-17T09:17:16.942441+0000 | compress_modules | INFO - Quantizing model.layers.16.mlp.down_proj using 512 samples\n",
      "2025-07-17T09:17:20.460431+0000 | compress | METRIC - time 3.52s\n",
      "2025-07-17T09:17:20.462459+0000 | compress | METRIC - error 1456.95\n",
      "2025-07-17T09:17:20.463155+0000 | compress | METRIC - GPU 0 | usage: 25.07% | total memory: 24 GB\n",
      "2025-07-17T09:17:20.463556+0000 | compress | METRIC - Compressed module size: 33.947648 MB\n"
     ]
    },
    {
     "name": "stderr",
     "output_type": "stream",
     "text": [
      "(17/41): Propagating: 100%|██████████| 512/512 [00:01<00:00, 468.29it/s]\n",
      "(18/41): Calibrating: 100%|██████████| 512/512 [00:07<00:00, 67.31it/s]"
     ]
    },
    {
     "name": "stdout",
     "output_type": "stream",
     "text": [
      "2025-07-17T09:17:29.187640+0000 | compress_modules | INFO - Quantizing model.layers.17.self_attn.q_proj using 512 samples\n"
     ]
    },
    {
     "name": "stderr",
     "output_type": "stream",
     "text": [
      "\n"
     ]
    },
    {
     "name": "stdout",
     "output_type": "stream",
     "text": [
      "2025-07-17T09:17:30.021360+0000 | compress | METRIC - time 0.83s\n",
      "2025-07-17T09:17:30.022352+0000 | compress | METRIC - error 45799.10\n",
      "2025-07-17T09:17:30.023181+0000 | compress | METRIC - GPU 0 | usage: 25.07% | total memory: 24 GB\n",
      "2025-07-17T09:17:30.023683+0000 | compress | METRIC - Compressed module size: 8.486912 MB\n",
      "2025-07-17T09:17:30.024605+0000 | compress_modules | INFO - Quantizing model.layers.17.self_attn.k_proj using 512 samples\n",
      "2025-07-17T09:17:30.835755+0000 | compress | METRIC - time 0.81s\n",
      "2025-07-17T09:17:30.836746+0000 | compress | METRIC - error 22858.98\n",
      "2025-07-17T09:17:30.837617+0000 | compress | METRIC - GPU 0 | usage: 25.07% | total memory: 24 GB\n",
      "2025-07-17T09:17:30.838336+0000 | compress | METRIC - Compressed module size: 2.121728 MB\n",
      "2025-07-17T09:17:30.839056+0000 | compress_modules | INFO - Quantizing model.layers.17.self_attn.v_proj using 512 samples\n",
      "2025-07-17T09:17:31.645211+0000 | compress | METRIC - time 0.81s\n",
      "2025-07-17T09:17:31.646249+0000 | compress | METRIC - error 3809.11\n",
      "2025-07-17T09:17:31.647174+0000 | compress | METRIC - GPU 0 | usage: 25.07% | total memory: 24 GB\n",
      "2025-07-17T09:17:31.647693+0000 | compress | METRIC - Compressed module size: 2.121728 MB\n",
      "2025-07-17T09:17:31.648662+0000 | compress_modules | INFO - Quantizing model.layers.17.self_attn.o_proj using 512 samples\n",
      "2025-07-17T09:17:32.459759+0000 | compress | METRIC - time 0.81s\n",
      "2025-07-17T09:17:32.460770+0000 | compress | METRIC - error 748.19\n",
      "2025-07-17T09:17:32.461632+0000 | compress | METRIC - GPU 0 | usage: 25.07% | total memory: 24 GB\n",
      "2025-07-17T09:17:32.462267+0000 | compress | METRIC - Compressed module size: 8.486912 MB\n",
      "2025-07-17T09:17:32.463066+0000 | compress_modules | INFO - Quantizing model.layers.17.mlp.gate_proj using 512 samples\n",
      "2025-07-17T09:17:33.308470+0000 | compress | METRIC - time 0.84s\n",
      "2025-07-17T09:17:33.309474+0000 | compress | METRIC - error 11885.85\n",
      "2025-07-17T09:17:33.310272+0000 | compress | METRIC - GPU 0 | usage: 25.07% | total memory: 24 GB\n",
      "2025-07-17T09:17:33.310744+0000 | compress | METRIC - Compressed module size: 33.947648 MB\n",
      "2025-07-17T09:17:33.311681+0000 | compress_modules | INFO - Quantizing model.layers.17.mlp.up_proj using 512 samples\n",
      "2025-07-17T09:17:34.166701+0000 | compress | METRIC - time 0.85s\n",
      "2025-07-17T09:17:34.167743+0000 | compress | METRIC - error 279.07\n",
      "2025-07-17T09:17:34.168632+0000 | compress | METRIC - GPU 0 | usage: 25.07% | total memory: 24 GB\n",
      "2025-07-17T09:17:34.169151+0000 | compress | METRIC - Compressed module size: 33.947648 MB\n",
      "2025-07-17T09:17:34.170028+0000 | compress_modules | INFO - Quantizing model.layers.17.mlp.down_proj using 512 samples\n",
      "2025-07-17T09:17:37.778640+0000 | compress | METRIC - time 3.61s\n",
      "2025-07-17T09:17:37.780688+0000 | compress | METRIC - error 1629.33\n",
      "2025-07-17T09:17:37.781458+0000 | compress | METRIC - GPU 0 | usage: 25.07% | total memory: 24 GB\n",
      "2025-07-17T09:17:37.782214+0000 | compress | METRIC - Compressed module size: 33.947648 MB\n"
     ]
    },
    {
     "name": "stderr",
     "output_type": "stream",
     "text": [
      "(18/41): Propagating: 100%|██████████| 512/512 [00:01<00:00, 468.97it/s]\n",
      "(19/41): Calibrating: 100%|██████████| 512/512 [00:07<00:00, 67.38it/s]"
     ]
    },
    {
     "name": "stdout",
     "output_type": "stream",
     "text": [
      "2025-07-17T09:17:46.498751+0000 | compress_modules | INFO - Quantizing model.layers.18.self_attn.q_proj using 512 samples\n"
     ]
    },
    {
     "name": "stderr",
     "output_type": "stream",
     "text": [
      "\n"
     ]
    },
    {
     "name": "stdout",
     "output_type": "stream",
     "text": [
      "2025-07-17T09:17:47.322612+0000 | compress | METRIC - time 0.82s\n",
      "2025-07-17T09:17:47.323629+0000 | compress | METRIC - error 44894.59\n",
      "2025-07-17T09:17:47.324479+0000 | compress | METRIC - GPU 0 | usage: 25.08% | total memory: 24 GB\n",
      "2025-07-17T09:17:47.325005+0000 | compress | METRIC - Compressed module size: 8.486912 MB\n",
      "2025-07-17T09:17:47.325899+0000 | compress_modules | INFO - Quantizing model.layers.18.self_attn.k_proj using 512 samples\n",
      "2025-07-17T09:17:48.128083+0000 | compress | METRIC - time 0.80s\n",
      "2025-07-17T09:17:48.129064+0000 | compress | METRIC - error 22514.70\n",
      "2025-07-17T09:17:48.129739+0000 | compress | METRIC - GPU 0 | usage: 25.08% | total memory: 24 GB\n",
      "2025-07-17T09:17:48.130128+0000 | compress | METRIC - Compressed module size: 2.121728 MB\n",
      "2025-07-17T09:17:48.130911+0000 | compress_modules | INFO - Quantizing model.layers.18.self_attn.v_proj using 512 samples\n",
      "2025-07-17T09:17:48.939127+0000 | compress | METRIC - time 0.81s\n",
      "2025-07-17T09:17:48.940199+0000 | compress | METRIC - error 5241.47\n",
      "2025-07-17T09:17:48.940932+0000 | compress | METRIC - GPU 0 | usage: 25.08% | total memory: 24 GB\n",
      "2025-07-17T09:17:48.941462+0000 | compress | METRIC - Compressed module size: 2.121728 MB\n",
      "2025-07-17T09:17:48.942138+0000 | compress_modules | INFO - Quantizing model.layers.18.self_attn.o_proj using 512 samples\n",
      "2025-07-17T09:17:49.754056+0000 | compress | METRIC - time 0.81s\n",
      "2025-07-17T09:17:49.755040+0000 | compress | METRIC - error 518.38\n",
      "2025-07-17T09:17:49.755753+0000 | compress | METRIC - GPU 0 | usage: 25.08% | total memory: 24 GB\n",
      "2025-07-17T09:17:49.756127+0000 | compress | METRIC - Compressed module size: 8.486912 MB\n",
      "2025-07-17T09:17:49.757032+0000 | compress_modules | INFO - Quantizing model.layers.18.mlp.gate_proj using 512 samples\n",
      "2025-07-17T09:17:50.605218+0000 | compress | METRIC - time 0.85s\n",
      "2025-07-17T09:17:50.606278+0000 | compress | METRIC - error 11344.97\n",
      "2025-07-17T09:17:50.606971+0000 | compress | METRIC - GPU 0 | usage: 25.08% | total memory: 24 GB\n",
      "2025-07-17T09:17:50.607342+0000 | compress | METRIC - Compressed module size: 33.947648 MB\n",
      "2025-07-17T09:17:50.608092+0000 | compress_modules | INFO - Quantizing model.layers.18.mlp.up_proj using 512 samples\n",
      "2025-07-17T09:17:51.452239+0000 | compress | METRIC - time 0.84s\n",
      "2025-07-17T09:17:51.453232+0000 | compress | METRIC - error 255.77\n",
      "2025-07-17T09:17:51.453938+0000 | compress | METRIC - GPU 0 | usage: 25.08% | total memory: 24 GB\n",
      "2025-07-17T09:17:51.454317+0000 | compress | METRIC - Compressed module size: 33.947648 MB\n",
      "2025-07-17T09:17:51.455078+0000 | compress_modules | INFO - Quantizing model.layers.18.mlp.down_proj using 512 samples\n",
      "2025-07-17T09:17:55.044994+0000 | compress | METRIC - time 3.59s\n",
      "2025-07-17T09:17:55.047032+0000 | compress | METRIC - error 1269.15\n",
      "2025-07-17T09:17:55.047787+0000 | compress | METRIC - GPU 0 | usage: 25.08% | total memory: 24 GB\n",
      "2025-07-17T09:17:55.048215+0000 | compress | METRIC - Compressed module size: 33.947648 MB\n"
     ]
    },
    {
     "name": "stderr",
     "output_type": "stream",
     "text": [
      "(19/41): Propagating: 100%|██████████| 512/512 [00:01<00:00, 464.75it/s]\n",
      "(20/41): Calibrating: 100%|██████████| 512/512 [00:07<00:00, 67.24it/s]\n"
     ]
    },
    {
     "name": "stdout",
     "output_type": "stream",
     "text": [
      "2025-07-17T09:18:03.790706+0000 | compress_modules | INFO - Quantizing model.layers.19.self_attn.q_proj using 512 samples\n",
      "2025-07-17T09:18:04.609501+0000 | compress | METRIC - time 0.82s\n",
      "2025-07-17T09:18:04.610474+0000 | compress | METRIC - error 49939.93\n",
      "2025-07-17T09:18:04.611162+0000 | compress | METRIC - GPU 0 | usage: 25.07% | total memory: 24 GB\n",
      "2025-07-17T09:18:04.611580+0000 | compress | METRIC - Compressed module size: 8.486912 MB\n",
      "2025-07-17T09:18:04.612315+0000 | compress_modules | INFO - Quantizing model.layers.19.self_attn.k_proj using 512 samples\n",
      "2025-07-17T09:18:05.414218+0000 | compress | METRIC - time 0.80s\n",
      "2025-07-17T09:18:05.415191+0000 | compress | METRIC - error 23367.27\n",
      "2025-07-17T09:18:05.415907+0000 | compress | METRIC - GPU 0 | usage: 25.07% | total memory: 24 GB\n",
      "2025-07-17T09:18:05.416296+0000 | compress | METRIC - Compressed module size: 2.121728 MB\n",
      "2025-07-17T09:18:05.417040+0000 | compress_modules | INFO - Quantizing model.layers.19.self_attn.v_proj using 512 samples\n",
      "2025-07-17T09:18:06.223666+0000 | compress | METRIC - time 0.81s\n",
      "2025-07-17T09:18:06.224709+0000 | compress | METRIC - error 3553.86\n",
      "2025-07-17T09:18:06.225627+0000 | compress | METRIC - GPU 0 | usage: 25.07% | total memory: 24 GB\n",
      "2025-07-17T09:18:06.226109+0000 | compress | METRIC - Compressed module size: 2.121728 MB\n",
      "2025-07-17T09:18:06.226919+0000 | compress_modules | INFO - Quantizing model.layers.19.self_attn.o_proj using 512 samples\n",
      "2025-07-17T09:18:07.032869+0000 | compress | METRIC - time 0.81s\n",
      "2025-07-17T09:18:07.033900+0000 | compress | METRIC - error 540.85\n",
      "2025-07-17T09:18:07.034617+0000 | compress | METRIC - GPU 0 | usage: 25.07% | total memory: 24 GB\n",
      "2025-07-17T09:18:07.035060+0000 | compress | METRIC - Compressed module size: 8.486912 MB\n",
      "2025-07-17T09:18:07.035860+0000 | compress_modules | INFO - Quantizing model.layers.19.mlp.gate_proj using 512 samples\n",
      "2025-07-17T09:18:07.874109+0000 | compress | METRIC - time 0.84s\n",
      "2025-07-17T09:18:07.875123+0000 | compress | METRIC - error 13207.91\n",
      "2025-07-17T09:18:07.875875+0000 | compress | METRIC - GPU 0 | usage: 25.07% | total memory: 24 GB\n",
      "2025-07-17T09:18:07.876479+0000 | compress | METRIC - Compressed module size: 33.947648 MB\n",
      "2025-07-17T09:18:07.877169+0000 | compress_modules | INFO - Quantizing model.layers.19.mlp.up_proj using 512 samples\n",
      "2025-07-17T09:18:08.715361+0000 | compress | METRIC - time 0.84s\n",
      "2025-07-17T09:18:08.716337+0000 | compress | METRIC - error 248.90\n",
      "2025-07-17T09:18:08.717086+0000 | compress | METRIC - GPU 0 | usage: 25.07% | total memory: 24 GB\n",
      "2025-07-17T09:18:08.717667+0000 | compress | METRIC - Compressed module size: 33.947648 MB\n",
      "2025-07-17T09:18:08.718389+0000 | compress_modules | INFO - Quantizing model.layers.19.mlp.down_proj using 512 samples\n",
      "2025-07-17T09:18:12.224306+0000 | compress | METRIC - time 3.51s\n",
      "2025-07-17T09:18:12.226518+0000 | compress | METRIC - error 997.67\n",
      "2025-07-17T09:18:12.227063+0000 | compress | METRIC - GPU 0 | usage: 25.08% | total memory: 24 GB\n",
      "2025-07-17T09:18:12.227479+0000 | compress | METRIC - Compressed module size: 33.947648 MB\n"
     ]
    },
    {
     "name": "stderr",
     "output_type": "stream",
     "text": [
      "(20/41): Propagating: 100%|██████████| 512/512 [00:01<00:00, 468.45it/s]\n",
      "(21/41): Calibrating: 100%|██████████| 512/512 [00:07<00:00, 67.04it/s]"
     ]
    },
    {
     "name": "stdout",
     "output_type": "stream",
     "text": [
      "2025-07-17T09:18:20.984184+0000 | compress_modules | INFO - Quantizing model.layers.20.self_attn.q_proj using 512 samples\n"
     ]
    },
    {
     "name": "stderr",
     "output_type": "stream",
     "text": [
      "\n"
     ]
    },
    {
     "name": "stdout",
     "output_type": "stream",
     "text": [
      "2025-07-17T09:18:21.826158+0000 | compress | METRIC - time 0.84s\n",
      "2025-07-17T09:18:21.827145+0000 | compress | METRIC - error 47636.85\n",
      "2025-07-17T09:18:21.827849+0000 | compress | METRIC - GPU 0 | usage: 25.08% | total memory: 24 GB\n",
      "2025-07-17T09:18:21.828355+0000 | compress | METRIC - Compressed module size: 8.486912 MB\n",
      "2025-07-17T09:18:21.829029+0000 | compress_modules | INFO - Quantizing model.layers.20.self_attn.k_proj using 512 samples\n",
      "2025-07-17T09:18:22.657893+0000 | compress | METRIC - time 0.83s\n",
      "2025-07-17T09:18:22.658920+0000 | compress | METRIC - error 21290.70\n",
      "2025-07-17T09:18:22.659775+0000 | compress | METRIC - GPU 0 | usage: 25.08% | total memory: 24 GB\n",
      "2025-07-17T09:18:22.660285+0000 | compress | METRIC - Compressed module size: 2.121728 MB\n",
      "2025-07-17T09:18:22.661144+0000 | compress_modules | INFO - Quantizing model.layers.20.self_attn.v_proj using 512 samples\n",
      "2025-07-17T09:18:23.493282+0000 | compress | METRIC - time 0.83s\n",
      "2025-07-17T09:18:23.494256+0000 | compress | METRIC - error 4038.44\n",
      "2025-07-17T09:18:23.495010+0000 | compress | METRIC - GPU 0 | usage: 25.08% | total memory: 24 GB\n",
      "2025-07-17T09:18:23.495396+0000 | compress | METRIC - Compressed module size: 2.121728 MB\n",
      "2025-07-17T09:18:23.496106+0000 | compress_modules | INFO - Quantizing model.layers.20.self_attn.o_proj using 512 samples\n",
      "2025-07-17T09:18:24.331316+0000 | compress | METRIC - time 0.83s\n",
      "2025-07-17T09:18:24.332406+0000 | compress | METRIC - error 277.20\n",
      "2025-07-17T09:18:24.333108+0000 | compress | METRIC - GPU 0 | usage: 25.08% | total memory: 24 GB\n",
      "2025-07-17T09:18:24.333553+0000 | compress | METRIC - Compressed module size: 8.486912 MB\n",
      "2025-07-17T09:18:24.334279+0000 | compress_modules | INFO - Quantizing model.layers.20.mlp.gate_proj using 512 samples\n",
      "2025-07-17T09:18:25.206348+0000 | compress | METRIC - time 0.87s\n",
      "2025-07-17T09:18:25.207313+0000 | compress | METRIC - error 13525.71\n",
      "2025-07-17T09:18:25.208105+0000 | compress | METRIC - GPU 0 | usage: 25.08% | total memory: 24 GB\n",
      "2025-07-17T09:18:25.208565+0000 | compress | METRIC - Compressed module size: 33.947648 MB\n",
      "2025-07-17T09:18:25.209262+0000 | compress_modules | INFO - Quantizing model.layers.20.mlp.up_proj using 512 samples\n",
      "2025-07-17T09:18:26.052058+0000 | compress | METRIC - time 0.84s\n",
      "2025-07-17T09:18:26.053040+0000 | compress | METRIC - error 244.15\n",
      "2025-07-17T09:18:26.054061+0000 | compress | METRIC - GPU 0 | usage: 25.08% | total memory: 24 GB\n",
      "2025-07-17T09:18:26.054602+0000 | compress | METRIC - Compressed module size: 33.947648 MB\n",
      "2025-07-17T09:18:26.055346+0000 | compress_modules | INFO - Quantizing model.layers.20.mlp.down_proj using 512 samples\n",
      "2025-07-17T09:18:29.565273+0000 | compress | METRIC - time 3.51s\n",
      "2025-07-17T09:18:29.567330+0000 | compress | METRIC - error 878.53\n",
      "2025-07-17T09:18:29.568158+0000 | compress | METRIC - GPU 0 | usage: 25.08% | total memory: 24 GB\n",
      "2025-07-17T09:18:29.568625+0000 | compress | METRIC - Compressed module size: 33.947648 MB\n"
     ]
    },
    {
     "name": "stderr",
     "output_type": "stream",
     "text": [
      "(21/41): Propagating: 100%|██████████| 512/512 [00:01<00:00, 466.67it/s]\n",
      "(22/41): Calibrating: 100%|██████████| 512/512 [00:07<00:00, 66.53it/s]"
     ]
    },
    {
     "name": "stdout",
     "output_type": "stream",
     "text": [
      "2025-07-17T09:18:38.395963+0000 | compress_modules | INFO - Quantizing model.layers.21.self_attn.q_proj using 512 samples\n"
     ]
    },
    {
     "name": "stderr",
     "output_type": "stream",
     "text": [
      "\n"
     ]
    },
    {
     "name": "stdout",
     "output_type": "stream",
     "text": [
      "2025-07-17T09:18:39.219948+0000 | compress | METRIC - time 0.82s\n",
      "2025-07-17T09:18:39.221031+0000 | compress | METRIC - error 44198.46\n",
      "2025-07-17T09:18:39.221837+0000 | compress | METRIC - GPU 0 | usage: 25.08% | total memory: 24 GB\n",
      "2025-07-17T09:18:39.222510+0000 | compress | METRIC - Compressed module size: 8.486912 MB\n",
      "2025-07-17T09:18:39.223126+0000 | compress_modules | INFO - Quantizing model.layers.21.self_attn.k_proj using 512 samples\n",
      "2025-07-17T09:18:40.029739+0000 | compress | METRIC - time 0.81s\n",
      "2025-07-17T09:18:40.030792+0000 | compress | METRIC - error 20548.51\n",
      "2025-07-17T09:18:40.031887+0000 | compress | METRIC - GPU 0 | usage: 25.08% | total memory: 24 GB\n",
      "2025-07-17T09:18:40.032359+0000 | compress | METRIC - Compressed module size: 2.121728 MB\n",
      "2025-07-17T09:18:40.033132+0000 | compress_modules | INFO - Quantizing model.layers.21.self_attn.v_proj using 512 samples\n",
      "2025-07-17T09:18:40.838880+0000 | compress | METRIC - time 0.81s\n",
      "2025-07-17T09:18:40.839907+0000 | compress | METRIC - error 2732.15\n",
      "2025-07-17T09:18:40.840671+0000 | compress | METRIC - GPU 0 | usage: 25.08% | total memory: 24 GB\n",
      "2025-07-17T09:18:40.841086+0000 | compress | METRIC - Compressed module size: 2.121728 MB\n",
      "2025-07-17T09:18:40.841815+0000 | compress_modules | INFO - Quantizing model.layers.21.self_attn.o_proj using 512 samples\n",
      "2025-07-17T09:18:41.738053+0000 | compress | METRIC - time 0.90s\n",
      "2025-07-17T09:18:41.739281+0000 | compress | METRIC - error 265.08\n",
      "2025-07-17T09:18:41.739934+0000 | compress | METRIC - GPU 0 | usage: 25.08% | total memory: 24 GB\n",
      "2025-07-17T09:18:41.740358+0000 | compress | METRIC - Compressed module size: 8.486912 MB\n",
      "2025-07-17T09:18:41.741089+0000 | compress_modules | INFO - Quantizing model.layers.21.mlp.gate_proj using 512 samples\n",
      "2025-07-17T09:18:42.590709+0000 | compress | METRIC - time 0.85s\n",
      "2025-07-17T09:18:42.591757+0000 | compress | METRIC - error 14137.10\n",
      "2025-07-17T09:18:42.592556+0000 | compress | METRIC - GPU 0 | usage: 25.08% | total memory: 24 GB\n",
      "2025-07-17T09:18:42.593024+0000 | compress | METRIC - Compressed module size: 33.947648 MB\n",
      "2025-07-17T09:18:42.593819+0000 | compress_modules | INFO - Quantizing model.layers.21.mlp.up_proj using 512 samples\n",
      "2025-07-17T09:18:43.438691+0000 | compress | METRIC - time 0.84s\n",
      "2025-07-17T09:18:43.439695+0000 | compress | METRIC - error 237.74\n",
      "2025-07-17T09:18:43.440464+0000 | compress | METRIC - GPU 0 | usage: 25.08% | total memory: 24 GB\n",
      "2025-07-17T09:18:43.440888+0000 | compress | METRIC - Compressed module size: 33.947648 MB\n",
      "2025-07-17T09:18:43.441596+0000 | compress_modules | INFO - Quantizing model.layers.21.mlp.down_proj using 512 samples\n",
      "2025-07-17T09:18:46.963953+0000 | compress | METRIC - time 3.52s\n",
      "2025-07-17T09:18:46.965988+0000 | compress | METRIC - error 811.72\n",
      "2025-07-17T09:18:46.966730+0000 | compress | METRIC - GPU 0 | usage: 25.08% | total memory: 24 GB\n",
      "2025-07-17T09:18:46.967225+0000 | compress | METRIC - Compressed module size: 33.947648 MB\n"
     ]
    },
    {
     "name": "stderr",
     "output_type": "stream",
     "text": [
      "(22/41): Propagating: 100%|██████████| 512/512 [00:01<00:00, 465.83it/s]\n",
      "(23/41): Calibrating: 100%|██████████| 512/512 [00:07<00:00, 66.37it/s]"
     ]
    },
    {
     "name": "stdout",
     "output_type": "stream",
     "text": [
      "2025-07-17T09:18:55.813495+0000 | compress_modules | INFO - Quantizing model.layers.22.self_attn.q_proj using 512 samples\n"
     ]
    },
    {
     "name": "stderr",
     "output_type": "stream",
     "text": [
      "\n"
     ]
    },
    {
     "name": "stdout",
     "output_type": "stream",
     "text": [
      "2025-07-17T09:18:56.647302+0000 | compress | METRIC - time 0.83s\n",
      "2025-07-17T09:18:56.648360+0000 | compress | METRIC - error 43450.63\n",
      "2025-07-17T09:18:56.648945+0000 | compress | METRIC - GPU 0 | usage: 25.08% | total memory: 24 GB\n",
      "2025-07-17T09:18:56.649325+0000 | compress | METRIC - Compressed module size: 8.486912 MB\n",
      "2025-07-17T09:18:56.650204+0000 | compress_modules | INFO - Quantizing model.layers.22.self_attn.k_proj using 512 samples\n",
      "2025-07-17T09:18:57.458695+0000 | compress | METRIC - time 0.81s\n",
      "2025-07-17T09:18:57.459801+0000 | compress | METRIC - error 16607.99\n",
      "2025-07-17T09:18:57.460522+0000 | compress | METRIC - GPU 0 | usage: 25.08% | total memory: 24 GB\n",
      "2025-07-17T09:18:57.460908+0000 | compress | METRIC - Compressed module size: 2.121728 MB\n",
      "2025-07-17T09:18:57.461633+0000 | compress_modules | INFO - Quantizing model.layers.22.self_attn.v_proj using 512 samples\n",
      "2025-07-17T09:18:58.265592+0000 | compress | METRIC - time 0.80s\n",
      "2025-07-17T09:18:58.266576+0000 | compress | METRIC - error 4431.05\n",
      "2025-07-17T09:18:58.267364+0000 | compress | METRIC - GPU 0 | usage: 25.08% | total memory: 24 GB\n",
      "2025-07-17T09:18:58.267792+0000 | compress | METRIC - Compressed module size: 2.121728 MB\n",
      "2025-07-17T09:18:58.268518+0000 | compress_modules | INFO - Quantizing model.layers.22.self_attn.o_proj using 512 samples\n",
      "2025-07-17T09:18:59.083630+0000 | compress | METRIC - time 0.81s\n",
      "2025-07-17T09:18:59.084674+0000 | compress | METRIC - error 201.65\n",
      "2025-07-17T09:18:59.085439+0000 | compress | METRIC - GPU 0 | usage: 25.08% | total memory: 24 GB\n",
      "2025-07-17T09:18:59.085869+0000 | compress | METRIC - Compressed module size: 8.486912 MB\n",
      "2025-07-17T09:18:59.086617+0000 | compress_modules | INFO - Quantizing model.layers.22.mlp.gate_proj using 512 samples\n",
      "2025-07-17T09:18:59.924863+0000 | compress | METRIC - time 0.84s\n",
      "2025-07-17T09:18:59.925828+0000 | compress | METRIC - error 14385.45\n",
      "2025-07-17T09:18:59.926641+0000 | compress | METRIC - GPU 0 | usage: 25.08% | total memory: 24 GB\n",
      "2025-07-17T09:18:59.927224+0000 | compress | METRIC - Compressed module size: 33.947648 MB\n",
      "2025-07-17T09:18:59.927807+0000 | compress_modules | INFO - Quantizing model.layers.22.mlp.up_proj using 512 samples\n",
      "2025-07-17T09:19:00.769972+0000 | compress | METRIC - time 0.84s\n",
      "2025-07-17T09:19:00.770967+0000 | compress | METRIC - error 234.79\n",
      "2025-07-17T09:19:00.771526+0000 | compress | METRIC - GPU 0 | usage: 25.08% | total memory: 24 GB\n",
      "2025-07-17T09:19:00.771913+0000 | compress | METRIC - Compressed module size: 33.947648 MB\n",
      "2025-07-17T09:19:00.772725+0000 | compress_modules | INFO - Quantizing model.layers.22.mlp.down_proj using 512 samples\n",
      "2025-07-17T09:19:04.287749+0000 | compress | METRIC - time 3.51s\n",
      "2025-07-17T09:19:04.289880+0000 | compress | METRIC - error 869.51\n",
      "2025-07-17T09:19:04.290656+0000 | compress | METRIC - GPU 0 | usage: 25.08% | total memory: 24 GB\n",
      "2025-07-17T09:19:04.291040+0000 | compress | METRIC - Compressed module size: 33.947648 MB\n"
     ]
    },
    {
     "name": "stderr",
     "output_type": "stream",
     "text": [
      "(23/41): Propagating: 100%|██████████| 512/512 [00:01<00:00, 466.26it/s]\n",
      "(24/41): Calibrating: 100%|██████████| 512/512 [00:07<00:00, 66.49it/s]"
     ]
    },
    {
     "name": "stdout",
     "output_type": "stream",
     "text": [
      "2025-07-17T09:19:13.122800+0000 | compress_modules | INFO - Quantizing model.layers.23.self_attn.q_proj using 512 samples\n"
     ]
    },
    {
     "name": "stderr",
     "output_type": "stream",
     "text": [
      "\n"
     ]
    },
    {
     "name": "stdout",
     "output_type": "stream",
     "text": [
      "2025-07-17T09:19:13.949065+0000 | compress | METRIC - time 0.82s\n",
      "2025-07-17T09:19:13.950109+0000 | compress | METRIC - error 55148.71\n",
      "2025-07-17T09:19:13.950885+0000 | compress | METRIC - GPU 0 | usage: 25.08% | total memory: 24 GB\n",
      "2025-07-17T09:19:13.951315+0000 | compress | METRIC - Compressed module size: 8.486912 MB\n",
      "2025-07-17T09:19:13.952103+0000 | compress_modules | INFO - Quantizing model.layers.23.self_attn.k_proj using 512 samples\n",
      "2025-07-17T09:19:14.764098+0000 | compress | METRIC - time 0.81s\n",
      "2025-07-17T09:19:14.765044+0000 | compress | METRIC - error 25836.77\n",
      "2025-07-17T09:19:14.765792+0000 | compress | METRIC - GPU 0 | usage: 25.08% | total memory: 24 GB\n",
      "2025-07-17T09:19:14.766248+0000 | compress | METRIC - Compressed module size: 2.121728 MB\n",
      "2025-07-17T09:19:14.767045+0000 | compress_modules | INFO - Quantizing model.layers.23.self_attn.v_proj using 512 samples\n",
      "2025-07-17T09:19:15.578714+0000 | compress | METRIC - time 0.81s\n",
      "2025-07-17T09:19:15.579734+0000 | compress | METRIC - error 5074.17\n",
      "2025-07-17T09:19:15.580426+0000 | compress | METRIC - GPU 0 | usage: 25.08% | total memory: 24 GB\n",
      "2025-07-17T09:19:15.580798+0000 | compress | METRIC - Compressed module size: 2.121728 MB\n",
      "2025-07-17T09:19:15.581535+0000 | compress_modules | INFO - Quantizing model.layers.23.self_attn.o_proj using 512 samples\n",
      "2025-07-17T09:19:16.394936+0000 | compress | METRIC - time 0.81s\n",
      "2025-07-17T09:19:16.395917+0000 | compress | METRIC - error 341.39\n",
      "2025-07-17T09:19:16.396706+0000 | compress | METRIC - GPU 0 | usage: 25.08% | total memory: 24 GB\n",
      "2025-07-17T09:19:16.397260+0000 | compress | METRIC - Compressed module size: 8.486912 MB\n",
      "2025-07-17T09:19:16.397875+0000 | compress_modules | INFO - Quantizing model.layers.23.mlp.gate_proj using 512 samples\n",
      "2025-07-17T09:19:17.240282+0000 | compress | METRIC - time 0.84s\n",
      "2025-07-17T09:19:17.241302+0000 | compress | METRIC - error 16249.64\n",
      "2025-07-17T09:19:17.242098+0000 | compress | METRIC - GPU 0 | usage: 25.08% | total memory: 24 GB\n",
      "2025-07-17T09:19:17.242658+0000 | compress | METRIC - Compressed module size: 33.947648 MB\n",
      "2025-07-17T09:19:17.243240+0000 | compress_modules | INFO - Quantizing model.layers.23.mlp.up_proj using 512 samples\n",
      "2025-07-17T09:19:18.098015+0000 | compress | METRIC - time 0.85s\n",
      "2025-07-17T09:19:18.098974+0000 | compress | METRIC - error 244.43\n",
      "2025-07-17T09:19:18.099843+0000 | compress | METRIC - GPU 0 | usage: 25.08% | total memory: 24 GB\n",
      "2025-07-17T09:19:18.100461+0000 | compress | METRIC - Compressed module size: 33.947648 MB\n",
      "2025-07-17T09:19:18.101129+0000 | compress_modules | INFO - Quantizing model.layers.23.mlp.down_proj using 512 samples\n",
      "2025-07-17T09:19:21.613274+0000 | compress | METRIC - time 3.51s\n",
      "2025-07-17T09:19:21.615402+0000 | compress | METRIC - error 866.90\n",
      "2025-07-17T09:19:21.616167+0000 | compress | METRIC - GPU 0 | usage: 25.08% | total memory: 24 GB\n",
      "2025-07-17T09:19:21.616680+0000 | compress | METRIC - Compressed module size: 33.947648 MB\n"
     ]
    },
    {
     "name": "stderr",
     "output_type": "stream",
     "text": [
      "(24/41): Propagating: 100%|██████████| 512/512 [00:01<00:00, 467.27it/s]\n",
      "(25/41): Calibrating: 100%|██████████| 512/512 [00:07<00:00, 66.59it/s]\n"
     ]
    },
    {
     "name": "stdout",
     "output_type": "stream",
     "text": [
      "2025-07-17T09:19:30.428389+0000 | compress_modules | INFO - Quantizing model.layers.24.self_attn.q_proj using 512 samples\n",
      "2025-07-17T09:19:31.326280+0000 | compress | METRIC - time 0.90s\n",
      "2025-07-17T09:19:31.327251+0000 | compress | METRIC - error 43845.05\n",
      "2025-07-17T09:19:31.328039+0000 | compress | METRIC - GPU 0 | usage: 25.08% | total memory: 24 GB\n",
      "2025-07-17T09:19:31.328657+0000 | compress | METRIC - Compressed module size: 8.486912 MB\n",
      "2025-07-17T09:19:31.329280+0000 | compress_modules | INFO - Quantizing model.layers.24.self_attn.k_proj using 512 samples\n",
      "2025-07-17T09:19:32.139832+0000 | compress | METRIC - time 0.81s\n",
      "2025-07-17T09:19:32.140874+0000 | compress | METRIC - error 19017.76\n",
      "2025-07-17T09:19:32.141589+0000 | compress | METRIC - GPU 0 | usage: 25.08% | total memory: 24 GB\n",
      "2025-07-17T09:19:32.142112+0000 | compress | METRIC - Compressed module size: 2.121728 MB\n",
      "2025-07-17T09:19:32.142879+0000 | compress_modules | INFO - Quantizing model.layers.24.self_attn.v_proj using 512 samples\n",
      "2025-07-17T09:19:32.953920+0000 | compress | METRIC - time 0.81s\n",
      "2025-07-17T09:19:32.954929+0000 | compress | METRIC - error 3713.01\n",
      "2025-07-17T09:19:32.955722+0000 | compress | METRIC - GPU 0 | usage: 25.08% | total memory: 24 GB\n",
      "2025-07-17T09:19:32.956273+0000 | compress | METRIC - Compressed module size: 2.121728 MB\n",
      "2025-07-17T09:19:32.956884+0000 | compress_modules | INFO - Quantizing model.layers.24.self_attn.o_proj using 512 samples\n",
      "2025-07-17T09:19:33.853710+0000 | compress | METRIC - time 0.90s\n",
      "2025-07-17T09:19:33.854776+0000 | compress | METRIC - error 237.34\n",
      "2025-07-17T09:19:33.855536+0000 | compress | METRIC - GPU 0 | usage: 25.08% | total memory: 24 GB\n",
      "2025-07-17T09:19:33.855927+0000 | compress | METRIC - Compressed module size: 8.486912 MB\n",
      "2025-07-17T09:19:33.856655+0000 | compress_modules | INFO - Quantizing model.layers.24.mlp.gate_proj using 512 samples\n",
      "2025-07-17T09:19:34.707166+0000 | compress | METRIC - time 0.85s\n",
      "2025-07-17T09:19:34.708181+0000 | compress | METRIC - error 17362.85\n",
      "2025-07-17T09:19:34.708964+0000 | compress | METRIC - GPU 0 | usage: 25.08% | total memory: 24 GB\n",
      "2025-07-17T09:19:34.709393+0000 | compress | METRIC - Compressed module size: 33.947648 MB\n",
      "2025-07-17T09:19:34.710101+0000 | compress_modules | INFO - Quantizing model.layers.24.mlp.up_proj using 512 samples\n",
      "2025-07-17T09:19:35.570299+0000 | compress | METRIC - time 0.86s\n",
      "2025-07-17T09:19:35.571347+0000 | compress | METRIC - error 245.71\n",
      "2025-07-17T09:19:35.571972+0000 | compress | METRIC - GPU 0 | usage: 25.08% | total memory: 24 GB\n",
      "2025-07-17T09:19:35.572396+0000 | compress | METRIC - Compressed module size: 33.947648 MB\n",
      "2025-07-17T09:19:35.573250+0000 | compress_modules | INFO - Quantizing model.layers.24.mlp.down_proj using 512 samples\n",
      "2025-07-17T09:19:39.105974+0000 | compress | METRIC - time 3.53s\n",
      "2025-07-17T09:19:39.108144+0000 | compress | METRIC - error 925.64\n",
      "2025-07-17T09:19:39.108948+0000 | compress | METRIC - GPU 0 | usage: 25.08% | total memory: 24 GB\n",
      "2025-07-17T09:19:39.109331+0000 | compress | METRIC - Compressed module size: 33.947648 MB\n"
     ]
    },
    {
     "name": "stderr",
     "output_type": "stream",
     "text": [
      "(25/41): Propagating: 100%|██████████| 512/512 [00:01<00:00, 467.19it/s]\n",
      "(26/41): Calibrating: 100%|██████████| 512/512 [00:07<00:00, 66.46it/s]"
     ]
    },
    {
     "name": "stdout",
     "output_type": "stream",
     "text": [
      "2025-07-17T09:19:47.936064+0000 | compress_modules | INFO - Quantizing model.layers.25.self_attn.q_proj using 512 samples\n"
     ]
    },
    {
     "name": "stderr",
     "output_type": "stream",
     "text": [
      "\n"
     ]
    },
    {
     "name": "stdout",
     "output_type": "stream",
     "text": [
      "2025-07-17T09:19:48.747274+0000 | compress | METRIC - time 0.81s\n",
      "2025-07-17T09:19:48.748312+0000 | compress | METRIC - error 48272.56\n",
      "2025-07-17T09:19:48.749072+0000 | compress | METRIC - GPU 0 | usage: 25.07% | total memory: 24 GB\n",
      "2025-07-17T09:19:48.749506+0000 | compress | METRIC - Compressed module size: 8.486912 MB\n",
      "2025-07-17T09:19:48.750209+0000 | compress_modules | INFO - Quantizing model.layers.25.self_attn.k_proj using 512 samples\n",
      "2025-07-17T09:19:49.579017+0000 | compress | METRIC - time 0.83s\n",
      "2025-07-17T09:19:49.580017+0000 | compress | METRIC - error 19325.72\n",
      "2025-07-17T09:19:49.580766+0000 | compress | METRIC - GPU 0 | usage: 25.07% | total memory: 24 GB\n",
      "2025-07-17T09:19:49.581137+0000 | compress | METRIC - Compressed module size: 2.121728 MB\n",
      "2025-07-17T09:19:49.581879+0000 | compress_modules | INFO - Quantizing model.layers.25.self_attn.v_proj using 512 samples\n",
      "2025-07-17T09:19:50.409785+0000 | compress | METRIC - time 0.83s\n",
      "2025-07-17T09:19:50.410847+0000 | compress | METRIC - error 4500.96\n",
      "2025-07-17T09:19:50.411665+0000 | compress | METRIC - GPU 0 | usage: 25.07% | total memory: 24 GB\n",
      "2025-07-17T09:19:50.412094+0000 | compress | METRIC - Compressed module size: 2.121728 MB\n",
      "2025-07-17T09:19:50.412817+0000 | compress_modules | INFO - Quantizing model.layers.25.self_attn.o_proj using 512 samples\n",
      "2025-07-17T09:19:51.247685+0000 | compress | METRIC - time 0.83s\n",
      "2025-07-17T09:19:51.248746+0000 | compress | METRIC - error 184.03\n",
      "2025-07-17T09:19:51.249490+0000 | compress | METRIC - GPU 0 | usage: 25.07% | total memory: 24 GB\n",
      "2025-07-17T09:19:51.249907+0000 | compress | METRIC - Compressed module size: 8.486912 MB\n",
      "2025-07-17T09:19:51.250636+0000 | compress_modules | INFO - Quantizing model.layers.25.mlp.gate_proj using 512 samples\n",
      "2025-07-17T09:19:52.114503+0000 | compress | METRIC - time 0.86s\n",
      "2025-07-17T09:19:52.115453+0000 | compress | METRIC - error 18115.04\n",
      "2025-07-17T09:19:52.116175+0000 | compress | METRIC - GPU 0 | usage: 25.07% | total memory: 24 GB\n",
      "2025-07-17T09:19:52.116602+0000 | compress | METRIC - Compressed module size: 33.947648 MB\n",
      "2025-07-17T09:19:52.117295+0000 | compress_modules | INFO - Quantizing model.layers.25.mlp.up_proj using 512 samples\n",
      "2025-07-17T09:19:52.986125+0000 | compress | METRIC - time 0.87s\n",
      "2025-07-17T09:19:52.987268+0000 | compress | METRIC - error 246.83\n",
      "2025-07-17T09:19:52.988197+0000 | compress | METRIC - GPU 0 | usage: 25.07% | total memory: 24 GB\n",
      "2025-07-17T09:19:52.988701+0000 | compress | METRIC - Compressed module size: 33.947648 MB\n",
      "2025-07-17T09:19:52.989299+0000 | compress_modules | INFO - Quantizing model.layers.25.mlp.down_proj using 512 samples\n",
      "2025-07-17T09:19:56.579845+0000 | compress | METRIC - time 3.59s\n",
      "2025-07-17T09:19:56.581988+0000 | compress | METRIC - error 1057.82\n",
      "2025-07-17T09:19:56.582689+0000 | compress | METRIC - GPU 0 | usage: 25.07% | total memory: 24 GB\n",
      "2025-07-17T09:19:56.583077+0000 | compress | METRIC - Compressed module size: 33.947648 MB\n"
     ]
    },
    {
     "name": "stderr",
     "output_type": "stream",
     "text": [
      "(26/41): Propagating: 100%|██████████| 512/512 [00:01<00:00, 464.36it/s]\n",
      "(27/41): Calibrating: 100%|██████████| 512/512 [00:07<00:00, 66.47it/s]"
     ]
    },
    {
     "name": "stdout",
     "output_type": "stream",
     "text": [
      "2025-07-17T09:20:05.418051+0000 | compress_modules | INFO - Quantizing model.layers.26.self_attn.q_proj using 512 samples\n"
     ]
    },
    {
     "name": "stderr",
     "output_type": "stream",
     "text": [
      "\n"
     ]
    },
    {
     "name": "stdout",
     "output_type": "stream",
     "text": [
      "2025-07-17T09:20:06.249227+0000 | compress | METRIC - time 0.83s\n",
      "2025-07-17T09:20:06.250280+0000 | compress | METRIC - error 42097.77\n",
      "2025-07-17T09:20:06.251513+0000 | compress | METRIC - GPU 0 | usage: 25.07% | total memory: 24 GB\n",
      "2025-07-17T09:20:06.251937+0000 | compress | METRIC - Compressed module size: 8.486912 MB\n",
      "2025-07-17T09:20:06.252761+0000 | compress_modules | INFO - Quantizing model.layers.26.self_attn.k_proj using 512 samples\n",
      "2025-07-17T09:20:07.064027+0000 | compress | METRIC - time 0.81s\n",
      "2025-07-17T09:20:07.065048+0000 | compress | METRIC - error 16851.89\n",
      "2025-07-17T09:20:07.065814+0000 | compress | METRIC - GPU 0 | usage: 25.07% | total memory: 24 GB\n",
      "2025-07-17T09:20:07.066172+0000 | compress | METRIC - Compressed module size: 2.121728 MB\n",
      "2025-07-17T09:20:07.066917+0000 | compress_modules | INFO - Quantizing model.layers.26.self_attn.v_proj using 512 samples\n",
      "2025-07-17T09:20:07.876043+0000 | compress | METRIC - time 0.81s\n",
      "2025-07-17T09:20:07.877103+0000 | compress | METRIC - error 6178.92\n",
      "2025-07-17T09:20:07.877975+0000 | compress | METRIC - GPU 0 | usage: 25.07% | total memory: 24 GB\n",
      "2025-07-17T09:20:07.878441+0000 | compress | METRIC - Compressed module size: 2.121728 MB\n",
      "2025-07-17T09:20:07.879236+0000 | compress_modules | INFO - Quantizing model.layers.26.self_attn.o_proj using 512 samples\n",
      "2025-07-17T09:20:08.681120+0000 | compress | METRIC - time 0.80s\n",
      "2025-07-17T09:20:08.682134+0000 | compress | METRIC - error 99.07\n",
      "2025-07-17T09:20:08.682954+0000 | compress | METRIC - GPU 0 | usage: 25.07% | total memory: 24 GB\n",
      "2025-07-17T09:20:08.683312+0000 | compress | METRIC - Compressed module size: 8.486912 MB\n",
      "2025-07-17T09:20:08.684094+0000 | compress_modules | INFO - Quantizing model.layers.26.mlp.gate_proj using 512 samples\n",
      "2025-07-17T09:20:09.514736+0000 | compress | METRIC - time 0.83s\n",
      "2025-07-17T09:20:09.515748+0000 | compress | METRIC - error 19313.05\n",
      "2025-07-17T09:20:09.516500+0000 | compress | METRIC - GPU 0 | usage: 25.07% | total memory: 24 GB\n",
      "2025-07-17T09:20:09.516876+0000 | compress | METRIC - Compressed module size: 33.947648 MB\n",
      "2025-07-17T09:20:09.517632+0000 | compress_modules | INFO - Quantizing model.layers.26.mlp.up_proj using 512 samples\n",
      "2025-07-17T09:20:10.348144+0000 | compress | METRIC - time 0.83s\n",
      "2025-07-17T09:20:10.348878+0000 | compress | METRIC - error 249.24\n",
      "2025-07-17T09:20:10.349564+0000 | compress | METRIC - GPU 0 | usage: 25.07% | total memory: 24 GB\n",
      "2025-07-17T09:20:10.350063+0000 | compress | METRIC - Compressed module size: 33.947648 MB\n",
      "2025-07-17T09:20:10.350800+0000 | compress_modules | INFO - Quantizing model.layers.26.mlp.down_proj using 512 samples\n",
      "2025-07-17T09:20:13.865119+0000 | compress | METRIC - time 3.51s\n",
      "2025-07-17T09:20:13.867240+0000 | compress | METRIC - error 1174.80\n",
      "2025-07-17T09:20:13.867985+0000 | compress | METRIC - GPU 0 | usage: 25.07% | total memory: 24 GB\n",
      "2025-07-17T09:20:13.868341+0000 | compress | METRIC - Compressed module size: 33.947648 MB\n"
     ]
    },
    {
     "name": "stderr",
     "output_type": "stream",
     "text": [
      "(27/41): Propagating: 100%|██████████| 512/512 [00:01<00:00, 465.63it/s]\n",
      "(28/41): Calibrating: 100%|██████████| 512/512 [00:07<00:00, 66.46it/s]"
     ]
    },
    {
     "name": "stdout",
     "output_type": "stream",
     "text": [
      "2025-07-17T09:20:22.699485+0000 | compress_modules | INFO - Quantizing model.layers.27.self_attn.q_proj using 512 samples\n"
     ]
    },
    {
     "name": "stderr",
     "output_type": "stream",
     "text": [
      "\n"
     ]
    },
    {
     "name": "stdout",
     "output_type": "stream",
     "text": [
      "2025-07-17T09:20:23.530916+0000 | compress | METRIC - time 0.83s\n",
      "2025-07-17T09:20:23.531891+0000 | compress | METRIC - error 45329.41\n",
      "2025-07-17T09:20:23.532659+0000 | compress | METRIC - GPU 0 | usage: 25.07% | total memory: 24 GB\n",
      "2025-07-17T09:20:23.533146+0000 | compress | METRIC - Compressed module size: 8.486912 MB\n",
      "2025-07-17T09:20:23.534064+0000 | compress_modules | INFO - Quantizing model.layers.27.self_attn.k_proj using 512 samples\n",
      "2025-07-17T09:20:24.336473+0000 | compress | METRIC - time 0.80s\n",
      "2025-07-17T09:20:24.337642+0000 | compress | METRIC - error 17873.83\n",
      "2025-07-17T09:20:24.338395+0000 | compress | METRIC - GPU 0 | usage: 25.07% | total memory: 24 GB\n",
      "2025-07-17T09:20:24.338897+0000 | compress | METRIC - Compressed module size: 2.121728 MB\n",
      "2025-07-17T09:20:24.339836+0000 | compress_modules | INFO - Quantizing model.layers.27.self_attn.v_proj using 512 samples\n",
      "2025-07-17T09:20:25.141974+0000 | compress | METRIC - time 0.80s\n",
      "2025-07-17T09:20:25.142956+0000 | compress | METRIC - error 4917.95\n",
      "2025-07-17T09:20:25.143895+0000 | compress | METRIC - GPU 0 | usage: 25.07% | total memory: 24 GB\n",
      "2025-07-17T09:20:25.144386+0000 | compress | METRIC - Compressed module size: 2.121728 MB\n",
      "2025-07-17T09:20:25.145333+0000 | compress_modules | INFO - Quantizing model.layers.27.self_attn.o_proj using 512 samples\n",
      "2025-07-17T09:20:25.962627+0000 | compress | METRIC - time 0.82s\n",
      "2025-07-17T09:20:25.963677+0000 | compress | METRIC - error 262.76\n",
      "2025-07-17T09:20:25.964713+0000 | compress | METRIC - GPU 0 | usage: 25.07% | total memory: 24 GB\n",
      "2025-07-17T09:20:25.965211+0000 | compress | METRIC - Compressed module size: 8.486912 MB\n",
      "2025-07-17T09:20:25.966129+0000 | compress_modules | INFO - Quantizing model.layers.27.mlp.gate_proj using 512 samples\n",
      "2025-07-17T09:20:26.897399+0000 | compress | METRIC - time 0.93s\n",
      "2025-07-17T09:20:26.898620+0000 | compress | METRIC - error 20918.68\n",
      "2025-07-17T09:20:26.899236+0000 | compress | METRIC - GPU 0 | usage: 25.07% | total memory: 24 GB\n",
      "2025-07-17T09:20:26.899676+0000 | compress | METRIC - Compressed module size: 33.947648 MB\n",
      "2025-07-17T09:20:26.900442+0000 | compress_modules | INFO - Quantizing model.layers.27.mlp.up_proj using 512 samples\n",
      "2025-07-17T09:20:27.759971+0000 | compress | METRIC - time 0.86s\n",
      "2025-07-17T09:20:27.760994+0000 | compress | METRIC - error 259.51\n",
      "2025-07-17T09:20:27.762057+0000 | compress | METRIC - GPU 0 | usage: 25.07% | total memory: 24 GB\n",
      "2025-07-17T09:20:27.762521+0000 | compress | METRIC - Compressed module size: 33.947648 MB\n",
      "2025-07-17T09:20:27.763263+0000 | compress_modules | INFO - Quantizing model.layers.27.mlp.down_proj using 512 samples\n",
      "2025-07-17T09:20:31.315836+0000 | compress | METRIC - time 3.55s\n",
      "2025-07-17T09:20:31.317958+0000 | compress | METRIC - error 1484.32\n",
      "2025-07-17T09:20:31.318650+0000 | compress | METRIC - GPU 0 | usage: 25.07% | total memory: 24 GB\n",
      "2025-07-17T09:20:31.319378+0000 | compress | METRIC - Compressed module size: 33.947648 MB\n"
     ]
    },
    {
     "name": "stderr",
     "output_type": "stream",
     "text": [
      "(28/41): Propagating: 100%|██████████| 512/512 [00:01<00:00, 465.84it/s]\n",
      "(29/41): Calibrating: 100%|██████████| 512/512 [00:07<00:00, 66.55it/s]"
     ]
    },
    {
     "name": "stdout",
     "output_type": "stream",
     "text": [
      "2025-07-17T09:20:40.139567+0000 | compress_modules | INFO - Quantizing model.layers.28.self_attn.q_proj using 512 samples\n"
     ]
    },
    {
     "name": "stderr",
     "output_type": "stream",
     "text": [
      "\n"
     ]
    },
    {
     "name": "stdout",
     "output_type": "stream",
     "text": [
      "2025-07-17T09:20:40.968021+0000 | compress | METRIC - time 0.83s\n",
      "2025-07-17T09:20:40.969032+0000 | compress | METRIC - error 50712.64\n",
      "2025-07-17T09:20:40.969715+0000 | compress | METRIC - GPU 0 | usage: 25.07% | total memory: 24 GB\n",
      "2025-07-17T09:20:40.970273+0000 | compress | METRIC - Compressed module size: 8.486912 MB\n",
      "2025-07-17T09:20:40.970880+0000 | compress_modules | INFO - Quantizing model.layers.28.self_attn.k_proj using 512 samples\n",
      "2025-07-17T09:20:41.778819+0000 | compress | METRIC - time 0.81s\n",
      "2025-07-17T09:20:41.779903+0000 | compress | METRIC - error 18863.51\n",
      "2025-07-17T09:20:41.835905+0000 | compress | METRIC - GPU 0 | usage: 25.07% | total memory: 24 GB\n",
      "2025-07-17T09:20:41.836444+0000 | compress | METRIC - Compressed module size: 2.121728 MB\n",
      "2025-07-17T09:20:41.837235+0000 | compress_modules | INFO - Quantizing model.layers.28.self_attn.v_proj using 512 samples\n",
      "2025-07-17T09:20:42.651368+0000 | compress | METRIC - time 0.81s\n",
      "2025-07-17T09:20:42.652394+0000 | compress | METRIC - error 6335.20\n",
      "2025-07-17T09:20:42.653142+0000 | compress | METRIC - GPU 0 | usage: 25.07% | total memory: 24 GB\n",
      "2025-07-17T09:20:42.653562+0000 | compress | METRIC - Compressed module size: 2.121728 MB\n",
      "2025-07-17T09:20:42.654226+0000 | compress_modules | INFO - Quantizing model.layers.28.self_attn.o_proj using 512 samples\n",
      "2025-07-17T09:20:43.467806+0000 | compress | METRIC - time 0.81s\n",
      "2025-07-17T09:20:43.468830+0000 | compress | METRIC - error 345.17\n",
      "2025-07-17T09:20:43.469639+0000 | compress | METRIC - GPU 0 | usage: 25.07% | total memory: 24 GB\n",
      "2025-07-17T09:20:43.470067+0000 | compress | METRIC - Compressed module size: 8.486912 MB\n",
      "2025-07-17T09:20:43.470747+0000 | compress_modules | INFO - Quantizing model.layers.28.mlp.gate_proj using 512 samples\n",
      "2025-07-17T09:20:44.321829+0000 | compress | METRIC - time 0.85s\n",
      "2025-07-17T09:20:44.322877+0000 | compress | METRIC - error 23520.65\n",
      "2025-07-17T09:20:44.323594+0000 | compress | METRIC - GPU 0 | usage: 25.07% | total memory: 24 GB\n",
      "2025-07-17T09:20:44.323985+0000 | compress | METRIC - Compressed module size: 33.947648 MB\n",
      "2025-07-17T09:20:44.324692+0000 | compress_modules | INFO - Quantizing model.layers.28.mlp.up_proj using 512 samples\n",
      "2025-07-17T09:20:45.165859+0000 | compress | METRIC - time 0.84s\n",
      "2025-07-17T09:20:45.166929+0000 | compress | METRIC - error 274.63\n",
      "2025-07-17T09:20:45.167935+0000 | compress | METRIC - GPU 0 | usage: 25.07% | total memory: 24 GB\n",
      "2025-07-17T09:20:45.168333+0000 | compress | METRIC - Compressed module size: 33.947648 MB\n",
      "2025-07-17T09:20:45.169086+0000 | compress_modules | INFO - Quantizing model.layers.28.mlp.down_proj using 512 samples\n",
      "2025-07-17T09:20:48.692334+0000 | compress | METRIC - time 3.52s\n",
      "2025-07-17T09:20:48.694472+0000 | compress | METRIC - error 1922.31\n",
      "2025-07-17T09:20:48.695155+0000 | compress | METRIC - GPU 0 | usage: 25.07% | total memory: 24 GB\n",
      "2025-07-17T09:20:48.695633+0000 | compress | METRIC - Compressed module size: 33.947648 MB\n"
     ]
    },
    {
     "name": "stderr",
     "output_type": "stream",
     "text": [
      "(29/41): Propagating: 100%|██████████| 512/512 [00:01<00:00, 463.48it/s]\n",
      "(30/41): Calibrating: 100%|██████████| 512/512 [00:07<00:00, 66.42it/s]"
     ]
    },
    {
     "name": "stdout",
     "output_type": "stream",
     "text": [
      "2025-07-17T09:20:57.537124+0000 | compress_modules | INFO - Quantizing model.layers.29.self_attn.q_proj using 512 samples\n"
     ]
    },
    {
     "name": "stderr",
     "output_type": "stream",
     "text": [
      "\n"
     ]
    },
    {
     "name": "stdout",
     "output_type": "stream",
     "text": [
      "2025-07-17T09:20:58.383054+0000 | compress | METRIC - time 0.84s\n",
      "2025-07-17T09:20:58.384062+0000 | compress | METRIC - error 44708.07\n",
      "2025-07-17T09:20:58.384925+0000 | compress | METRIC - GPU 0 | usage: 25.08% | total memory: 24 GB\n",
      "2025-07-17T09:20:58.385354+0000 | compress | METRIC - Compressed module size: 8.486912 MB\n",
      "2025-07-17T09:20:58.386255+0000 | compress_modules | INFO - Quantizing model.layers.29.self_attn.k_proj using 512 samples\n",
      "2025-07-17T09:20:59.218741+0000 | compress | METRIC - time 0.83s\n",
      "2025-07-17T09:20:59.219813+0000 | compress | METRIC - error 16112.13\n",
      "2025-07-17T09:20:59.220621+0000 | compress | METRIC - GPU 0 | usage: 25.08% | total memory: 24 GB\n",
      "2025-07-17T09:20:59.221203+0000 | compress | METRIC - Compressed module size: 2.121728 MB\n",
      "2025-07-17T09:20:59.221967+0000 | compress_modules | INFO - Quantizing model.layers.29.self_attn.v_proj using 512 samples\n",
      "2025-07-17T09:21:00.048054+0000 | compress | METRIC - time 0.83s\n",
      "2025-07-17T09:21:00.048978+0000 | compress | METRIC - error 5955.69\n",
      "2025-07-17T09:21:00.049828+0000 | compress | METRIC - GPU 0 | usage: 25.08% | total memory: 24 GB\n",
      "2025-07-17T09:21:00.050256+0000 | compress | METRIC - Compressed module size: 2.121728 MB\n",
      "2025-07-17T09:21:00.051078+0000 | compress_modules | INFO - Quantizing model.layers.29.self_attn.o_proj using 512 samples\n",
      "2025-07-17T09:21:00.884972+0000 | compress | METRIC - time 0.83s\n",
      "2025-07-17T09:21:00.886071+0000 | compress | METRIC - error 574.16\n",
      "2025-07-17T09:21:00.886708+0000 | compress | METRIC - GPU 0 | usage: 25.08% | total memory: 24 GB\n",
      "2025-07-17T09:21:00.887248+0000 | compress | METRIC - Compressed module size: 8.486912 MB\n",
      "2025-07-17T09:21:00.888065+0000 | compress_modules | INFO - Quantizing model.layers.29.mlp.gate_proj using 512 samples\n",
      "2025-07-17T09:21:01.758232+0000 | compress | METRIC - time 0.87s\n",
      "2025-07-17T09:21:01.759282+0000 | compress | METRIC - error 26033.85\n",
      "2025-07-17T09:21:01.760157+0000 | compress | METRIC - GPU 0 | usage: 25.08% | total memory: 24 GB\n",
      "2025-07-17T09:21:01.760911+0000 | compress | METRIC - Compressed module size: 33.947648 MB\n",
      "2025-07-17T09:21:01.761655+0000 | compress_modules | INFO - Quantizing model.layers.29.mlp.up_proj using 512 samples\n",
      "2025-07-17T09:21:02.632790+0000 | compress | METRIC - time 0.87s\n",
      "2025-07-17T09:21:02.633807+0000 | compress | METRIC - error 292.46\n",
      "2025-07-17T09:21:02.634934+0000 | compress | METRIC - GPU 0 | usage: 25.08% | total memory: 24 GB\n",
      "2025-07-17T09:21:02.635460+0000 | compress | METRIC - Compressed module size: 33.947648 MB\n",
      "2025-07-17T09:21:02.636217+0000 | compress_modules | INFO - Quantizing model.layers.29.mlp.down_proj using 512 samples\n",
      "2025-07-17T09:21:06.269097+0000 | compress | METRIC - time 3.63s\n",
      "2025-07-17T09:21:06.271229+0000 | compress | METRIC - error 2752.98\n",
      "2025-07-17T09:21:06.271935+0000 | compress | METRIC - GPU 0 | usage: 25.08% | total memory: 24 GB\n",
      "2025-07-17T09:21:06.272378+0000 | compress | METRIC - Compressed module size: 33.947648 MB\n"
     ]
    },
    {
     "name": "stderr",
     "output_type": "stream",
     "text": [
      "(30/41): Propagating: 100%|██████████| 512/512 [00:01<00:00, 462.23it/s]\n",
      "(31/41): Calibrating: 100%|██████████| 512/512 [00:07<00:00, 66.53it/s]"
     ]
    },
    {
     "name": "stdout",
     "output_type": "stream",
     "text": [
      "2025-07-17T09:21:15.103407+0000 | compress_modules | INFO - Quantizing model.layers.30.self_attn.q_proj using 512 samples\n"
     ]
    },
    {
     "name": "stderr",
     "output_type": "stream",
     "text": [
      "\n"
     ]
    },
    {
     "name": "stdout",
     "output_type": "stream",
     "text": [
      "2025-07-17T09:21:15.924720+0000 | compress | METRIC - time 0.82s\n",
      "2025-07-17T09:21:15.925751+0000 | compress | METRIC - error 58578.48\n",
      "2025-07-17T09:21:15.926497+0000 | compress | METRIC - GPU 0 | usage: 25.07% | total memory: 24 GB\n",
      "2025-07-17T09:21:15.926943+0000 | compress | METRIC - Compressed module size: 8.486912 MB\n",
      "2025-07-17T09:21:15.927641+0000 | compress_modules | INFO - Quantizing model.layers.30.self_attn.k_proj using 512 samples\n",
      "2025-07-17T09:21:16.754310+0000 | compress | METRIC - time 0.83s\n",
      "2025-07-17T09:21:16.755338+0000 | compress | METRIC - error 21071.55\n",
      "2025-07-17T09:21:16.756005+0000 | compress | METRIC - GPU 0 | usage: 25.07% | total memory: 24 GB\n",
      "2025-07-17T09:21:16.756394+0000 | compress | METRIC - Compressed module size: 2.121728 MB\n",
      "2025-07-17T09:21:16.757353+0000 | compress_modules | INFO - Quantizing model.layers.30.self_attn.v_proj using 512 samples\n",
      "2025-07-17T09:21:17.570608+0000 | compress | METRIC - time 0.81s\n",
      "2025-07-17T09:21:17.571661+0000 | compress | METRIC - error 10900.80\n",
      "2025-07-17T09:21:17.572502+0000 | compress | METRIC - GPU 0 | usage: 25.07% | total memory: 24 GB\n",
      "2025-07-17T09:21:17.572960+0000 | compress | METRIC - Compressed module size: 2.121728 MB\n",
      "2025-07-17T09:21:17.573900+0000 | compress_modules | INFO - Quantizing model.layers.30.self_attn.o_proj using 512 samples\n",
      "2025-07-17T09:21:18.382501+0000 | compress | METRIC - time 0.81s\n",
      "2025-07-17T09:21:18.383504+0000 | compress | METRIC - error 1085.63\n",
      "2025-07-17T09:21:18.384301+0000 | compress | METRIC - GPU 0 | usage: 25.07% | total memory: 24 GB\n",
      "2025-07-17T09:21:18.384752+0000 | compress | METRIC - Compressed module size: 8.486912 MB\n",
      "2025-07-17T09:21:18.385697+0000 | compress_modules | INFO - Quantizing model.layers.30.mlp.gate_proj using 512 samples\n",
      "2025-07-17T09:21:19.241574+0000 | compress | METRIC - time 0.86s\n",
      "2025-07-17T09:21:19.242643+0000 | compress | METRIC - error 29408.91\n",
      "2025-07-17T09:21:19.243358+0000 | compress | METRIC - GPU 0 | usage: 25.07% | total memory: 24 GB\n",
      "2025-07-17T09:21:19.243781+0000 | compress | METRIC - Compressed module size: 33.947648 MB\n",
      "2025-07-17T09:21:19.244652+0000 | compress_modules | INFO - Quantizing model.layers.30.mlp.up_proj using 512 samples\n",
      "2025-07-17T09:21:20.093643+0000 | compress | METRIC - time 0.85s\n",
      "2025-07-17T09:21:20.094660+0000 | compress | METRIC - error 314.91\n",
      "2025-07-17T09:21:20.095388+0000 | compress | METRIC - GPU 0 | usage: 25.07% | total memory: 24 GB\n",
      "2025-07-17T09:21:20.095938+0000 | compress | METRIC - Compressed module size: 33.947648 MB\n",
      "2025-07-17T09:21:20.096569+0000 | compress_modules | INFO - Quantizing model.layers.30.mlp.down_proj using 512 samples\n",
      "2025-07-17T09:21:23.623474+0000 | compress | METRIC - time 3.53s\n",
      "2025-07-17T09:21:23.625617+0000 | compress | METRIC - error 3632.28\n",
      "2025-07-17T09:21:23.626310+0000 | compress | METRIC - GPU 0 | usage: 25.07% | total memory: 24 GB\n",
      "2025-07-17T09:21:23.626724+0000 | compress | METRIC - Compressed module size: 33.947648 MB\n"
     ]
    },
    {
     "name": "stderr",
     "output_type": "stream",
     "text": [
      "(31/41): Propagating: 100%|██████████| 512/512 [00:01<00:00, 465.75it/s]\n",
      "(32/41): Calibrating: 100%|██████████| 512/512 [00:07<00:00, 66.65it/s]"
     ]
    },
    {
     "name": "stdout",
     "output_type": "stream",
     "text": [
      "2025-07-17T09:21:32.438722+0000 | compress_modules | INFO - Quantizing model.layers.31.self_attn.q_proj using 512 samples\n"
     ]
    },
    {
     "name": "stderr",
     "output_type": "stream",
     "text": [
      "\n"
     ]
    },
    {
     "name": "stdout",
     "output_type": "stream",
     "text": [
      "2025-07-17T09:21:33.271001+0000 | compress | METRIC - time 0.83s\n",
      "2025-07-17T09:21:33.272014+0000 | compress | METRIC - error 73469.30\n",
      "2025-07-17T09:21:33.272737+0000 | compress | METRIC - GPU 0 | usage: 25.08% | total memory: 24 GB\n",
      "2025-07-17T09:21:33.273117+0000 | compress | METRIC - Compressed module size: 8.486912 MB\n",
      "2025-07-17T09:21:33.273919+0000 | compress_modules | INFO - Quantizing model.layers.31.self_attn.k_proj using 512 samples\n",
      "2025-07-17T09:21:34.083015+0000 | compress | METRIC - time 0.81s\n",
      "2025-07-17T09:21:34.084047+0000 | compress | METRIC - error 26961.98\n",
      "2025-07-17T09:21:34.084760+0000 | compress | METRIC - GPU 0 | usage: 25.08% | total memory: 24 GB\n",
      "2025-07-17T09:21:34.085139+0000 | compress | METRIC - Compressed module size: 2.121728 MB\n",
      "2025-07-17T09:21:34.086068+0000 | compress_modules | INFO - Quantizing model.layers.31.self_attn.v_proj using 512 samples\n",
      "2025-07-17T09:21:34.894990+0000 | compress | METRIC - time 0.81s\n",
      "2025-07-17T09:21:34.896006+0000 | compress | METRIC - error 9896.30\n",
      "2025-07-17T09:21:34.896733+0000 | compress | METRIC - GPU 0 | usage: 25.08% | total memory: 24 GB\n",
      "2025-07-17T09:21:34.897153+0000 | compress | METRIC - Compressed module size: 2.121728 MB\n",
      "2025-07-17T09:21:34.897912+0000 | compress_modules | INFO - Quantizing model.layers.31.self_attn.o_proj using 512 samples\n",
      "2025-07-17T09:21:35.709716+0000 | compress | METRIC - time 0.81s\n",
      "2025-07-17T09:21:35.710787+0000 | compress | METRIC - error 1227.98\n",
      "2025-07-17T09:21:35.711538+0000 | compress | METRIC - GPU 0 | usage: 25.08% | total memory: 24 GB\n",
      "2025-07-17T09:21:35.712088+0000 | compress | METRIC - Compressed module size: 8.486912 MB\n",
      "2025-07-17T09:21:35.712731+0000 | compress_modules | INFO - Quantizing model.layers.31.mlp.gate_proj using 512 samples\n",
      "2025-07-17T09:21:36.560130+0000 | compress | METRIC - time 0.85s\n",
      "2025-07-17T09:21:36.561225+0000 | compress | METRIC - error 32703.99\n",
      "2025-07-17T09:21:36.562030+0000 | compress | METRIC - GPU 0 | usage: 25.08% | total memory: 24 GB\n",
      "2025-07-17T09:21:36.562649+0000 | compress | METRIC - Compressed module size: 33.947648 MB\n",
      "2025-07-17T09:21:36.563314+0000 | compress_modules | INFO - Quantizing model.layers.31.mlp.up_proj using 512 samples\n",
      "2025-07-17T09:21:37.406734+0000 | compress | METRIC - time 0.84s\n",
      "2025-07-17T09:21:37.407759+0000 | compress | METRIC - error 337.89\n",
      "2025-07-17T09:21:37.408478+0000 | compress | METRIC - GPU 0 | usage: 25.08% | total memory: 24 GB\n",
      "2025-07-17T09:21:37.408890+0000 | compress | METRIC - Compressed module size: 33.947648 MB\n",
      "2025-07-17T09:21:37.409558+0000 | compress_modules | INFO - Quantizing model.layers.31.mlp.down_proj using 512 samples\n",
      "2025-07-17T09:21:40.928133+0000 | compress | METRIC - time 3.52s\n",
      "2025-07-17T09:21:40.930261+0000 | compress | METRIC - error 5607.13\n",
      "2025-07-17T09:21:40.930924+0000 | compress | METRIC - GPU 0 | usage: 25.08% | total memory: 24 GB\n",
      "2025-07-17T09:21:40.931343+0000 | compress | METRIC - Compressed module size: 33.947648 MB\n"
     ]
    },
    {
     "name": "stderr",
     "output_type": "stream",
     "text": [
      "(32/41): Propagating: 100%|██████████| 512/512 [00:01<00:00, 464.19it/s]\n",
      "(33/41): Calibrating: 100%|██████████| 512/512 [00:07<00:00, 66.46it/s]"
     ]
    },
    {
     "name": "stdout",
     "output_type": "stream",
     "text": [
      "2025-07-17T09:21:49.793598+0000 | compress_modules | INFO - Quantizing model.layers.32.self_attn.q_proj using 512 samples\n"
     ]
    },
    {
     "name": "stderr",
     "output_type": "stream",
     "text": [
      "\n"
     ]
    },
    {
     "name": "stdout",
     "output_type": "stream",
     "text": [
      "2025-07-17T09:21:50.630531+0000 | compress | METRIC - time 0.84s\n",
      "2025-07-17T09:21:50.631618+0000 | compress | METRIC - error 57086.66\n",
      "2025-07-17T09:21:50.632462+0000 | compress | METRIC - GPU 0 | usage: 25.08% | total memory: 24 GB\n",
      "2025-07-17T09:21:50.632892+0000 | compress | METRIC - Compressed module size: 8.486912 MB\n",
      "2025-07-17T09:21:50.633625+0000 | compress_modules | INFO - Quantizing model.layers.32.self_attn.k_proj using 512 samples\n",
      "2025-07-17T09:21:51.439022+0000 | compress | METRIC - time 0.81s\n",
      "2025-07-17T09:21:51.439999+0000 | compress | METRIC - error 22851.25\n",
      "2025-07-17T09:21:51.440771+0000 | compress | METRIC - GPU 0 | usage: 25.08% | total memory: 24 GB\n",
      "2025-07-17T09:21:51.441315+0000 | compress | METRIC - Compressed module size: 2.121728 MB\n",
      "2025-07-17T09:21:51.441967+0000 | compress_modules | INFO - Quantizing model.layers.32.self_attn.v_proj using 512 samples\n",
      "2025-07-17T09:21:52.250077+0000 | compress | METRIC - time 0.81s\n",
      "2025-07-17T09:21:52.251012+0000 | compress | METRIC - error 14955.31\n",
      "2025-07-17T09:21:52.251789+0000 | compress | METRIC - GPU 0 | usage: 25.08% | total memory: 24 GB\n",
      "2025-07-17T09:21:52.252208+0000 | compress | METRIC - Compressed module size: 2.121728 MB\n",
      "2025-07-17T09:21:52.252939+0000 | compress_modules | INFO - Quantizing model.layers.32.self_attn.o_proj using 512 samples\n",
      "2025-07-17T09:21:53.064211+0000 | compress | METRIC - time 0.81s\n",
      "2025-07-17T09:21:53.065168+0000 | compress | METRIC - error 1696.70\n",
      "2025-07-17T09:21:53.065876+0000 | compress | METRIC - GPU 0 | usage: 25.08% | total memory: 24 GB\n",
      "2025-07-17T09:21:53.066430+0000 | compress | METRIC - Compressed module size: 8.486912 MB\n",
      "2025-07-17T09:21:53.067079+0000 | compress_modules | INFO - Quantizing model.layers.32.mlp.gate_proj using 512 samples\n",
      "2025-07-17T09:21:53.922459+0000 | compress | METRIC - time 0.85s\n",
      "2025-07-17T09:21:53.923544+0000 | compress | METRIC - error 40621.80\n",
      "2025-07-17T09:21:53.924356+0000 | compress | METRIC - GPU 0 | usage: 25.08% | total memory: 24 GB\n",
      "2025-07-17T09:21:53.924808+0000 | compress | METRIC - Compressed module size: 33.947648 MB\n",
      "2025-07-17T09:21:53.925645+0000 | compress_modules | INFO - Quantizing model.layers.32.mlp.up_proj using 512 samples\n",
      "2025-07-17T09:21:54.776001+0000 | compress | METRIC - time 0.85s\n",
      "2025-07-17T09:21:54.776965+0000 | compress | METRIC - error 380.78\n",
      "2025-07-17T09:21:54.777792+0000 | compress | METRIC - GPU 0 | usage: 25.08% | total memory: 24 GB\n",
      "2025-07-17T09:21:54.778360+0000 | compress | METRIC - Compressed module size: 33.947648 MB\n",
      "2025-07-17T09:21:54.779231+0000 | compress_modules | INFO - Quantizing model.layers.32.mlp.down_proj using 512 samples\n",
      "2025-07-17T09:21:58.285785+0000 | compress | METRIC - time 3.51s\n",
      "2025-07-17T09:21:58.288346+0000 | compress | METRIC - error 9549.69\n",
      "2025-07-17T09:21:58.289090+0000 | compress | METRIC - GPU 0 | usage: 25.08% | total memory: 24 GB\n",
      "2025-07-17T09:21:58.289567+0000 | compress | METRIC - Compressed module size: 33.947648 MB\n"
     ]
    },
    {
     "name": "stderr",
     "output_type": "stream",
     "text": [
      "(33/41): Propagating: 100%|██████████| 512/512 [00:01<00:00, 466.47it/s]\n",
      "(34/41): Calibrating: 100%|██████████| 512/512 [00:07<00:00, 66.62it/s]"
     ]
    },
    {
     "name": "stdout",
     "output_type": "stream",
     "text": [
      "2025-07-17T09:22:07.100814+0000 | compress_modules | INFO - Quantizing model.layers.33.self_attn.q_proj using 512 samples\n"
     ]
    },
    {
     "name": "stderr",
     "output_type": "stream",
     "text": [
      "\n"
     ]
    },
    {
     "name": "stdout",
     "output_type": "stream",
     "text": [
      "2025-07-17T09:22:07.923936+0000 | compress | METRIC - time 0.82s\n",
      "2025-07-17T09:22:07.924917+0000 | compress | METRIC - error 75548.86\n",
      "2025-07-17T09:22:07.925663+0000 | compress | METRIC - GPU 0 | usage: 25.08% | total memory: 24 GB\n",
      "2025-07-17T09:22:07.926084+0000 | compress | METRIC - Compressed module size: 8.486912 MB\n",
      "2025-07-17T09:22:07.926797+0000 | compress_modules | INFO - Quantizing model.layers.33.self_attn.k_proj using 512 samples\n",
      "2025-07-17T09:22:08.725566+0000 | compress | METRIC - time 0.80s\n",
      "2025-07-17T09:22:08.726752+0000 | compress | METRIC - error 30731.62\n",
      "2025-07-17T09:22:08.727719+0000 | compress | METRIC - GPU 0 | usage: 25.08% | total memory: 24 GB\n",
      "2025-07-17T09:22:08.728219+0000 | compress | METRIC - Compressed module size: 2.121728 MB\n",
      "2025-07-17T09:22:08.728808+0000 | compress_modules | INFO - Quantizing model.layers.33.self_attn.v_proj using 512 samples\n",
      "2025-07-17T09:22:09.529207+0000 | compress | METRIC - time 0.80s\n",
      "2025-07-17T09:22:09.530214+0000 | compress | METRIC - error 22090.05\n",
      "2025-07-17T09:22:09.530924+0000 | compress | METRIC - GPU 0 | usage: 25.08% | total memory: 24 GB\n",
      "2025-07-17T09:22:09.531311+0000 | compress | METRIC - Compressed module size: 2.121728 MB\n",
      "2025-07-17T09:22:09.532037+0000 | compress_modules | INFO - Quantizing model.layers.33.self_attn.o_proj using 512 samples\n",
      "2025-07-17T09:22:10.343243+0000 | compress | METRIC - time 0.81s\n",
      "2025-07-17T09:22:10.344271+0000 | compress | METRIC - error 2001.29\n",
      "2025-07-17T09:22:10.344980+0000 | compress | METRIC - GPU 0 | usage: 25.08% | total memory: 24 GB\n",
      "2025-07-17T09:22:10.345446+0000 | compress | METRIC - Compressed module size: 8.486912 MB\n",
      "2025-07-17T09:22:10.346117+0000 | compress_modules | INFO - Quantizing model.layers.33.mlp.gate_proj using 512 samples\n",
      "2025-07-17T09:22:11.207512+0000 | compress | METRIC - time 0.86s\n",
      "2025-07-17T09:22:11.208507+0000 | compress | METRIC - error 44309.71\n",
      "2025-07-17T09:22:11.209005+0000 | compress | METRIC - GPU 0 | usage: 25.08% | total memory: 24 GB\n",
      "2025-07-17T09:22:11.209365+0000 | compress | METRIC - Compressed module size: 33.947648 MB\n",
      "2025-07-17T09:22:11.210500+0000 | compress_modules | INFO - Quantizing model.layers.33.mlp.up_proj using 512 samples\n",
      "2025-07-17T09:22:12.074101+0000 | compress | METRIC - time 0.86s\n",
      "2025-07-17T09:22:12.075146+0000 | compress | METRIC - error 400.64\n",
      "2025-07-17T09:22:12.076015+0000 | compress | METRIC - GPU 0 | usage: 25.08% | total memory: 24 GB\n",
      "2025-07-17T09:22:12.076491+0000 | compress | METRIC - Compressed module size: 33.947648 MB\n",
      "2025-07-17T09:22:12.077276+0000 | compress_modules | INFO - Quantizing model.layers.33.mlp.down_proj using 512 samples\n",
      "2025-07-17T09:22:15.585212+0000 | compress | METRIC - time 3.51s\n",
      "2025-07-17T09:22:15.587376+0000 | compress | METRIC - error 10583.79\n",
      "2025-07-17T09:22:15.588212+0000 | compress | METRIC - GPU 0 | usage: 25.08% | total memory: 24 GB\n",
      "2025-07-17T09:22:15.588717+0000 | compress | METRIC - Compressed module size: 33.947648 MB\n"
     ]
    },
    {
     "name": "stderr",
     "output_type": "stream",
     "text": [
      "(34/41): Propagating: 100%|██████████| 512/512 [00:01<00:00, 465.76it/s]\n",
      "(35/41): Calibrating: 100%|██████████| 512/512 [00:07<00:00, 66.45it/s]"
     ]
    },
    {
     "name": "stdout",
     "output_type": "stream",
     "text": [
      "2025-07-17T09:22:24.421549+0000 | compress_modules | INFO - Quantizing model.layers.34.self_attn.q_proj using 512 samples\n"
     ]
    },
    {
     "name": "stderr",
     "output_type": "stream",
     "text": [
      "\n"
     ]
    },
    {
     "name": "stdout",
     "output_type": "stream",
     "text": [
      "2025-07-17T09:22:25.245891+0000 | compress | METRIC - time 0.82s\n",
      "2025-07-17T09:22:25.246853+0000 | compress | METRIC - error 95343.88\n",
      "2025-07-17T09:22:25.247607+0000 | compress | METRIC - GPU 0 | usage: 25.08% | total memory: 24 GB\n",
      "2025-07-17T09:22:25.248234+0000 | compress | METRIC - Compressed module size: 8.486912 MB\n",
      "2025-07-17T09:22:25.248960+0000 | compress_modules | INFO - Quantizing model.layers.34.self_attn.k_proj using 512 samples\n",
      "2025-07-17T09:22:26.057992+0000 | compress | METRIC - time 0.81s\n",
      "2025-07-17T09:22:26.058970+0000 | compress | METRIC - error 33731.77\n",
      "2025-07-17T09:22:26.059760+0000 | compress | METRIC - GPU 0 | usage: 25.08% | total memory: 24 GB\n",
      "2025-07-17T09:22:26.060193+0000 | compress | METRIC - Compressed module size: 2.121728 MB\n",
      "2025-07-17T09:22:26.061042+0000 | compress_modules | INFO - Quantizing model.layers.34.self_attn.v_proj using 512 samples\n",
      "2025-07-17T09:22:26.874201+0000 | compress | METRIC - time 0.81s\n",
      "2025-07-17T09:22:26.875178+0000 | compress | METRIC - error 37703.88\n",
      "2025-07-17T09:22:26.876013+0000 | compress | METRIC - GPU 0 | usage: 25.08% | total memory: 24 GB\n",
      "2025-07-17T09:22:26.876487+0000 | compress | METRIC - Compressed module size: 2.121728 MB\n",
      "2025-07-17T09:22:26.877303+0000 | compress_modules | INFO - Quantizing model.layers.34.self_attn.o_proj using 512 samples\n",
      "2025-07-17T09:22:27.693657+0000 | compress | METRIC - time 0.82s\n",
      "2025-07-17T09:22:27.694660+0000 | compress | METRIC - error 2301.65\n",
      "2025-07-17T09:22:27.695527+0000 | compress | METRIC - GPU 0 | usage: 25.08% | total memory: 24 GB\n",
      "2025-07-17T09:22:27.695977+0000 | compress | METRIC - Compressed module size: 8.486912 MB\n",
      "2025-07-17T09:22:27.696813+0000 | compress_modules | INFO - Quantizing model.layers.34.mlp.gate_proj using 512 samples\n",
      "2025-07-17T09:22:28.543451+0000 | compress | METRIC - time 0.85s\n",
      "2025-07-17T09:22:28.544469+0000 | compress | METRIC - error 53906.08\n",
      "2025-07-17T09:22:28.545266+0000 | compress | METRIC - GPU 0 | usage: 25.08% | total memory: 24 GB\n",
      "2025-07-17T09:22:28.545721+0000 | compress | METRIC - Compressed module size: 33.947648 MB\n",
      "2025-07-17T09:22:28.546568+0000 | compress_modules | INFO - Quantizing model.layers.34.mlp.up_proj using 512 samples\n",
      "2025-07-17T09:22:29.398605+0000 | compress | METRIC - time 0.85s\n",
      "2025-07-17T09:22:29.399815+0000 | compress | METRIC - error 411.22\n",
      "2025-07-17T09:22:29.400531+0000 | compress | METRIC - GPU 0 | usage: 25.08% | total memory: 24 GB\n",
      "2025-07-17T09:22:29.400976+0000 | compress | METRIC - Compressed module size: 33.947648 MB\n",
      "2025-07-17T09:22:29.401814+0000 | compress_modules | INFO - Quantizing model.layers.34.mlp.down_proj using 512 samples\n",
      "2025-07-17T09:22:32.937628+0000 | compress | METRIC - time 3.54s\n",
      "2025-07-17T09:22:32.939940+0000 | compress | METRIC - error 12934.30\n",
      "2025-07-17T09:22:32.940654+0000 | compress | METRIC - GPU 0 | usage: 25.08% | total memory: 24 GB\n",
      "2025-07-17T09:22:32.941079+0000 | compress | METRIC - Compressed module size: 33.947648 MB\n"
     ]
    },
    {
     "name": "stderr",
     "output_type": "stream",
     "text": [
      "(35/41): Propagating: 100%|██████████| 512/512 [00:01<00:00, 466.50it/s]\n",
      "(36/41): Calibrating: 100%|██████████| 512/512 [00:07<00:00, 66.42it/s]"
     ]
    },
    {
     "name": "stdout",
     "output_type": "stream",
     "text": [
      "2025-07-17T09:22:41.776737+0000 | compress_modules | INFO - Quantizing model.layers.35.self_attn.q_proj using 512 samples\n"
     ]
    },
    {
     "name": "stderr",
     "output_type": "stream",
     "text": [
      "\n"
     ]
    },
    {
     "name": "stdout",
     "output_type": "stream",
     "text": [
      "2025-07-17T09:22:42.619000+0000 | compress | METRIC - time 0.84s\n",
      "2025-07-17T09:22:42.620072+0000 | compress | METRIC - error 89639.70\n",
      "2025-07-17T09:22:42.620829+0000 | compress | METRIC - GPU 0 | usage: 25.07% | total memory: 24 GB\n",
      "2025-07-17T09:22:42.621277+0000 | compress | METRIC - Compressed module size: 8.486912 MB\n",
      "2025-07-17T09:22:42.621981+0000 | compress_modules | INFO - Quantizing model.layers.35.self_attn.k_proj using 512 samples\n",
      "2025-07-17T09:22:43.422963+0000 | compress | METRIC - time 0.80s\n",
      "2025-07-17T09:22:43.424002+0000 | compress | METRIC - error 26552.77\n",
      "2025-07-17T09:22:43.424764+0000 | compress | METRIC - GPU 0 | usage: 25.07% | total memory: 24 GB\n",
      "2025-07-17T09:22:43.425147+0000 | compress | METRIC - Compressed module size: 2.121728 MB\n",
      "2025-07-17T09:22:43.425957+0000 | compress_modules | INFO - Quantizing model.layers.35.self_attn.v_proj using 512 samples\n",
      "2025-07-17T09:22:44.228712+0000 | compress | METRIC - time 0.80s\n",
      "2025-07-17T09:22:44.229835+0000 | compress | METRIC - error 54699.04\n",
      "2025-07-17T09:22:44.230593+0000 | compress | METRIC - GPU 0 | usage: 25.07% | total memory: 24 GB\n",
      "2025-07-17T09:22:44.231181+0000 | compress | METRIC - Compressed module size: 2.121728 MB\n",
      "2025-07-17T09:22:44.232029+0000 | compress_modules | INFO - Quantizing model.layers.35.self_attn.o_proj using 512 samples\n",
      "2025-07-17T09:22:45.053555+0000 | compress | METRIC - time 0.82s\n",
      "2025-07-17T09:22:45.054589+0000 | compress | METRIC - error 1957.69\n",
      "2025-07-17T09:22:45.055433+0000 | compress | METRIC - GPU 0 | usage: 25.07% | total memory: 24 GB\n",
      "2025-07-17T09:22:45.055892+0000 | compress | METRIC - Compressed module size: 8.486912 MB\n",
      "2025-07-17T09:22:45.056825+0000 | compress_modules | INFO - Quantizing model.layers.35.mlp.gate_proj using 512 samples\n",
      "2025-07-17T09:22:45.897338+0000 | compress | METRIC - time 0.84s\n",
      "2025-07-17T09:22:45.898358+0000 | compress | METRIC - error 58603.26\n",
      "2025-07-17T09:22:45.899334+0000 | compress | METRIC - GPU 0 | usage: 25.07% | total memory: 24 GB\n",
      "2025-07-17T09:22:45.899818+0000 | compress | METRIC - Compressed module size: 33.947648 MB\n",
      "2025-07-17T09:22:45.900710+0000 | compress_modules | INFO - Quantizing model.layers.35.mlp.up_proj using 512 samples\n",
      "2025-07-17T09:22:46.758173+0000 | compress | METRIC - time 0.86s\n",
      "2025-07-17T09:22:46.759231+0000 | compress | METRIC - error 411.54\n",
      "2025-07-17T09:22:46.760161+0000 | compress | METRIC - GPU 0 | usage: 25.07% | total memory: 24 GB\n",
      "2025-07-17T09:22:46.760662+0000 | compress | METRIC - Compressed module size: 33.947648 MB\n",
      "2025-07-17T09:22:46.761600+0000 | compress_modules | INFO - Quantizing model.layers.35.mlp.down_proj using 512 samples\n",
      "2025-07-17T09:22:50.300459+0000 | compress | METRIC - time 3.54s\n",
      "2025-07-17T09:22:50.302656+0000 | compress | METRIC - error 14768.28\n",
      "2025-07-17T09:22:50.303559+0000 | compress | METRIC - GPU 0 | usage: 25.07% | total memory: 24 GB\n",
      "2025-07-17T09:22:50.304066+0000 | compress | METRIC - Compressed module size: 33.947648 MB\n"
     ]
    },
    {
     "name": "stderr",
     "output_type": "stream",
     "text": [
      "(36/41): Propagating: 100%|██████████| 512/512 [00:01<00:00, 465.34it/s]\n",
      "(37/41): Calibrating: 100%|██████████| 512/512 [00:07<00:00, 66.47it/s]"
     ]
    },
    {
     "name": "stdout",
     "output_type": "stream",
     "text": [
      "2025-07-17T09:22:59.135519+0000 | compress_modules | INFO - Quantizing model.layers.36.self_attn.q_proj using 512 samples\n"
     ]
    },
    {
     "name": "stderr",
     "output_type": "stream",
     "text": [
      "\n"
     ]
    },
    {
     "name": "stdout",
     "output_type": "stream",
     "text": [
      "2025-07-17T09:22:59.956276+0000 | compress | METRIC - time 0.82s\n",
      "2025-07-17T09:22:59.957285+0000 | compress | METRIC - error 83624.81\n",
      "2025-07-17T09:22:59.958001+0000 | compress | METRIC - GPU 0 | usage: 25.07% | total memory: 24 GB\n",
      "2025-07-17T09:22:59.958361+0000 | compress | METRIC - Compressed module size: 8.486912 MB\n",
      "2025-07-17T09:22:59.959250+0000 | compress_modules | INFO - Quantizing model.layers.36.self_attn.k_proj using 512 samples\n",
      "2025-07-17T09:23:00.763615+0000 | compress | METRIC - time 0.80s\n",
      "2025-07-17T09:23:00.764667+0000 | compress | METRIC - error 22628.89\n",
      "2025-07-17T09:23:00.765384+0000 | compress | METRIC - GPU 0 | usage: 25.07% | total memory: 24 GB\n",
      "2025-07-17T09:23:00.765988+0000 | compress | METRIC - Compressed module size: 2.121728 MB\n",
      "2025-07-17T09:23:00.766663+0000 | compress_modules | INFO - Quantizing model.layers.36.self_attn.v_proj using 512 samples\n",
      "2025-07-17T09:23:01.560200+0000 | compress | METRIC - time 0.79s\n",
      "2025-07-17T09:23:01.561236+0000 | compress | METRIC - error 37131.72\n",
      "2025-07-17T09:23:01.561999+0000 | compress | METRIC - GPU 0 | usage: 25.07% | total memory: 24 GB\n",
      "2025-07-17T09:23:01.562597+0000 | compress | METRIC - Compressed module size: 2.121728 MB\n",
      "2025-07-17T09:23:01.563254+0000 | compress_modules | INFO - Quantizing model.layers.36.self_attn.o_proj using 512 samples\n",
      "2025-07-17T09:23:02.371977+0000 | compress | METRIC - time 0.81s\n",
      "2025-07-17T09:23:02.372991+0000 | compress | METRIC - error 2325.49\n",
      "2025-07-17T09:23:02.373733+0000 | compress | METRIC - GPU 0 | usage: 25.07% | total memory: 24 GB\n",
      "2025-07-17T09:23:02.374300+0000 | compress | METRIC - Compressed module size: 8.486912 MB\n",
      "2025-07-17T09:23:02.374947+0000 | compress_modules | INFO - Quantizing model.layers.36.mlp.gate_proj using 512 samples\n",
      "2025-07-17T09:23:03.257840+0000 | compress | METRIC - time 0.88s\n",
      "2025-07-17T09:23:03.259044+0000 | compress | METRIC - error 60674.19\n",
      "2025-07-17T09:23:03.259677+0000 | compress | METRIC - GPU 0 | usage: 25.07% | total memory: 24 GB\n",
      "2025-07-17T09:23:03.260111+0000 | compress | METRIC - Compressed module size: 33.947648 MB\n",
      "2025-07-17T09:23:03.260855+0000 | compress_modules | INFO - Quantizing model.layers.36.mlp.up_proj using 512 samples\n",
      "2025-07-17T09:23:04.133655+0000 | compress | METRIC - time 0.87s\n",
      "2025-07-17T09:23:04.134956+0000 | compress | METRIC - error 433.76\n",
      "2025-07-17T09:23:04.135672+0000 | compress | METRIC - GPU 0 | usage: 25.07% | total memory: 24 GB\n",
      "2025-07-17T09:23:04.136275+0000 | compress | METRIC - Compressed module size: 33.947648 MB\n",
      "2025-07-17T09:23:04.137344+0000 | compress_modules | INFO - Quantizing model.layers.36.mlp.down_proj using 512 samples\n",
      "2025-07-17T09:23:07.655606+0000 | compress | METRIC - time 3.52s\n",
      "2025-07-17T09:23:07.657796+0000 | compress | METRIC - error 19150.48\n",
      "2025-07-17T09:23:07.658536+0000 | compress | METRIC - GPU 0 | usage: 25.07% | total memory: 24 GB\n",
      "2025-07-17T09:23:07.659073+0000 | compress | METRIC - Compressed module size: 33.947648 MB\n"
     ]
    },
    {
     "name": "stderr",
     "output_type": "stream",
     "text": [
      "(37/41): Propagating: 100%|██████████| 512/512 [00:01<00:00, 466.68it/s]\n",
      "(38/41): Calibrating: 100%|██████████| 512/512 [00:07<00:00, 66.37it/s]"
     ]
    },
    {
     "name": "stdout",
     "output_type": "stream",
     "text": [
      "2025-07-17T09:23:16.500517+0000 | compress_modules | INFO - Quantizing model.layers.37.self_attn.q_proj using 512 samples\n"
     ]
    },
    {
     "name": "stderr",
     "output_type": "stream",
     "text": [
      "\n"
     ]
    },
    {
     "name": "stdout",
     "output_type": "stream",
     "text": [
      "2025-07-17T09:23:17.328354+0000 | compress | METRIC - time 0.83s\n",
      "2025-07-17T09:23:17.329083+0000 | compress | METRIC - error 78419.88\n",
      "2025-07-17T09:23:17.329745+0000 | compress | METRIC - GPU 0 | usage: 25.07% | total memory: 24 GB\n",
      "2025-07-17T09:23:17.330141+0000 | compress | METRIC - Compressed module size: 8.486912 MB\n",
      "2025-07-17T09:23:17.330916+0000 | compress_modules | INFO - Quantizing model.layers.37.self_attn.k_proj using 512 samples\n",
      "2025-07-17T09:23:18.159611+0000 | compress | METRIC - time 0.83s\n",
      "2025-07-17T09:23:18.160609+0000 | compress | METRIC - error 22057.50\n",
      "2025-07-17T09:23:18.161308+0000 | compress | METRIC - GPU 0 | usage: 25.07% | total memory: 24 GB\n",
      "2025-07-17T09:23:18.161733+0000 | compress | METRIC - Compressed module size: 2.121728 MB\n",
      "2025-07-17T09:23:18.162493+0000 | compress_modules | INFO - Quantizing model.layers.37.self_attn.v_proj using 512 samples\n",
      "2025-07-17T09:23:18.992199+0000 | compress | METRIC - time 0.83s\n",
      "2025-07-17T09:23:18.993282+0000 | compress | METRIC - error 25420.85\n",
      "2025-07-17T09:23:18.993979+0000 | compress | METRIC - GPU 0 | usage: 25.07% | total memory: 24 GB\n",
      "2025-07-17T09:23:18.994588+0000 | compress | METRIC - Compressed module size: 2.121728 MB\n",
      "2025-07-17T09:23:18.995354+0000 | compress_modules | INFO - Quantizing model.layers.37.self_attn.o_proj using 512 samples\n",
      "2025-07-17T09:23:19.802069+0000 | compress | METRIC - time 0.81s\n",
      "2025-07-17T09:23:19.803073+0000 | compress | METRIC - error 3076.64\n",
      "2025-07-17T09:23:19.803799+0000 | compress | METRIC - GPU 0 | usage: 25.07% | total memory: 24 GB\n",
      "2025-07-17T09:23:19.804157+0000 | compress | METRIC - Compressed module size: 8.486912 MB\n",
      "2025-07-17T09:23:19.804978+0000 | compress_modules | INFO - Quantizing model.layers.37.mlp.gate_proj using 512 samples\n",
      "2025-07-17T09:23:20.655795+0000 | compress | METRIC - time 0.85s\n",
      "2025-07-17T09:23:20.656894+0000 | compress | METRIC - error 72173.14\n",
      "2025-07-17T09:23:20.657641+0000 | compress | METRIC - GPU 0 | usage: 25.07% | total memory: 24 GB\n",
      "2025-07-17T09:23:20.658220+0000 | compress | METRIC - Compressed module size: 33.947648 MB\n",
      "2025-07-17T09:23:20.658881+0000 | compress_modules | INFO - Quantizing model.layers.37.mlp.up_proj using 512 samples\n",
      "2025-07-17T09:23:21.506732+0000 | compress | METRIC - time 0.85s\n",
      "2025-07-17T09:23:21.507786+0000 | compress | METRIC - error 461.65\n",
      "2025-07-17T09:23:21.508641+0000 | compress | METRIC - GPU 0 | usage: 25.07% | total memory: 24 GB\n",
      "2025-07-17T09:23:21.509218+0000 | compress | METRIC - Compressed module size: 33.947648 MB\n",
      "2025-07-17T09:23:21.509862+0000 | compress_modules | INFO - Quantizing model.layers.37.mlp.down_proj using 512 samples\n",
      "2025-07-17T09:23:25.032787+0000 | compress | METRIC - time 3.52s\n",
      "2025-07-17T09:23:25.034950+0000 | compress | METRIC - error 28367.95\n",
      "2025-07-17T09:23:25.035723+0000 | compress | METRIC - GPU 0 | usage: 25.07% | total memory: 24 GB\n",
      "2025-07-17T09:23:25.036119+0000 | compress | METRIC - Compressed module size: 33.947648 MB\n"
     ]
    },
    {
     "name": "stderr",
     "output_type": "stream",
     "text": [
      "(38/41): Propagating: 100%|██████████| 512/512 [00:01<00:00, 466.35it/s]\n",
      "(39/41): Calibrating: 100%|██████████| 512/512 [00:07<00:00, 66.83it/s]"
     ]
    },
    {
     "name": "stdout",
     "output_type": "stream",
     "text": [
      "2025-07-17T09:23:33.823929+0000 | compress_modules | INFO - Quantizing model.layers.38.self_attn.q_proj using 512 samples\n"
     ]
    },
    {
     "name": "stderr",
     "output_type": "stream",
     "text": [
      "\n"
     ]
    },
    {
     "name": "stdout",
     "output_type": "stream",
     "text": [
      "2025-07-17T09:23:34.656995+0000 | compress | METRIC - time 0.83s\n",
      "2025-07-17T09:23:34.658030+0000 | compress | METRIC - error 93430.33\n",
      "2025-07-17T09:23:34.658814+0000 | compress | METRIC - GPU 0 | usage: 25.08% | total memory: 24 GB\n",
      "2025-07-17T09:23:34.659444+0000 | compress | METRIC - Compressed module size: 8.486912 MB\n",
      "2025-07-17T09:23:34.660077+0000 | compress_modules | INFO - Quantizing model.layers.38.self_attn.k_proj using 512 samples\n",
      "2025-07-17T09:23:35.474771+0000 | compress | METRIC - time 0.81s\n",
      "2025-07-17T09:23:35.475832+0000 | compress | METRIC - error 24041.77\n",
      "2025-07-17T09:23:35.476719+0000 | compress | METRIC - GPU 0 | usage: 25.08% | total memory: 24 GB\n",
      "2025-07-17T09:23:35.477227+0000 | compress | METRIC - Compressed module size: 2.121728 MB\n",
      "2025-07-17T09:23:35.477960+0000 | compress_modules | INFO - Quantizing model.layers.38.self_attn.v_proj using 512 samples\n",
      "2025-07-17T09:23:36.292487+0000 | compress | METRIC - time 0.81s\n",
      "2025-07-17T09:23:36.293514+0000 | compress | METRIC - error 41810.59\n",
      "2025-07-17T09:23:36.294243+0000 | compress | METRIC - GPU 0 | usage: 25.08% | total memory: 24 GB\n",
      "2025-07-17T09:23:36.294683+0000 | compress | METRIC - Compressed module size: 2.121728 MB\n",
      "2025-07-17T09:23:36.295373+0000 | compress_modules | INFO - Quantizing model.layers.38.self_attn.o_proj using 512 samples\n",
      "2025-07-17T09:23:37.107475+0000 | compress | METRIC - time 0.81s\n",
      "2025-07-17T09:23:37.108509+0000 | compress | METRIC - error 5039.49\n",
      "2025-07-17T09:23:37.109260+0000 | compress | METRIC - GPU 0 | usage: 25.08% | total memory: 24 GB\n",
      "2025-07-17T09:23:37.109696+0000 | compress | METRIC - Compressed module size: 8.486912 MB\n",
      "2025-07-17T09:23:37.110375+0000 | compress_modules | INFO - Quantizing model.layers.38.mlp.gate_proj using 512 samples\n",
      "2025-07-17T09:23:37.974785+0000 | compress | METRIC - time 0.86s\n",
      "2025-07-17T09:23:37.976041+0000 | compress | METRIC - error 99964.67\n",
      "2025-07-17T09:23:37.976745+0000 | compress | METRIC - GPU 0 | usage: 25.08% | total memory: 24 GB\n",
      "2025-07-17T09:23:37.977183+0000 | compress | METRIC - Compressed module size: 33.947648 MB\n",
      "2025-07-17T09:23:37.978025+0000 | compress_modules | INFO - Quantizing model.layers.38.mlp.up_proj using 512 samples\n",
      "2025-07-17T09:23:38.913885+0000 | compress | METRIC - time 0.94s\n",
      "2025-07-17T09:23:38.914953+0000 | compress | METRIC - error 481.48\n",
      "2025-07-17T09:23:38.915765+0000 | compress | METRIC - GPU 0 | usage: 25.08% | total memory: 24 GB\n",
      "2025-07-17T09:23:38.916227+0000 | compress | METRIC - Compressed module size: 33.947648 MB\n",
      "2025-07-17T09:23:38.917094+0000 | compress_modules | INFO - Quantizing model.layers.38.mlp.down_proj using 512 samples\n",
      "2025-07-17T09:23:42.441305+0000 | compress | METRIC - time 3.52s\n",
      "2025-07-17T09:23:42.443610+0000 | compress | METRIC - error 62281.16\n",
      "2025-07-17T09:23:42.444372+0000 | compress | METRIC - GPU 0 | usage: 25.08% | total memory: 24 GB\n",
      "2025-07-17T09:23:42.445014+0000 | compress | METRIC - Compressed module size: 33.947648 MB\n"
     ]
    },
    {
     "name": "stderr",
     "output_type": "stream",
     "text": [
      "(39/41): Propagating: 100%|██████████| 512/512 [00:01<00:00, 466.85it/s]\n",
      "(40/41): Calibrating: 100%|██████████| 512/512 [00:07<00:00, 67.35it/s]"
     ]
    },
    {
     "name": "stdout",
     "output_type": "stream",
     "text": [
      "2025-07-17T09:23:51.171739+0000 | compress_modules | INFO - Quantizing model.layers.39.self_attn.q_proj using 512 samples\n"
     ]
    },
    {
     "name": "stderr",
     "output_type": "stream",
     "text": [
      "\n"
     ]
    },
    {
     "name": "stdout",
     "output_type": "stream",
     "text": [
      "2025-07-17T09:23:52.012056+0000 | compress | METRIC - time 0.84s\n",
      "2025-07-17T09:23:52.013042+0000 | compress | METRIC - error 68211.16\n",
      "2025-07-17T09:23:52.013800+0000 | compress | METRIC - GPU 0 | usage: 25.08% | total memory: 24 GB\n",
      "2025-07-17T09:23:52.014351+0000 | compress | METRIC - Compressed module size: 8.486912 MB\n",
      "2025-07-17T09:23:52.014977+0000 | compress_modules | INFO - Quantizing model.layers.39.self_attn.k_proj using 512 samples\n",
      "2025-07-17T09:23:52.818778+0000 | compress | METRIC - time 0.80s\n",
      "2025-07-17T09:23:52.819843+0000 | compress | METRIC - error 18803.32\n",
      "2025-07-17T09:23:52.820602+0000 | compress | METRIC - GPU 0 | usage: 25.08% | total memory: 24 GB\n",
      "2025-07-17T09:23:52.821033+0000 | compress | METRIC - Compressed module size: 2.121728 MB\n",
      "2025-07-17T09:23:52.821892+0000 | compress_modules | INFO - Quantizing model.layers.39.self_attn.v_proj using 512 samples\n",
      "2025-07-17T09:23:53.635544+0000 | compress | METRIC - time 0.81s\n",
      "2025-07-17T09:23:53.636610+0000 | compress | METRIC - error 34874.00\n",
      "2025-07-17T09:23:53.637237+0000 | compress | METRIC - GPU 0 | usage: 25.08% | total memory: 24 GB\n",
      "2025-07-17T09:23:53.637636+0000 | compress | METRIC - Compressed module size: 2.121728 MB\n",
      "2025-07-17T09:23:53.638334+0000 | compress_modules | INFO - Quantizing model.layers.39.self_attn.o_proj using 512 samples\n",
      "2025-07-17T09:23:54.471134+0000 | compress | METRIC - time 0.83s\n",
      "2025-07-17T09:23:54.472167+0000 | compress | METRIC - error 6103.38\n",
      "2025-07-17T09:23:54.472857+0000 | compress | METRIC - GPU 0 | usage: 25.08% | total memory: 24 GB\n",
      "2025-07-17T09:23:54.473227+0000 | compress | METRIC - Compressed module size: 8.486912 MB\n",
      "2025-07-17T09:23:54.473967+0000 | compress_modules | INFO - Quantizing model.layers.39.mlp.gate_proj using 512 samples\n",
      "2025-07-17T09:23:55.349456+0000 | compress | METRIC - time 0.88s\n",
      "2025-07-17T09:23:55.350402+0000 | compress | METRIC - error 97810.72\n",
      "2025-07-17T09:23:55.351092+0000 | compress | METRIC - GPU 0 | usage: 25.08% | total memory: 24 GB\n",
      "2025-07-17T09:23:55.351604+0000 | compress | METRIC - Compressed module size: 33.947648 MB\n",
      "2025-07-17T09:23:55.352197+0000 | compress_modules | INFO - Quantizing model.layers.39.mlp.up_proj using 512 samples\n",
      "2025-07-17T09:23:56.231491+0000 | compress | METRIC - time 0.88s\n",
      "2025-07-17T09:23:56.232515+0000 | compress | METRIC - error 419.43\n",
      "2025-07-17T09:23:56.233683+0000 | compress | METRIC - GPU 0 | usage: 25.08% | total memory: 24 GB\n",
      "2025-07-17T09:23:56.234191+0000 | compress | METRIC - Compressed module size: 33.947648 MB\n",
      "2025-07-17T09:23:56.235028+0000 | compress_modules | INFO - Quantizing model.layers.39.mlp.down_proj using 512 samples\n",
      "2025-07-17T09:23:59.853105+0000 | compress | METRIC - time 3.62s\n",
      "2025-07-17T09:23:59.855294+0000 | compress | METRIC - error 240588.09\n",
      "2025-07-17T09:23:59.856125+0000 | compress | METRIC - GPU 0 | usage: 25.08% | total memory: 24 GB\n",
      "2025-07-17T09:23:59.856562+0000 | compress | METRIC - Compressed module size: 33.947648 MB\n"
     ]
    },
    {
     "name": "stderr",
     "output_type": "stream",
     "text": [
      "(40/41): Propagating: 100%|██████████| 512/512 [00:01<00:00, 464.68it/s]\n",
      "(41/41): Calibrating: 100%|██████████| 512/512 [00:01<00:00, 302.82it/s]\n",
      "(41/41): Propagating: 100%|██████████| 512/512 [00:01<00:00, 302.48it/s]\n"
     ]
    },
    {
     "name": "stdout",
     "output_type": "stream",
     "text": [
      "2025-07-17T09:24:04.449763+0000 | finalize | INFO - Compression lifecycle finalized for 1 modifiers\n",
      "2025-07-17T09:24:05.002773+0000 | post_process | WARNING - Optimized model is not saved. To save, please provide`output_dir` as input arg.Ex. `oneshot(..., output_dir=...)`\n"
     ]
    }
   ],
   "source": [
    "oneshot(\n",
    "    model=model,\n",
    "    dataset=ds,\n",
    "    recipe=recipe,\n",
    "    num_calibration_samples=NUM_CALIBRATION_SAMPLES,\n",
    "    max_seq_length=8196,\n",
    ")"
   ]
  },
  {
   "cell_type": "markdown",
   "id": "105eef1b-2db4-4678-b3d5-9ebc33257424",
   "metadata": {},
   "source": [
    "### Save the Compressed Model"
   ]
  },
  {
   "cell_type": "markdown",
   "id": "712c61fb-8493-40d5-b15c-60f18084aaab",
   "metadata": {},
   "source": [
    "**Explanation**\n",
    "\n",
    "- Naming: appends -W4A16 to distinguish the quantized checkpoint.\n",
    "- **save_compressed=True** stores weights in compact safetensors format for deployment via vLLM."
   ]
  },
  {
   "cell_type": "code",
   "execution_count": 29,
   "id": "47f6d53f-8db5-40a1-874f-14d60b007b25",
   "metadata": {},
   "outputs": [
    {
     "name": "stdout",
     "output_type": "stream",
     "text": [
      "2025-07-17T04:41:16.812481+0000 | get_model_compressor | INFO - skip_sparsity_compression_stats set to True. Skipping sparsity compression statistic calculations. No sparsity compressor will be applied.\n"
     ]
    },
    {
     "name": "stderr",
     "output_type": "stream",
     "text": [
      "Compressing model: 527it [00:12, 43.02it/s]\n"
     ]
    },
    {
     "data": {
      "text/plain": [
       "('granite-3.2-2b-instruct-W4A16/tokenizer_config.json',\n",
       " 'granite-3.2-2b-instruct-W4A16/special_tokens_map.json',\n",
       " 'granite-3.2-2b-instruct-W4A16/chat_template.jinja',\n",
       " 'granite-3.2-2b-instruct-W4A16/vocab.json',\n",
       " 'granite-3.2-2b-instruct-W4A16/merges.txt',\n",
       " 'granite-3.2-2b-instruct-W4A16/added_tokens.json',\n",
       " 'granite-3.2-2b-instruct-W4A16/tokenizer.json')"
      ]
     },
     "execution_count": 29,
     "metadata": {},
     "output_type": "execute_result"
    }
   ],
   "source": [
    "# Save to disk compressed.\n",
    "SAVE_DIR = MODEL_ID.split(\"/\")[-1] + \"-W4A16\"\n",
    "model.save_pretrained(SAVE_DIR, save_compressed=True)\n",
    "tokenizer.save_pretrained(SAVE_DIR)"
   ]
  },
  {
   "cell_type": "markdown",
   "id": "7ed216fb-9c28-4bff-8033-b68c744b4cd9",
   "metadata": {},
   "source": [
    "### Evaluate accuracy in vLLM"
   ]
  },
  {
   "cell_type": "markdown",
   "id": "aa02cc91-dfca-4dc1-b150-692e3a309ad3",
   "metadata": {},
   "source": [
    "We can evaluate accuracy with lm_eval"
   ]
  },
  {
   "cell_type": "markdown",
   "id": "737002c6-1512-402f-adfa-965660478ece",
   "metadata": {},
   "source": [
    "##### Check GPU memory leftovers:"
   ]
  },
  {
   "cell_type": "code",
   "execution_count": 16,
   "id": "119cf001-f52b-46a2-a034-1a5ac99d8f38",
   "metadata": {},
   "outputs": [
    {
     "name": "stdout",
     "output_type": "stream",
     "text": [
      "Thu Jul 17 09:24:05 2025       \n",
      "+-----------------------------------------------------------------------------------------+\n",
      "| NVIDIA-SMI 570.148.08             Driver Version: 570.148.08     CUDA Version: 12.8     |\n",
      "|-----------------------------------------+------------------------+----------------------+\n",
      "| GPU  Name                 Persistence-M | Bus-Id          Disp.A | Volatile Uncorr. ECC |\n",
      "| Fan  Temp   Perf          Pwr:Usage/Cap |           Memory-Usage | GPU-Util  Compute M. |\n",
      "|                                         |                        |               MIG M. |\n",
      "|=========================================+========================+======================|\n",
      "|   0  NVIDIA L4                      On  |   00000000:31:00.0 Off |                    0 |\n",
      "| N/A   72C    P0             51W /   72W |    5552MiB /  23034MiB |     34%      Default |\n",
      "|                                         |                        |                  N/A |\n",
      "+-----------------------------------------+------------------------+----------------------+\n",
      "                                                                                         \n",
      "+-----------------------------------------------------------------------------------------+\n",
      "| Processes:                                                                              |\n",
      "|  GPU   GI   CI              PID   Type   Process name                        GPU Memory |\n",
      "|        ID   ID                                                               Usage      |\n",
      "|=========================================================================================|\n",
      "|    0   N/A  N/A              48      C   /opt/app-root/bin/python3.11           5544MiB |\n",
      "+-----------------------------------------------------------------------------------------+\n"
     ]
    }
   ],
   "source": [
    "!nvidia-smi"
   ]
  },
  {
   "cell_type": "markdown",
   "id": "33e2fa79-3e05-4f83-90b7-dd7be66513dc",
   "metadata": {},
   "source": [
    "**IMPORTANT**: After quantizing the model the GPU memory may not be freed (see the above output). You need to **restart the kernel** before evaluating the model to ensure you have enough GPU RAM available."
   ]
  },
  {
   "cell_type": "markdown",
   "id": "e8b5eab2-e7f1-4631-b74f-8e5b44d06dc2",
   "metadata": {},
   "source": [
    "#### Install lm_eval"
   ]
  },
  {
   "cell_type": "code",
   "execution_count": 2,
   "id": "4a8a3ad8-effc-4212-9c5d-ab09d772e73c",
   "metadata": {},
   "outputs": [
    {
     "name": "stdout",
     "output_type": "stream",
     "text": [
      "\n",
      "\u001b[1m[\u001b[0m\u001b[34;49mnotice\u001b[0m\u001b[1;39;49m]\u001b[0m\u001b[39;49m A new release of pip is available: \u001b[0m\u001b[31;49m24.2\u001b[0m\u001b[39;49m -> \u001b[0m\u001b[32;49m25.1.1\u001b[0m\n",
      "\u001b[1m[\u001b[0m\u001b[34;49mnotice\u001b[0m\u001b[1;39;49m]\u001b[0m\u001b[39;49m To update, run: \u001b[0m\u001b[32;49mpip install --upgrade pip\u001b[0m\n"
     ]
    }
   ],
   "source": [
    "!pip install -q lm_eval==v0.4.3"
   ]
  },
  {
   "cell_type": "markdown",
   "id": "7facbbf2-400c-424f-bada-4f224d4f5fd0",
   "metadata": {},
   "source": [
    "#### Install vLLM for evaluation"
   ]
  },
  {
   "cell_type": "markdown",
   "id": "f4d660bb-9435-4d1c-9599-7e9f8f1ca4ff",
   "metadata": {},
   "source": [
    "Run the following to test accuracy on GSM-8K:"
   ]
  },
  {
   "cell_type": "code",
   "execution_count": 3,
   "id": "fe802b4d-14f4-4379-a05d-e91741770c17",
   "metadata": {},
   "outputs": [
    {
     "name": "stdout",
     "output_type": "stream",
     "text": [
      "\u001b[31mERROR: pip's dependency resolver does not currently take into account all the packages that are installed. This behaviour is the source of the following dependency conflicts.\n",
      "llmcompressor 0.6.0 requires numpy<2.0,>=1.17.0, but you have numpy 2.2.6 which is incompatible.\u001b[0m\u001b[31m\n",
      "\u001b[0m\n",
      "\u001b[1m[\u001b[0m\u001b[34;49mnotice\u001b[0m\u001b[1;39;49m]\u001b[0m\u001b[39;49m A new release of pip is available: \u001b[0m\u001b[31;49m24.2\u001b[0m\u001b[39;49m -> \u001b[0m\u001b[32;49m25.1.1\u001b[0m\n",
      "\u001b[1m[\u001b[0m\u001b[34;49mnotice\u001b[0m\u001b[1;39;49m]\u001b[0m\u001b[39;49m To update, run: \u001b[0m\u001b[32;49mpip install --upgrade pip\u001b[0m\n",
      "Note: you may need to restart the kernel to use updated packages.\n"
     ]
    }
   ],
   "source": [
    "pip install -q vllm"
   ]
  },
  {
   "cell_type": "markdown",
   "id": "e9575f87-2dcd-4eb6-b433-9ddd56bde6f4",
   "metadata": {},
   "source": [
    "### Evaluation Command"
   ]
  },
  {
   "cell_type": "markdown",
   "id": "cac46967-6933-4cad-8f11-49bb61a5dd42",
   "metadata": {},
   "source": [
    "- `--model vllm` - Uses vLLM backend for fast, memory-efficient inference on large models \n",
    "- `--model_args` - pretrained=$MODEL_ID: specifies which model to load.\n",
    "- `add_bos_token=true`: ensures a beginning-of-sequence token is added; required for consistent results on math and reasoning tasks \n",
    "- `max_model_len=4096`: sets the context window the model uses for evaluation.\n",
    "- `gpu_memory_utilization=0.5`: limits vLLM to use 50% of GPU memory, allowing to avoid OOM."
   ]
  },
  {
   "cell_type": "code",
   "execution_count": 9,
   "id": "00fd85be-edf1-4736-86eb-fd93c09c146a",
   "metadata": {},
   "outputs": [
    {
     "name": "stdout",
     "output_type": "stream",
     "text": [
      "INFO 07-17 04:50:30 [__init__.py:244] Automatically detected platform cuda.\n",
      "2025-07-17:04:50:32,416 INFO     [__main__.py:272] Verbosity set to INFO\n",
      "2025-07-17:04:50:36,510 WARNING  [__main__.py:312]  --limit SHOULD ONLY BE USED FOR TESTING.REAL METRICS SHOULD NOT BE COMPUTED USING LIMIT.\n",
      "2025-07-17:04:50:36,511 INFO     [__main__.py:357] Passed `--trust_remote_code`, setting environment variable `HF_DATASETS_TRUST_REMOTE_CODE=true`\n",
      "2025-07-17:04:50:36,511 INFO     [__main__.py:369] Selected Tasks: ['gsm8k']\n",
      "2025-07-17:04:50:36,513 INFO     [evaluator.py:152] Setting random seed to 0 | Setting numpy seed to 1234 | Setting torch manual seed to 1234\n",
      "2025-07-17:04:50:36,513 INFO     [evaluator.py:189] Initializing vllm model, with arguments: {'pretrained': '/opt/app-root/src/showroom-summit2025-lb2959-neural-magic/lab-materials/03/granite-3.2-2b-instruct-W4A16', 'add_bos_token': True, 'max_model_len': 4096, 'gpu_memory_utilization': 0.5, 'trust_remote_code': True}\n",
      "INFO 07-17 04:50:43 [config.py:841] This model supports multiple tasks: {'classify', 'reward', 'embed', 'generate'}. Defaulting to 'generate'.\n",
      "INFO 07-17 04:50:43 [config.py:1472] Using max model len 4096\n",
      "INFO 07-17 04:50:43 [config.py:2285] Chunked prefill is enabled with max_num_batched_tokens=8192.\n",
      "INFO 07-17 04:50:44 [core.py:526] Waiting for init message from front-end.\n",
      "INFO 07-17 04:50:44 [core.py:69] Initializing a V1 LLM engine (v0.9.2) with config: model='/opt/app-root/src/showroom-summit2025-lb2959-neural-magic/lab-materials/03/granite-3.2-2b-instruct-W4A16', speculative_config=None, tokenizer='/opt/app-root/src/showroom-summit2025-lb2959-neural-magic/lab-materials/03/granite-3.2-2b-instruct-W4A16', skip_tokenizer_init=False, tokenizer_mode=auto, revision=None, override_neuron_config={}, tokenizer_revision=None, trust_remote_code=True, dtype=torch.bfloat16, max_seq_len=4096, download_dir=None, load_format=LoadFormat.AUTO, tensor_parallel_size=1, pipeline_parallel_size=1, disable_custom_all_reduce=False, quantization=compressed-tensors, enforce_eager=False, kv_cache_dtype=auto,  device_config=cuda, decoding_config=DecodingConfig(backend='auto', disable_fallback=False, disable_any_whitespace=False, disable_additional_properties=False, reasoning_backend=''), observability_config=ObservabilityConfig(show_hidden_metrics_for_version=None, otlp_traces_endpoint=None, collect_detailed_traces=None), seed=1234, served_model_name=/opt/app-root/src/showroom-summit2025-lb2959-neural-magic/lab-materials/03/granite-3.2-2b-instruct-W4A16, num_scheduler_steps=1, multi_step_stream_outputs=True, enable_prefix_caching=True, chunked_prefill_enabled=True, use_async_output_proc=True, pooler_config=None, compilation_config={\"level\":3,\"debug_dump_path\":\"\",\"cache_dir\":\"\",\"backend\":\"\",\"custom_ops\":[],\"splitting_ops\":[\"vllm.unified_attention\",\"vllm.unified_attention_with_output\"],\"use_inductor\":true,\"compile_sizes\":[],\"inductor_compile_config\":{\"enable_auto_functionalized_v2\":false},\"inductor_passes\":{},\"use_cudagraph\":true,\"cudagraph_num_of_warmups\":1,\"cudagraph_capture_sizes\":[512,504,496,488,480,472,464,456,448,440,432,424,416,408,400,392,384,376,368,360,352,344,336,328,320,312,304,296,288,280,272,264,256,248,240,232,224,216,208,200,192,184,176,168,160,152,144,136,128,120,112,104,96,88,80,72,64,56,48,40,32,24,16,8,4,2,1],\"cudagraph_copy_inputs\":false,\"full_cuda_graph\":false,\"max_capture_size\":512,\"local_cache_dir\":null}\n",
      "INFO 07-17 04:50:44 [parallel_state.py:1076] rank 0 in world size 1 is assigned as DP rank 0, PP rank 0, TP rank 0, EP rank 0\n",
      "WARNING 07-17 04:50:44 [topk_topp_sampler.py:59] FlashInfer is not available. Falling back to the PyTorch-native implementation of top-p & top-k sampling. For the best performance, please install FlashInfer.\n",
      "INFO 07-17 04:50:44 [gpu_model_runner.py:1770] Starting to load model /opt/app-root/src/showroom-summit2025-lb2959-neural-magic/lab-materials/03/granite-3.2-2b-instruct-W4A16...\n",
      "INFO 07-17 04:50:45 [gpu_model_runner.py:1775] Loading model from scratch...\n",
      "INFO 07-17 04:50:45 [compressed_tensors_wNa16.py:95] Using MarlinLinearKernel for CompressedTensorsWNA16\n",
      "INFO 07-17 04:50:45 [cuda.py:284] Using Flash Attention backend on V1 engine.\n",
      "Loading safetensors checkpoint shards:   0% Completed | 0/1 [00:00<?, ?it/s]\n",
      "Loading safetensors checkpoint shards: 100% Completed | 1/1 [00:00<00:00,  3.78it/s]\n",
      "Loading safetensors checkpoint shards: 100% Completed | 1/1 [00:00<00:00,  3.78it/s]\n",
      "\n",
      "INFO 07-17 04:50:45 [default_loader.py:272] Loading weights took 0.31 seconds\n",
      "INFO 07-17 04:50:46 [gpu_model_runner.py:1801] Model loading took 1.4034 GiB and 0.581417 seconds\n",
      "INFO 07-17 04:50:58 [backends.py:508] Using cache directory: /opt/app-root/src/.cache/vllm/torch_compile_cache/385037619d/rank_0_0/backbone for vLLM's torch.compile\n",
      "INFO 07-17 04:50:58 [backends.py:519] Dynamo bytecode transform time: 11.66 s\n",
      "INFO 07-17 04:51:01 [backends.py:181] Cache the graph of shape None for later use\n",
      "INFO 07-17 04:51:33 [backends.py:193] Compiling a graph for general shape takes 34.58 s\n",
      "INFO 07-17 04:52:24 [monitor.py:34] torch.compile takes 46.24 s in total\n",
      "INFO 07-17 04:52:26 [gpu_worker.py:232] Available KV cache memory: 9.03 GiB\n",
      "INFO 07-17 04:52:26 [kv_cache_utils.py:716] GPU KV cache size: 118,288 tokens\n",
      "INFO 07-17 04:52:26 [kv_cache_utils.py:720] Maximum concurrency for 4,096 tokens per request: 28.88x\n",
      "Capturing CUDA graph shapes: 100%|██████████████| 67/67 [00:35<00:00,  1.87it/s]\n",
      "INFO 07-17 04:53:02 [gpu_model_runner.py:2326] Graph capturing finished in 36 secs, took 0.64 GiB\n",
      "INFO 07-17 04:53:02 [core.py:172] init engine (profile, create kv cache, warmup model) took 136.22 seconds\n",
      "2025-07-17:04:53:03,933 WARNING  [evaluator.py:251] Overwriting default num_fewshot of gsm8k from 5 to 5\n",
      "2025-07-17:04:53:03,933 INFO     [evaluator.py:261] Setting fewshot random generator seed to 1234\n",
      "2025-07-17:04:53:03,934 INFO     [task.py:411] Building contexts for gsm8k on rank 0...\n",
      "100%|████████████████████████████████████████| 250/250 [00:00<00:00, 338.21it/s]\n",
      "2025-07-17:04:53:04,679 INFO     [evaluator.py:438] Running generate_until requests\n",
      "Running generate_until requests:   0%|                  | 0/250 [00:00<?, ?it/s]\n",
      "Adding requests: 100%|██████████████████████| 250/250 [00:00<00:00, 7301.10it/s]\u001b[A\n",
      "\n",
      "Processed prompts:   0%| | 0/250 [00:00<?, ?it/s, est. speed input: 0.00 toks/s,\u001b[A\n",
      "Processed prompts:   0%| | 1/250 [00:14<1:01:14, 14.76s/it, est. speed input: 89\u001b[A\n",
      "Processed prompts:   1%| | 2/250 [00:15<27:59,  6.77s/it, est. speed input: 191.\u001b[A\n",
      "Processed prompts:   1%| | 3/250 [00:16<16:09,  3.92s/it, est. speed input: 264.\u001b[A\n",
      "Processed prompts:   2%| | 5/250 [00:17<08:13,  2.01s/it, est. speed input: 390.\u001b[A\n",
      "Processed prompts:   2%| | 6/250 [00:18<06:37,  1.63s/it, est. speed input: 452.\u001b[A\n",
      "Processed prompts:   3%| | 7/250 [00:18<05:09,  1.28s/it, est. speed input: 516.\u001b[A\n",
      "Processed prompts:   3%| | 8/250 [00:18<03:58,  1.01it/s, est. speed input: 591.\u001b[A\n",
      "Processed prompts:   4%| | 9/250 [00:19<03:08,  1.28it/s, est. speed input: 647.\u001b[A\n",
      "Processed prompts:   4%| | 10/250 [00:19<02:32,  1.58it/s, est. speed input: 704\u001b[A\n",
      "Processed prompts:   5%| | 12/250 [00:20<01:57,  2.02it/s, est. speed input: 806\u001b[A\n",
      "Processed prompts:   5%| | 13/250 [00:20<01:45,  2.26it/s, est. speed input: 854\u001b[A\n",
      "Processed prompts:   6%| | 14/250 [00:21<01:50,  2.14it/s, est. speed input: 895\u001b[A\n",
      "Processed prompts:   7%| | 17/250 [00:21<01:08,  3.39it/s, est. speed input: 105\u001b[A\n",
      "Processed prompts:   7%| | 18/250 [00:21<01:05,  3.56it/s, est. speed input: 110\u001b[A\n",
      "Processed prompts:   8%| | 19/250 [00:22<01:26,  2.67it/s, est. speed input: 112\u001b[A\n",
      "Processed prompts:   8%| | 20/250 [00:22<01:21,  2.83it/s, est. speed input: 116\u001b[A\n",
      "Processed prompts:   8%| | 21/250 [00:23<01:28,  2.59it/s, est. speed input: 120\u001b[A\n",
      "Processed prompts:   9%| | 22/250 [00:23<01:22,  2.76it/s, est. speed input: 124\u001b[A\n",
      "Processed prompts:  10%| | 26/250 [00:23<00:50,  4.41it/s, est. speed input: 143\u001b[A\n",
      "Processed prompts:  11%| | 27/250 [00:24<00:50,  4.41it/s, est. speed input: 147\u001b[A\n",
      "Processed prompts:  12%| | 29/250 [00:24<00:45,  4.81it/s, est. speed input: 155\u001b[A\n",
      "Processed prompts:  12%| | 30/250 [00:25<01:11,  3.07it/s, est. speed input: 154\u001b[A\n",
      "Processed prompts:  12%| | 31/250 [00:25<01:12,  3.03it/s, est. speed input: 157\u001b[A\n",
      "Processed prompts:  13%|▏| 33/250 [00:26<01:03,  3.40it/s, est. speed input: 164\u001b[A\n",
      "Processed prompts:  14%|▏| 35/250 [00:26<01:03,  3.41it/s, est. speed input: 171\u001b[A\n",
      "Processed prompts:  15%|▏| 37/250 [00:27<01:06,  3.22it/s, est. speed input: 177\u001b[A\n",
      "Processed prompts:  15%|▏| 38/250 [00:27<01:04,  3.28it/s, est. speed input: 180\u001b[A\n",
      "Processed prompts:  16%|▏| 40/250 [00:28<00:51,  4.04it/s, est. speed input: 188\u001b[A\n",
      "Processed prompts:  16%|▏| 41/250 [00:28<00:50,  4.13it/s, est. speed input: 191\u001b[A\n",
      "Processed prompts:  17%|▏| 42/250 [00:28<00:49,  4.20it/s, est. speed input: 194\u001b[A\n",
      "Processed prompts:  17%|▏| 43/250 [00:28<01:00,  3.40it/s, est. speed input: 195\u001b[A\n",
      "Processed prompts:  18%|▏| 44/250 [00:29<01:16,  2.69it/s, est. speed input: 195\u001b[A\n",
      "Processed prompts:  18%|▏| 45/250 [00:29<01:12,  2.83it/s, est. speed input: 197\u001b[A\n",
      "Processed prompts:  18%|▏| 46/250 [00:30<01:08,  2.99it/s, est. speed input: 200\u001b[A\n",
      "Processed prompts:  20%|▏| 49/250 [00:30<00:54,  3.69it/s, est. speed input: 207\u001b[A\n",
      "Processed prompts:  20%|▏| 50/250 [00:31<00:57,  3.50it/s, est. speed input: 209\u001b[A\n",
      "Processed prompts:  20%|▏| 51/250 [00:31<01:02,  3.19it/s, est. speed input: 210\u001b[A\n",
      "Processed prompts:  21%|▏| 53/250 [00:32<00:57,  3.45it/s, est. speed input: 215\u001b[A\n",
      "Processed prompts:  22%|▏| 55/250 [00:32<01:08,  2.84it/s, est. speed input: 217\u001b[A\n",
      "Processed prompts:  22%|▏| 56/250 [00:33<01:04,  3.02it/s, est. speed input: 219\u001b[A\n",
      "Processed prompts:  23%|▏| 57/250 [00:33<00:58,  3.28it/s, est. speed input: 221\u001b[A\n",
      "Processed prompts:  23%|▏| 58/250 [00:33<00:57,  3.34it/s, est. speed input: 223\u001b[A\n",
      "Processed prompts:  24%|▏| 59/250 [00:34<00:59,  3.22it/s, est. speed input: 225\u001b[A\n",
      "Processed prompts:  24%|▏| 60/250 [00:34<00:54,  3.51it/s, est. speed input: 227\u001b[A\n",
      "Processed prompts:  24%|▏| 61/250 [00:34<01:03,  3.00it/s, est. speed input: 227\u001b[A\n",
      "Processed prompts:  25%|▎| 63/250 [00:34<00:44,  4.20it/s, est. speed input: 234\u001b[A\n",
      "Processed prompts:  26%|▎| 65/250 [00:35<00:46,  3.97it/s, est. speed input: 237\u001b[A\n",
      "Processed prompts:  27%|▎| 67/250 [00:36<00:53,  3.42it/s, est. speed input: 240\u001b[A\n",
      "Processed prompts:  28%|▎| 69/250 [00:36<00:54,  3.31it/s, est. speed input: 242\u001b[A\n",
      "Processed prompts:  28%|▎| 70/250 [00:37<01:02,  2.89it/s, est. speed input: 242\u001b[A\n",
      "Processed prompts:  29%|▎| 72/250 [00:37<00:57,  3.07it/s, est. speed input: 245\u001b[A\n",
      "Processed prompts:  30%|▎| 75/250 [00:38<00:40,  4.29it/s, est. speed input: 252\u001b[A\n",
      "Processed prompts:  30%|▎| 76/250 [00:38<00:46,  3.72it/s, est. speed input: 253\u001b[A\n",
      "Processed prompts:  31%|▎| 77/250 [00:39<00:47,  3.66it/s, est. speed input: 254\u001b[A\n",
      "Processed prompts:  31%|▎| 78/250 [00:39<00:49,  3.46it/s, est. speed input: 255\u001b[A\n",
      "Processed prompts:  32%|▎| 80/250 [00:39<00:46,  3.67it/s, est. speed input: 257\u001b[A\n",
      "Processed prompts:  33%|▎| 82/250 [00:40<00:47,  3.54it/s, est. speed input: 259\u001b[A\n",
      "Processed prompts:  33%|▎| 83/250 [00:41<00:58,  2.87it/s, est. speed input: 259\u001b[A\n",
      "Processed prompts:  34%|▎| 85/250 [00:41<00:52,  3.12it/s, est. speed input: 261\u001b[A\n",
      "Processed prompts:  35%|▎| 87/250 [00:42<00:47,  3.45it/s, est. speed input: 263\u001b[A\n",
      "Processed prompts:  36%|▎| 89/250 [00:42<00:36,  4.37it/s, est. speed input: 267\u001b[A\n",
      "Processed prompts:  36%|▎| 90/250 [00:42<00:36,  4.42it/s, est. speed input: 269\u001b[A\n",
      "Processed prompts:  36%|▎| 91/250 [00:42<00:35,  4.47it/s, est. speed input: 270\u001b[A\n",
      "Processed prompts:  37%|▎| 92/250 [00:43<00:42,  3.70it/s, est. speed input: 270\u001b[A\n",
      "Processed prompts:  37%|▎| 93/250 [00:43<00:47,  3.30it/s, est. speed input: 271\u001b[A\n",
      "Processed prompts:  38%|▍| 96/250 [00:44<00:43,  3.51it/s, est. speed input: 275\u001b[A\n",
      "Processed prompts:  39%|▍| 98/250 [00:44<00:39,  3.84it/s, est. speed input: 278\u001b[A\n",
      "Processed prompts:  40%|▍| 99/250 [00:45<00:37,  3.98it/s, est. speed input: 280\u001b[A\n",
      "Processed prompts:  41%|▍| 102/250 [00:45<00:34,  4.27it/s, est. speed input: 28\u001b[A\n",
      "Processed prompts:  42%|▍| 104/250 [00:46<00:33,  4.42it/s, est. speed input: 28\u001b[A\n",
      "Processed prompts:  42%|▍| 105/250 [00:46<00:34,  4.16it/s, est. speed input: 28\u001b[A\n",
      "Processed prompts:  42%|▍| 106/250 [00:46<00:33,  4.28it/s, est. speed input: 29\u001b[A\n",
      "Processed prompts:  43%|▍| 107/250 [00:46<00:35,  4.01it/s, est. speed input: 29\u001b[A\n",
      "Processed prompts:  44%|▍| 109/250 [00:47<00:27,  5.19it/s, est. speed input: 29\u001b[A\n",
      "Processed prompts:  44%|▍| 110/250 [00:47<00:35,  3.94it/s, est. speed input: 29\u001b[A\n",
      "Processed prompts:  45%|▍| 112/250 [00:47<00:27,  5.11it/s, est. speed input: 29\u001b[A\n",
      "Processed prompts:  45%|▍| 113/250 [00:48<00:32,  4.16it/s, est. speed input: 29\u001b[A\n",
      "Processed prompts:  46%|▍| 116/250 [00:48<00:24,  5.44it/s, est. speed input: 30\u001b[A\n",
      "Processed prompts:  47%|▍| 118/250 [00:49<00:38,  3.44it/s, est. speed input: 30\u001b[A\n",
      "Processed prompts:  48%|▍| 121/250 [00:50<00:33,  3.90it/s, est. speed input: 30\u001b[A\n",
      "Processed prompts:  49%|▍| 122/250 [00:50<00:34,  3.72it/s, est. speed input: 30\u001b[A\n",
      "Processed prompts:  49%|▍| 123/250 [00:50<00:34,  3.73it/s, est. speed input: 30\u001b[A\n",
      "Processed prompts:  50%|▍| 124/250 [00:51<00:35,  3.54it/s, est. speed input: 30\u001b[A\n",
      "Processed prompts:  50%|▌| 126/250 [00:51<00:28,  4.41it/s, est. speed input: 30\u001b[A\n",
      "Processed prompts:  51%|▌| 127/250 [00:51<00:36,  3.36it/s, est. speed input: 30\u001b[A\n",
      "Processed prompts:  51%|▌| 128/250 [00:52<00:35,  3.44it/s, est. speed input: 30\u001b[A\n",
      "Processed prompts:  52%|▌| 130/250 [00:52<00:32,  3.73it/s, est. speed input: 30\u001b[A\n",
      "Processed prompts:  53%|▌| 132/250 [00:53<00:26,  4.48it/s, est. speed input: 31\u001b[A\n",
      "Processed prompts:  53%|▌| 133/250 [00:53<00:31,  3.66it/s, est. speed input: 31\u001b[A\n",
      "Processed prompts:  54%|▌| 134/250 [00:53<00:31,  3.70it/s, est. speed input: 31\u001b[A\n",
      "Processed prompts:  54%|▌| 136/250 [00:54<00:30,  3.68it/s, est. speed input: 31\u001b[A\n",
      "Processed prompts:  55%|▌| 137/250 [00:54<00:35,  3.21it/s, est. speed input: 31\u001b[A\n",
      "Processed prompts:  56%|▌| 139/250 [00:54<00:25,  4.37it/s, est. speed input: 31\u001b[A\n",
      "Processed prompts:  56%|▌| 140/250 [00:55<00:24,  4.51it/s, est. speed input: 31\u001b[A\n",
      "Processed prompts:  57%|▌| 142/250 [00:55<00:28,  3.81it/s, est. speed input: 31\u001b[A\n",
      "Processed prompts:  57%|▌| 143/250 [00:55<00:24,  4.28it/s, est. speed input: 31\u001b[A\n",
      "Processed prompts:  58%|▌| 145/250 [00:56<00:17,  5.92it/s, est. speed input: 31\u001b[A\n",
      "Processed prompts:  59%|▌| 147/250 [00:56<00:14,  7.01it/s, est. speed input: 32\u001b[A\n",
      "Processed prompts:  60%|▌| 150/250 [00:56<00:10,  9.26it/s, est. speed input: 32\u001b[A\n",
      "Processed prompts:  61%|▌| 152/250 [00:56<00:12,  7.72it/s, est. speed input: 32\u001b[A\n",
      "Processed prompts:  62%|▌| 154/250 [00:56<00:11,  8.49it/s, est. speed input: 33\u001b[A\n",
      "Processed prompts:  64%|▋| 159/250 [00:57<00:06, 14.38it/s, est. speed input: 33\u001b[A\n",
      "Processed prompts:  65%|▋| 162/250 [00:57<00:05, 16.77it/s, est. speed input: 34\u001b[A\n",
      "Processed prompts:  66%|▋| 165/250 [00:57<00:04, 17.28it/s, est. speed input: 34\u001b[A\n",
      "Processed prompts:  67%|▋| 168/250 [00:57<00:05, 14.87it/s, est. speed input: 35\u001b[A\n",
      "Processed prompts:  68%|▋| 170/250 [00:57<00:05, 14.39it/s, est. speed input: 35\u001b[A\n",
      "Processed prompts:  69%|▋| 173/250 [00:58<00:05, 13.57it/s, est. speed input: 35\u001b[A\n",
      "Processed prompts:  70%|▋| 175/250 [00:58<00:05, 12.64it/s, est. speed input: 36\u001b[A\n",
      "Processed prompts:  71%|▋| 177/250 [00:58<00:06, 11.23it/s, est. speed input: 36\u001b[A\n",
      "Processed prompts:  72%|▋| 180/250 [00:58<00:06, 11.10it/s, est. speed input: 36\u001b[A\n",
      "Processed prompts:  73%|▋| 183/250 [00:58<00:05, 13.33it/s, est. speed input: 37\u001b[A\n",
      "Processed prompts:  74%|▋| 185/250 [00:59<00:05, 12.84it/s, est. speed input: 37\u001b[A\n",
      "Processed prompts:  75%|▋| 187/250 [00:59<00:04, 13.55it/s, est. speed input: 37\u001b[A\n",
      "Processed prompts:  76%|▊| 189/250 [00:59<00:04, 14.25it/s, est. speed input: 37\u001b[A\n",
      "Processed prompts:  77%|▊| 193/250 [00:59<00:02, 19.06it/s, est. speed input: 38\u001b[A\n",
      "Processed prompts:  78%|▊| 196/250 [00:59<00:02, 20.89it/s, est. speed input: 38\u001b[A\n",
      "Processed prompts:  80%|▊| 199/250 [00:59<00:02, 19.26it/s, est. speed input: 39\u001b[A\n",
      "Processed prompts:  81%|▊| 202/250 [00:59<00:02, 18.54it/s, est. speed input: 39\u001b[A\n",
      "Processed prompts:  82%|▊| 206/250 [01:00<00:02, 20.37it/s, est. speed input: 40\u001b[A\n",
      "Processed prompts:  84%|▊| 211/250 [01:00<00:01, 23.98it/s, est. speed input: 40\u001b[A\n",
      "Processed prompts:  86%|▊| 214/250 [01:00<00:01, 18.03it/s, est. speed input: 41\u001b[A\n",
      "Processed prompts:  87%|▊| 217/250 [01:00<00:01, 18.85it/s, est. speed input: 41\u001b[A\n",
      "Processed prompts:  88%|▉| 220/250 [01:00<00:01, 20.92it/s, est. speed input: 41\u001b[A\n",
      "Processed prompts:  89%|▉| 223/250 [01:00<00:01, 19.91it/s, est. speed input: 42\u001b[A\n",
      "Processed prompts:  91%|▉| 227/250 [01:01<00:01, 20.66it/s, est. speed input: 42\u001b[A\n",
      "Processed prompts:  92%|▉| 230/250 [01:01<00:00, 22.28it/s, est. speed input: 43\u001b[A\n",
      "Processed prompts:  93%|▉| 233/250 [01:01<00:00, 19.13it/s, est. speed input: 43\u001b[A\n",
      "Processed prompts:  94%|▉| 236/250 [01:01<00:00, 17.36it/s, est. speed input: 43\u001b[A\n",
      "Processed prompts:  96%|▉| 240/250 [01:01<00:00, 19.79it/s, est. speed input: 44\u001b[A\n",
      "Processed prompts:  98%|▉| 244/250 [01:02<00:00, 17.27it/s, est. speed input: 44\u001b[A\n",
      "Processed prompts:  99%|▉| 247/250 [01:02<00:00, 19.32it/s, est. speed input: 44\u001b[A\n",
      "Processed prompts: 100%|█| 250/250 [01:02<00:00, 12.59it/s, est. speed input: 45\u001b[A\n",
      "Processed prompts: 100%|█| 250/250 [01:02<00:00,  3.99it/s, est. speed input: 45\u001b[A\n",
      "Running generate_until requests: 100%|████████| 250/250 [01:02<00:00,  3.99it/s]\n",
      "2025-07-17:04:54:08,776 INFO     [evaluation_tracker.py:240] Output path not provided, skipping saving results aggregated\n",
      "vllm (pretrained=/opt/app-root/src/showroom-summit2025-lb2959-neural-magic/lab-materials/03/granite-3.2-2b-instruct-W4A16,add_bos_token=true,max_model_len=4096,gpu_memory_utilization=0.5,trust_remote_code=True), gen_kwargs: (None), limit: 250.0, num_fewshot: 5, batch_size: auto\n",
      "|Tasks|Version|     Filter     |n-shot|  Metric   |   |Value|   |Stderr|\n",
      "|-----|------:|----------------|-----:|-----------|---|----:|---|-----:|\n",
      "|gsm8k|      3|flexible-extract|     5|exact_match|↑  |0.620|±  |0.0308|\n",
      "|     |       |strict-match    |     5|exact_match|↑  |0.544|±  |0.0316|\n",
      "\n"
     ]
    }
   ],
   "source": [
    "import os\n",
    "\n",
    "current_dir = os.getcwd()\n",
    "\n",
    "MODEL_ID = current_dir + \"/granite-3.2-2b-instruct-W4A16\"\n",
    "\n",
    "!lm_eval --model vllm \\\n",
    "  --model_args \"pretrained=$MODEL_ID,add_bos_token=true,max_model_len=4096,gpu_memory_utilization=0.5\" \\\n",
    "  --trust_remote_code \\\n",
    "  --tasks gsm8k \\\n",
    "  --num_fewshot 5 \\\n",
    "  --limit 250 \\\n",
    "  --batch_size 'auto'"
   ]
  },
  {
   "cell_type": "markdown",
   "id": "5b570baf-46e1-46e9-b970-c3f156814a69",
   "metadata": {},
   "source": [
    "With powerful GPU(s), you could also run the vLLM based evals with the following - using higher GPU memory utilization and chunked prefill. \n",
    "```bash\n",
    "!lm_eval \\\n",
    "  --model vllm \\\n",
    "  --model_args pretrained=$SAVE_DIR,dtype=auto,add_bos_token=True,max_model_len=4096,tensor_parallel_size=1,gpu_memory_utilization=0.8,enable_chunked_prefill=True \\\n",
    "  --trust_remote_code \\\n",
    "  --tasks openllm \\\n",
    "  --write_out \\\n",
    "  --batch_size auto \\\n",
    "  --output_path output_dir \\\n",
    "  --show_config\n",
    "```"
   ]
  },
  {
   "cell_type": "markdown",
   "id": "e2aa2928-327f-4e81-90be-82623d3bd8a7",
   "metadata": {},
   "source": [
    "**Next Steps**: \n",
    "- How would you futher improve the accuacy of the model?\n",
    "- How would you go about preparing the right data set for a different use case?"
   ]
  },
  {
   "cell_type": "markdown",
   "id": "fb1a1582",
   "metadata": {},
   "source": [
    "### Optionally, upload the optimized model to MinIO"
   ]
  },
  {
   "cell_type": "code",
   "execution_count": 2,
   "id": "ceb1e422-0ea3-41df-97cd-36cbcf4e5520",
   "metadata": {},
   "outputs": [
    {
     "name": "stdout",
     "output_type": "stream",
     "text": [
      "Starting results upload.\n",
      "Uploading predictions to bucket models to S3 storage at http://minio-service.minio.svc.cluster.local:9000\n",
      "Uploaded /opt/app-root/src/showroom-summit2025-lb2959-neural-magic/lab-materials/03/granite-3.2-2b-instruct-W4A16/merges.txt\n",
      "Uploaded /opt/app-root/src/showroom-summit2025-lb2959-neural-magic/lab-materials/03/granite-3.2-2b-instruct-W4A16/model.safetensors\n",
      "Uploaded /opt/app-root/src/showroom-summit2025-lb2959-neural-magic/lab-materials/03/granite-3.2-2b-instruct-W4A16/added_tokens.json\n",
      "Uploaded /opt/app-root/src/showroom-summit2025-lb2959-neural-magic/lab-materials/03/granite-3.2-2b-instruct-W4A16/tokenizer_config.json\n",
      "Uploaded /opt/app-root/src/showroom-summit2025-lb2959-neural-magic/lab-materials/03/granite-3.2-2b-instruct-W4A16/chat_template.jinja\n",
      "Uploaded /opt/app-root/src/showroom-summit2025-lb2959-neural-magic/lab-materials/03/granite-3.2-2b-instruct-W4A16/config.json\n",
      "Uploaded /opt/app-root/src/showroom-summit2025-lb2959-neural-magic/lab-materials/03/granite-3.2-2b-instruct-W4A16/special_tokens_map.json\n",
      "Uploaded /opt/app-root/src/showroom-summit2025-lb2959-neural-magic/lab-materials/03/granite-3.2-2b-instruct-W4A16/vocab.json\n",
      "Uploaded /opt/app-root/src/showroom-summit2025-lb2959-neural-magic/lab-materials/03/granite-3.2-2b-instruct-W4A16/recipe.yaml\n",
      "Uploaded /opt/app-root/src/showroom-summit2025-lb2959-neural-magic/lab-materials/03/granite-3.2-2b-instruct-W4A16/generation_config.json\n",
      "Uploaded /opt/app-root/src/showroom-summit2025-lb2959-neural-magic/lab-materials/03/granite-3.2-2b-instruct-W4A16/tokenizer.json\n",
      "Finished uploading results.\n"
     ]
    }
   ],
   "source": [
    "import os\n",
    "from boto3 import client\n",
    "\n",
    "current_dir = os.getcwd()\n",
    "OPTIMIZED_MODEL_DIR = current_dir + \"/granite-3.2-2b-instruct-W4A16\"\n",
    "S3_PATH = \"granite-int4-notebook\"\n",
    "\n",
    "print('Starting upload of quantizied model')\n",
    "s3_endpoint_url = os.environ[\"AWS_S3_ENDPOINT\"]\n",
    "s3_access_key = os.environ[\"AWS_ACCESS_KEY_ID\"]\n",
    "s3_secret_key = os.environ[\"AWS_SECRET_ACCESS_KEY\"]\n",
    "s3_bucket_name = os.environ[\"AWS_S3_BUCKET\"]\n",
    "\n",
    "print(f'Uploading predictions to bucket {s3_bucket_name} '\n",
    "        f'to S3 storage at {s3_endpoint_url}')\n",
    "\n",
    "s3_client = client(\n",
    "    's3', endpoint_url=s3_endpoint_url, aws_access_key_id=s3_access_key,\n",
    "    aws_secret_access_key=s3_secret_key, verify=False\n",
    ")\n",
    "\n",
    "# Walk through the local folder and upload files\n",
    "for root, dirs, files in os.walk(OPTIMIZED_MODEL_DIR):\n",
    "    for file in files:\n",
    "        local_file_path = os.path.join(root, file)\n",
    "        s3_file_path = os.path.join(S3_PATH, local_file_path[len(OPTIMIZED_MODEL_DIR)+1:])\n",
    "        s3_client.upload_file(local_file_path, s3_bucket_name, s3_file_path)\n",
    "        print(f'Uploaded {local_file_path}')\n",
    "\n",
    "print('Finished uploading of quantizied model')"
   ]
  },
  {
   "cell_type": "code",
   "execution_count": null,
   "id": "5821fd9d-56a6-4077-89d9-4ef3d560465d",
   "metadata": {},
   "outputs": [],
   "source": []
  }
 ],
 "metadata": {
  "kernelspec": {
   "display_name": "Python 3.11",
   "language": "python",
   "name": "python3"
  },
  "language_info": {
   "codemirror_mode": {
    "name": "ipython",
    "version": 3
   },
   "file_extension": ".py",
   "mimetype": "text/x-python",
   "name": "python",
   "nbconvert_exporter": "python",
   "pygments_lexer": "ipython3",
   "version": "3.11.9"
  }
 },
 "nbformat": 4,
 "nbformat_minor": 5
}
